{
 "cells": [
  {
   "cell_type": "markdown",
   "id": "40a9db16",
   "metadata": {},
   "source": [
    "#### 1. Import the necessary libraries."
   ]
  },
  {
   "cell_type": "code",
   "execution_count": 1,
   "id": "7c94a292",
   "metadata": {},
   "outputs": [],
   "source": [
    "import pandas as pd\n",
    "import numpy as np\n",
    "import seaborn as sns\n",
    "import matplotlib.pyplot as plt\n",
    "from datetime import date"
   ]
  },
  {
   "cell_type": "markdown",
   "id": "1a1eb9df",
   "metadata": {},
   "source": [
    "#### 2. Load the we_fn_use_c_marketing_customer_value_analysis.csv into the variable customer_df\n",
    "#### 3. First look at its main features (head, shape, info)."
   ]
  },
  {
   "cell_type": "code",
   "execution_count": 2,
   "id": "a4462729",
   "metadata": {},
   "outputs": [
    {
     "data": {
      "text/html": [
       "<div>\n",
       "<style scoped>\n",
       "    .dataframe tbody tr th:only-of-type {\n",
       "        vertical-align: middle;\n",
       "    }\n",
       "\n",
       "    .dataframe tbody tr th {\n",
       "        vertical-align: top;\n",
       "    }\n",
       "\n",
       "    .dataframe thead th {\n",
       "        text-align: right;\n",
       "    }\n",
       "</style>\n",
       "<table border=\"1\" class=\"dataframe\">\n",
       "  <thead>\n",
       "    <tr style=\"text-align: right;\">\n",
       "      <th></th>\n",
       "      <th>Customer</th>\n",
       "      <th>State</th>\n",
       "      <th>Customer Lifetime Value</th>\n",
       "      <th>Response</th>\n",
       "      <th>Coverage</th>\n",
       "      <th>Education</th>\n",
       "      <th>Effective To Date</th>\n",
       "      <th>EmploymentStatus</th>\n",
       "      <th>Gender</th>\n",
       "      <th>Income</th>\n",
       "      <th>...</th>\n",
       "      <th>Months Since Policy Inception</th>\n",
       "      <th>Number of Open Complaints</th>\n",
       "      <th>Number of Policies</th>\n",
       "      <th>Policy Type</th>\n",
       "      <th>Policy</th>\n",
       "      <th>Renew Offer Type</th>\n",
       "      <th>Sales Channel</th>\n",
       "      <th>Total Claim Amount</th>\n",
       "      <th>Vehicle Class</th>\n",
       "      <th>Vehicle Size</th>\n",
       "    </tr>\n",
       "  </thead>\n",
       "  <tbody>\n",
       "    <tr>\n",
       "      <th>0</th>\n",
       "      <td>BU79786</td>\n",
       "      <td>Washington</td>\n",
       "      <td>2763.519279</td>\n",
       "      <td>No</td>\n",
       "      <td>Basic</td>\n",
       "      <td>Bachelor</td>\n",
       "      <td>2/24/11</td>\n",
       "      <td>Employed</td>\n",
       "      <td>F</td>\n",
       "      <td>56274</td>\n",
       "      <td>...</td>\n",
       "      <td>5</td>\n",
       "      <td>0</td>\n",
       "      <td>1</td>\n",
       "      <td>Corporate Auto</td>\n",
       "      <td>Corporate L3</td>\n",
       "      <td>Offer1</td>\n",
       "      <td>Agent</td>\n",
       "      <td>384.811147</td>\n",
       "      <td>Two-Door Car</td>\n",
       "      <td>Medsize</td>\n",
       "    </tr>\n",
       "    <tr>\n",
       "      <th>1</th>\n",
       "      <td>QZ44356</td>\n",
       "      <td>Arizona</td>\n",
       "      <td>6979.535903</td>\n",
       "      <td>No</td>\n",
       "      <td>Extended</td>\n",
       "      <td>Bachelor</td>\n",
       "      <td>1/31/11</td>\n",
       "      <td>Unemployed</td>\n",
       "      <td>F</td>\n",
       "      <td>0</td>\n",
       "      <td>...</td>\n",
       "      <td>42</td>\n",
       "      <td>0</td>\n",
       "      <td>8</td>\n",
       "      <td>Personal Auto</td>\n",
       "      <td>Personal L3</td>\n",
       "      <td>Offer3</td>\n",
       "      <td>Agent</td>\n",
       "      <td>1131.464935</td>\n",
       "      <td>Four-Door Car</td>\n",
       "      <td>Medsize</td>\n",
       "    </tr>\n",
       "    <tr>\n",
       "      <th>2</th>\n",
       "      <td>AI49188</td>\n",
       "      <td>Nevada</td>\n",
       "      <td>12887.431650</td>\n",
       "      <td>No</td>\n",
       "      <td>Premium</td>\n",
       "      <td>Bachelor</td>\n",
       "      <td>2/19/11</td>\n",
       "      <td>Employed</td>\n",
       "      <td>F</td>\n",
       "      <td>48767</td>\n",
       "      <td>...</td>\n",
       "      <td>38</td>\n",
       "      <td>0</td>\n",
       "      <td>2</td>\n",
       "      <td>Personal Auto</td>\n",
       "      <td>Personal L3</td>\n",
       "      <td>Offer1</td>\n",
       "      <td>Agent</td>\n",
       "      <td>566.472247</td>\n",
       "      <td>Two-Door Car</td>\n",
       "      <td>Medsize</td>\n",
       "    </tr>\n",
       "    <tr>\n",
       "      <th>3</th>\n",
       "      <td>WW63253</td>\n",
       "      <td>California</td>\n",
       "      <td>7645.861827</td>\n",
       "      <td>No</td>\n",
       "      <td>Basic</td>\n",
       "      <td>Bachelor</td>\n",
       "      <td>1/20/11</td>\n",
       "      <td>Unemployed</td>\n",
       "      <td>M</td>\n",
       "      <td>0</td>\n",
       "      <td>...</td>\n",
       "      <td>65</td>\n",
       "      <td>0</td>\n",
       "      <td>7</td>\n",
       "      <td>Corporate Auto</td>\n",
       "      <td>Corporate L2</td>\n",
       "      <td>Offer1</td>\n",
       "      <td>Call Center</td>\n",
       "      <td>529.881344</td>\n",
       "      <td>SUV</td>\n",
       "      <td>Medsize</td>\n",
       "    </tr>\n",
       "    <tr>\n",
       "      <th>4</th>\n",
       "      <td>HB64268</td>\n",
       "      <td>Washington</td>\n",
       "      <td>2813.692575</td>\n",
       "      <td>No</td>\n",
       "      <td>Basic</td>\n",
       "      <td>Bachelor</td>\n",
       "      <td>2/3/11</td>\n",
       "      <td>Employed</td>\n",
       "      <td>M</td>\n",
       "      <td>43836</td>\n",
       "      <td>...</td>\n",
       "      <td>44</td>\n",
       "      <td>0</td>\n",
       "      <td>1</td>\n",
       "      <td>Personal Auto</td>\n",
       "      <td>Personal L1</td>\n",
       "      <td>Offer1</td>\n",
       "      <td>Agent</td>\n",
       "      <td>138.130879</td>\n",
       "      <td>Four-Door Car</td>\n",
       "      <td>Medsize</td>\n",
       "    </tr>\n",
       "  </tbody>\n",
       "</table>\n",
       "<p>5 rows × 24 columns</p>\n",
       "</div>"
      ],
      "text/plain": [
       "  Customer       State  Customer Lifetime Value Response  Coverage Education  \\\n",
       "0  BU79786  Washington              2763.519279       No     Basic  Bachelor   \n",
       "1  QZ44356     Arizona              6979.535903       No  Extended  Bachelor   \n",
       "2  AI49188      Nevada             12887.431650       No   Premium  Bachelor   \n",
       "3  WW63253  California              7645.861827       No     Basic  Bachelor   \n",
       "4  HB64268  Washington              2813.692575       No     Basic  Bachelor   \n",
       "\n",
       "  Effective To Date EmploymentStatus Gender  Income  ...  \\\n",
       "0           2/24/11         Employed      F   56274  ...   \n",
       "1           1/31/11       Unemployed      F       0  ...   \n",
       "2           2/19/11         Employed      F   48767  ...   \n",
       "3           1/20/11       Unemployed      M       0  ...   \n",
       "4            2/3/11         Employed      M   43836  ...   \n",
       "\n",
       "  Months Since Policy Inception Number of Open Complaints  Number of Policies  \\\n",
       "0                             5                         0                   1   \n",
       "1                            42                         0                   8   \n",
       "2                            38                         0                   2   \n",
       "3                            65                         0                   7   \n",
       "4                            44                         0                   1   \n",
       "\n",
       "      Policy Type        Policy  Renew Offer Type  Sales Channel  \\\n",
       "0  Corporate Auto  Corporate L3            Offer1          Agent   \n",
       "1   Personal Auto   Personal L3            Offer3          Agent   \n",
       "2   Personal Auto   Personal L3            Offer1          Agent   \n",
       "3  Corporate Auto  Corporate L2            Offer1    Call Center   \n",
       "4   Personal Auto   Personal L1            Offer1          Agent   \n",
       "\n",
       "  Total Claim Amount  Vehicle Class Vehicle Size  \n",
       "0         384.811147   Two-Door Car      Medsize  \n",
       "1        1131.464935  Four-Door Car      Medsize  \n",
       "2         566.472247   Two-Door Car      Medsize  \n",
       "3         529.881344            SUV      Medsize  \n",
       "4         138.130879  Four-Door Car      Medsize  \n",
       "\n",
       "[5 rows x 24 columns]"
      ]
     },
     "metadata": {},
     "output_type": "display_data"
    },
    {
     "name": "stdout",
     "output_type": "stream",
     "text": [
      "(9134, 24)\n"
     ]
    }
   ],
   "source": [
    "#Load the we_fn_use_c_marketing_customer_value_analysis.csv into the variable customer_df\n",
    "#First look at its main features (head, shape, info).\n",
    "customer_df = pd.read_csv('we_fn_use_c_marketing_customer_value_analysis.csv')\n",
    "display(customer_df.head())\n",
    "print(customer_df.shape)"
   ]
  },
  {
   "cell_type": "code",
   "execution_count": 3,
   "id": "821d79ec",
   "metadata": {},
   "outputs": [
    {
     "name": "stdout",
     "output_type": "stream",
     "text": [
      "<class 'pandas.core.frame.DataFrame'>\n",
      "RangeIndex: 9134 entries, 0 to 9133\n",
      "Data columns (total 24 columns):\n",
      " #   Column                         Non-Null Count  Dtype  \n",
      "---  ------                         --------------  -----  \n",
      " 0   Customer                       9134 non-null   object \n",
      " 1   State                          9134 non-null   object \n",
      " 2   Customer Lifetime Value        9134 non-null   float64\n",
      " 3   Response                       9134 non-null   object \n",
      " 4   Coverage                       9134 non-null   object \n",
      " 5   Education                      9134 non-null   object \n",
      " 6   Effective To Date              9134 non-null   object \n",
      " 7   EmploymentStatus               9134 non-null   object \n",
      " 8   Gender                         9134 non-null   object \n",
      " 9   Income                         9134 non-null   int64  \n",
      " 10  Location Code                  9134 non-null   object \n",
      " 11  Marital Status                 9134 non-null   object \n",
      " 12  Monthly Premium Auto           9134 non-null   int64  \n",
      " 13  Months Since Last Claim        9134 non-null   int64  \n",
      " 14  Months Since Policy Inception  9134 non-null   int64  \n",
      " 15  Number of Open Complaints      9134 non-null   int64  \n",
      " 16  Number of Policies             9134 non-null   int64  \n",
      " 17  Policy Type                    9134 non-null   object \n",
      " 18  Policy                         9134 non-null   object \n",
      " 19  Renew Offer Type               9134 non-null   object \n",
      " 20  Sales Channel                  9134 non-null   object \n",
      " 21  Total Claim Amount             9134 non-null   float64\n",
      " 22  Vehicle Class                  9134 non-null   object \n",
      " 23  Vehicle Size                   9134 non-null   object \n",
      "dtypes: float64(2), int64(6), object(16)\n",
      "memory usage: 1.7+ MB\n"
     ]
    }
   ],
   "source": [
    "customer_df.info()"
   ]
  },
  {
   "cell_type": "markdown",
   "id": "c72bfb4d",
   "metadata": {},
   "source": [
    "#### 4. Rename the columns so they follow the PE8 (snake case) (lower_case_with_underscores) lower case the column, and put _ between words"
   ]
  },
  {
   "cell_type": "code",
   "execution_count": 4,
   "id": "c163973f",
   "metadata": {},
   "outputs": [],
   "source": [
    "customer_df.columns = [e.lower().replace(' ', '_') for e in customer_df.columns]\n",
    "customer_df = customer_df.rename(columns={'employmentstatus':'employment_status'})"
   ]
  },
  {
   "cell_type": "markdown",
   "id": "9716eccb",
   "metadata": {},
   "source": [
    "#### 5. Change effective to date column to datetime format."
   ]
  },
  {
   "cell_type": "code",
   "execution_count": 5,
   "id": "360657c5",
   "metadata": {},
   "outputs": [],
   "source": [
    "customer_df['effective_to_date'] = pd.to_datetime(customer_df['effective_to_date'], errors='coerce')"
   ]
  },
  {
   "cell_type": "markdown",
   "id": "dc0047f1",
   "metadata": {},
   "source": [
    "##### additional checks"
   ]
  },
  {
   "cell_type": "code",
   "execution_count": 6,
   "id": "459030b8",
   "metadata": {},
   "outputs": [
    {
     "data": {
      "text/plain": [
       "customer                         0\n",
       "state                            0\n",
       "customer_lifetime_value          0\n",
       "response                         0\n",
       "coverage                         0\n",
       "education                        0\n",
       "effective_to_date                0\n",
       "employment_status                0\n",
       "gender                           0\n",
       "income                           0\n",
       "location_code                    0\n",
       "marital_status                   0\n",
       "monthly_premium_auto             0\n",
       "months_since_last_claim          0\n",
       "months_since_policy_inception    0\n",
       "number_of_open_complaints        0\n",
       "number_of_policies               0\n",
       "policy_type                      0\n",
       "policy                           0\n",
       "renew_offer_type                 0\n",
       "sales_channel                    0\n",
       "total_claim_amount               0\n",
       "vehicle_class                    0\n",
       "vehicle_size                     0\n",
       "dtype: int64"
      ]
     },
     "execution_count": 6,
     "metadata": {},
     "output_type": "execute_result"
    }
   ],
   "source": [
    "# checking Nan values\n",
    "customer_df.isna().sum()"
   ]
  },
  {
   "cell_type": "code",
   "execution_count": 7,
   "id": "c25c0fd9",
   "metadata": {},
   "outputs": [
    {
     "data": {
      "text/plain": [
       "0"
      ]
     },
     "execution_count": 7,
     "metadata": {},
     "output_type": "execute_result"
    }
   ],
   "source": [
    "# checking duplicate rows\n",
    "sum(customer_df.duplicated())"
   ]
  },
  {
   "cell_type": "markdown",
   "id": "f4035198",
   "metadata": {},
   "source": [
    "#### 6. Define a function that differentiates between continuous and discrete variables. Hint: The number of unique values might be useful. Store continuous data into a continuous_df variable and do the same for discrete_df"
   ]
  },
  {
   "cell_type": "markdown",
   "id": "ccb33ddd",
   "metadata": {},
   "source": [
    "Now numerical values"
   ]
  },
  {
   "cell_type": "code",
   "execution_count": 8,
   "id": "53730b53",
   "metadata": {},
   "outputs": [],
   "source": [
    "customer_df_num = customer_df.select_dtypes(include = ['float64', 'int64'])"
   ]
  },
  {
   "cell_type": "code",
   "execution_count": 9,
   "id": "606900aa",
   "metadata": {},
   "outputs": [
    {
     "data": {
      "text/plain": [
       "customer_lifetime_value          8041\n",
       "income                           5694\n",
       "monthly_premium_auto              202\n",
       "months_since_last_claim            36\n",
       "months_since_policy_inception     100\n",
       "number_of_open_complaints           6\n",
       "number_of_policies                  9\n",
       "total_claim_amount               5106\n",
       "dtype: int64"
      ]
     },
     "execution_count": 9,
     "metadata": {},
     "output_type": "execute_result"
    }
   ],
   "source": [
    "# count of unique values in each column\n",
    "#print(customer_df_num.nunique())\n",
    "# for now continuous -> ['customer_lifetime_value'], ['income'], ['total_claim_amount'] \n",
    "customer_df_num.nunique()"
   ]
  },
  {
   "cell_type": "code",
   "execution_count": 10,
   "id": "ca156343",
   "metadata": {},
   "outputs": [],
   "source": [
    "# discrete -->> \n",
    "#['months_since_policy_inception'], ['number_of_policies'],['number_of_open_complaints'],['monthly_premium_auto'], ['months_since_last_claim']\n",
    "#np.sort(customer_df_num['monthly_premium_auto'].unique())\n",
    "#np.sort(customer_df_num['months_since_policy_inception'].unique())\n",
    "# I decided 202 and 100 unique value counts must be discrete, they are less than 3% of the column values"
   ]
  },
  {
   "cell_type": "code",
   "execution_count": 11,
   "id": "cf88b30d",
   "metadata": {},
   "outputs": [
    {
     "data": {
      "text/html": [
       "<div>\n",
       "<style scoped>\n",
       "    .dataframe tbody tr th:only-of-type {\n",
       "        vertical-align: middle;\n",
       "    }\n",
       "\n",
       "    .dataframe tbody tr th {\n",
       "        vertical-align: top;\n",
       "    }\n",
       "\n",
       "    .dataframe thead th {\n",
       "        text-align: right;\n",
       "    }\n",
       "</style>\n",
       "<table border=\"1\" class=\"dataframe\">\n",
       "  <thead>\n",
       "    <tr style=\"text-align: right;\">\n",
       "      <th></th>\n",
       "      <th>header_name</th>\n",
       "      <th>percent_uniques</th>\n",
       "    </tr>\n",
       "  </thead>\n",
       "  <tbody>\n",
       "    <tr>\n",
       "      <th>0</th>\n",
       "      <td>customer_lifetime_value</td>\n",
       "      <td>88.03</td>\n",
       "    </tr>\n",
       "    <tr>\n",
       "      <th>1</th>\n",
       "      <td>income</td>\n",
       "      <td>62.34</td>\n",
       "    </tr>\n",
       "    <tr>\n",
       "      <th>2</th>\n",
       "      <td>monthly_premium_auto</td>\n",
       "      <td>2.21</td>\n",
       "    </tr>\n",
       "    <tr>\n",
       "      <th>3</th>\n",
       "      <td>months_since_last_claim</td>\n",
       "      <td>0.39</td>\n",
       "    </tr>\n",
       "    <tr>\n",
       "      <th>4</th>\n",
       "      <td>months_since_policy_inception</td>\n",
       "      <td>1.09</td>\n",
       "    </tr>\n",
       "    <tr>\n",
       "      <th>5</th>\n",
       "      <td>number_of_open_complaints</td>\n",
       "      <td>0.07</td>\n",
       "    </tr>\n",
       "    <tr>\n",
       "      <th>6</th>\n",
       "      <td>number_of_policies</td>\n",
       "      <td>0.10</td>\n",
       "    </tr>\n",
       "    <tr>\n",
       "      <th>7</th>\n",
       "      <td>total_claim_amount</td>\n",
       "      <td>55.90</td>\n",
       "    </tr>\n",
       "  </tbody>\n",
       "</table>\n",
       "</div>"
      ],
      "text/plain": [
       "                     header_name  percent_uniques\n",
       "0        customer_lifetime_value            88.03\n",
       "1                         income            62.34\n",
       "2           monthly_premium_auto             2.21\n",
       "3        months_since_last_claim             0.39\n",
       "4  months_since_policy_inception             1.09\n",
       "5      number_of_open_complaints             0.07\n",
       "6             number_of_policies             0.10\n",
       "7             total_claim_amount            55.90"
      ]
     },
     "execution_count": 11,
     "metadata": {},
     "output_type": "execute_result"
    }
   ],
   "source": [
    "# shows the percentage of unique values in a column\n",
    "round(customer_df_num.nunique()/len(customer_df_num),4)*100  \n",
    "uniques = pd.DataFrame(round(customer_df_num.nunique()/len(customer_df_num),4)*100)\n",
    "uniques = uniques.reset_index()\n",
    "uniques.columns = ['header_name', 'percent_uniques']\n",
    "uniques.head(10)"
   ]
  },
  {
   "cell_type": "code",
   "execution_count": 12,
   "id": "16eacfaa",
   "metadata": {},
   "outputs": [
    {
     "name": "stdout",
     "output_type": "stream",
     "text": [
      "['customer_lifetime_value' 'income' 'total_claim_amount']\n",
      "['monthly_premium_auto' 'months_since_last_claim'\n",
      " 'months_since_policy_inception' 'number_of_open_complaints'\n",
      " 'number_of_policies']\n"
     ]
    }
   ],
   "source": [
    "#shows more than 3 percent\n",
    "continuous_df_cols = uniques[uniques['percent_uniques']>10]['header_name']  \n",
    "discrete_df_cols = uniques[uniques['percent_uniques']<=10]['header_name'] \n",
    "print(continuous_df_cols.values)\n",
    "print(discrete_df_cols.values)"
   ]
  },
  {
   "cell_type": "code",
   "execution_count": 13,
   "id": "26cb8a2a",
   "metadata": {},
   "outputs": [
    {
     "data": {
      "text/html": [
       "<div>\n",
       "<style scoped>\n",
       "    .dataframe tbody tr th:only-of-type {\n",
       "        vertical-align: middle;\n",
       "    }\n",
       "\n",
       "    .dataframe tbody tr th {\n",
       "        vertical-align: top;\n",
       "    }\n",
       "\n",
       "    .dataframe thead th {\n",
       "        text-align: right;\n",
       "    }\n",
       "</style>\n",
       "<table border=\"1\" class=\"dataframe\">\n",
       "  <thead>\n",
       "    <tr style=\"text-align: right;\">\n",
       "      <th></th>\n",
       "      <th>monthly_premium_auto</th>\n",
       "      <th>months_since_last_claim</th>\n",
       "      <th>months_since_policy_inception</th>\n",
       "      <th>number_of_open_complaints</th>\n",
       "      <th>number_of_policies</th>\n",
       "    </tr>\n",
       "  </thead>\n",
       "  <tbody>\n",
       "    <tr>\n",
       "      <th>0</th>\n",
       "      <td>69</td>\n",
       "      <td>32</td>\n",
       "      <td>5</td>\n",
       "      <td>0</td>\n",
       "      <td>1</td>\n",
       "    </tr>\n",
       "    <tr>\n",
       "      <th>1</th>\n",
       "      <td>94</td>\n",
       "      <td>13</td>\n",
       "      <td>42</td>\n",
       "      <td>0</td>\n",
       "      <td>8</td>\n",
       "    </tr>\n",
       "    <tr>\n",
       "      <th>2</th>\n",
       "      <td>108</td>\n",
       "      <td>18</td>\n",
       "      <td>38</td>\n",
       "      <td>0</td>\n",
       "      <td>2</td>\n",
       "    </tr>\n",
       "    <tr>\n",
       "      <th>3</th>\n",
       "      <td>106</td>\n",
       "      <td>18</td>\n",
       "      <td>65</td>\n",
       "      <td>0</td>\n",
       "      <td>7</td>\n",
       "    </tr>\n",
       "    <tr>\n",
       "      <th>4</th>\n",
       "      <td>73</td>\n",
       "      <td>12</td>\n",
       "      <td>44</td>\n",
       "      <td>0</td>\n",
       "      <td>1</td>\n",
       "    </tr>\n",
       "  </tbody>\n",
       "</table>\n",
       "</div>"
      ],
      "text/plain": [
       "   monthly_premium_auto  months_since_last_claim  \\\n",
       "0                    69                       32   \n",
       "1                    94                       13   \n",
       "2                   108                       18   \n",
       "3                   106                       18   \n",
       "4                    73                       12   \n",
       "\n",
       "   months_since_policy_inception  number_of_open_complaints  \\\n",
       "0                              5                          0   \n",
       "1                             42                          0   \n",
       "2                             38                          0   \n",
       "3                             65                          0   \n",
       "4                             44                          0   \n",
       "\n",
       "   number_of_policies  \n",
       "0                   1  \n",
       "1                   8  \n",
       "2                   2  \n",
       "3                   7  \n",
       "4                   1  "
      ]
     },
     "metadata": {},
     "output_type": "display_data"
    },
    {
     "data": {
      "text/html": [
       "<div>\n",
       "<style scoped>\n",
       "    .dataframe tbody tr th:only-of-type {\n",
       "        vertical-align: middle;\n",
       "    }\n",
       "\n",
       "    .dataframe tbody tr th {\n",
       "        vertical-align: top;\n",
       "    }\n",
       "\n",
       "    .dataframe thead th {\n",
       "        text-align: right;\n",
       "    }\n",
       "</style>\n",
       "<table border=\"1\" class=\"dataframe\">\n",
       "  <thead>\n",
       "    <tr style=\"text-align: right;\">\n",
       "      <th></th>\n",
       "      <th>customer_lifetime_value</th>\n",
       "      <th>income</th>\n",
       "      <th>total_claim_amount</th>\n",
       "    </tr>\n",
       "  </thead>\n",
       "  <tbody>\n",
       "    <tr>\n",
       "      <th>0</th>\n",
       "      <td>2763.519279</td>\n",
       "      <td>56274</td>\n",
       "      <td>384.811147</td>\n",
       "    </tr>\n",
       "    <tr>\n",
       "      <th>1</th>\n",
       "      <td>6979.535903</td>\n",
       "      <td>0</td>\n",
       "      <td>1131.464935</td>\n",
       "    </tr>\n",
       "    <tr>\n",
       "      <th>2</th>\n",
       "      <td>12887.431650</td>\n",
       "      <td>48767</td>\n",
       "      <td>566.472247</td>\n",
       "    </tr>\n",
       "    <tr>\n",
       "      <th>3</th>\n",
       "      <td>7645.861827</td>\n",
       "      <td>0</td>\n",
       "      <td>529.881344</td>\n",
       "    </tr>\n",
       "    <tr>\n",
       "      <th>4</th>\n",
       "      <td>2813.692575</td>\n",
       "      <td>43836</td>\n",
       "      <td>138.130879</td>\n",
       "    </tr>\n",
       "  </tbody>\n",
       "</table>\n",
       "</div>"
      ],
      "text/plain": [
       "   customer_lifetime_value  income  total_claim_amount\n",
       "0              2763.519279   56274          384.811147\n",
       "1              6979.535903       0         1131.464935\n",
       "2             12887.431650   48767          566.472247\n",
       "3              7645.861827       0          529.881344\n",
       "4              2813.692575   43836          138.130879"
      ]
     },
     "metadata": {},
     "output_type": "display_data"
    }
   ],
   "source": [
    "continuous_df = customer_df_num.drop(columns=discrete_df_cols, axis=1)\n",
    "discrete_df = customer_df_num.drop(columns=continuous_df_cols, axis=1)\n",
    "display(discrete_df.head())\n",
    "display(continuous_df.head())"
   ]
  },
  {
   "cell_type": "markdown",
   "id": "1cc1dc08",
   "metadata": {},
   "source": [
    "### function"
   ]
  },
  {
   "cell_type": "markdown",
   "id": "0751606f",
   "metadata": {},
   "source": [
    "#### I decided, if a column contains more than %10 uniques values, it can be continuous data,\n",
    "#### there are 3 columns having more than %50 unique values already\n",
    "#### for the discrete data, I thought less than %10 unique values"
   ]
  },
  {
   "cell_type": "code",
   "execution_count": 14,
   "id": "997c0f1e",
   "metadata": {},
   "outputs": [],
   "source": [
    "def uniques(df):\n",
    "\n",
    "    #pull the numeric columns of the dataframe\n",
    "    df_num = df.select_dtypes(include = ['float64', 'int64'])\n",
    "\n",
    "    # shows the percentage of unique values in a column\n",
    "    round(df_num.nunique()/len(df_num),4)*100  \n",
    "    uniques = pd.DataFrame(round(df_num.nunique()/len(df_num),4)*100)\n",
    "    uniques = uniques.reset_index()\n",
    "    uniques.columns = ['header_name', 'percent_uniques']\n",
    "\n",
    "    # splitting from %3 percent of unique values\n",
    "    continuous_df_cols = uniques[uniques['percent_uniques']>10]['header_name']  \n",
    "    discrete_df_cols = uniques[uniques['percent_uniques']<=10]['header_name'] \n",
    "\n",
    "    # print discrete and continuous columns\n",
    "    continuous_df = df_num.drop(columns=discrete_df_cols, axis=1)\n",
    "    discrete_df = df_num.drop(columns=continuous_df_cols, axis=1)\n",
    "    \n",
    "\n",
    "    return discrete_df, continuous_df\n",
    "\n",
    "discrete_df, continuous_df = uniques(customer_df_num)"
   ]
  },
  {
   "cell_type": "code",
   "execution_count": 15,
   "id": "0a0077bf",
   "metadata": {},
   "outputs": [
    {
     "data": {
      "text/html": [
       "<div>\n",
       "<style scoped>\n",
       "    .dataframe tbody tr th:only-of-type {\n",
       "        vertical-align: middle;\n",
       "    }\n",
       "\n",
       "    .dataframe tbody tr th {\n",
       "        vertical-align: top;\n",
       "    }\n",
       "\n",
       "    .dataframe thead th {\n",
       "        text-align: right;\n",
       "    }\n",
       "</style>\n",
       "<table border=\"1\" class=\"dataframe\">\n",
       "  <thead>\n",
       "    <tr style=\"text-align: right;\">\n",
       "      <th></th>\n",
       "      <th>monthly_premium_auto</th>\n",
       "      <th>months_since_last_claim</th>\n",
       "      <th>months_since_policy_inception</th>\n",
       "      <th>number_of_open_complaints</th>\n",
       "      <th>number_of_policies</th>\n",
       "    </tr>\n",
       "  </thead>\n",
       "  <tbody>\n",
       "    <tr>\n",
       "      <th>0</th>\n",
       "      <td>69</td>\n",
       "      <td>32</td>\n",
       "      <td>5</td>\n",
       "      <td>0</td>\n",
       "      <td>1</td>\n",
       "    </tr>\n",
       "    <tr>\n",
       "      <th>1</th>\n",
       "      <td>94</td>\n",
       "      <td>13</td>\n",
       "      <td>42</td>\n",
       "      <td>0</td>\n",
       "      <td>8</td>\n",
       "    </tr>\n",
       "    <tr>\n",
       "      <th>2</th>\n",
       "      <td>108</td>\n",
       "      <td>18</td>\n",
       "      <td>38</td>\n",
       "      <td>0</td>\n",
       "      <td>2</td>\n",
       "    </tr>\n",
       "    <tr>\n",
       "      <th>3</th>\n",
       "      <td>106</td>\n",
       "      <td>18</td>\n",
       "      <td>65</td>\n",
       "      <td>0</td>\n",
       "      <td>7</td>\n",
       "    </tr>\n",
       "    <tr>\n",
       "      <th>4</th>\n",
       "      <td>73</td>\n",
       "      <td>12</td>\n",
       "      <td>44</td>\n",
       "      <td>0</td>\n",
       "      <td>1</td>\n",
       "    </tr>\n",
       "    <tr>\n",
       "      <th>...</th>\n",
       "      <td>...</td>\n",
       "      <td>...</td>\n",
       "      <td>...</td>\n",
       "      <td>...</td>\n",
       "      <td>...</td>\n",
       "    </tr>\n",
       "    <tr>\n",
       "      <th>9129</th>\n",
       "      <td>73</td>\n",
       "      <td>18</td>\n",
       "      <td>89</td>\n",
       "      <td>0</td>\n",
       "      <td>2</td>\n",
       "    </tr>\n",
       "    <tr>\n",
       "      <th>9130</th>\n",
       "      <td>79</td>\n",
       "      <td>14</td>\n",
       "      <td>28</td>\n",
       "      <td>0</td>\n",
       "      <td>1</td>\n",
       "    </tr>\n",
       "    <tr>\n",
       "      <th>9131</th>\n",
       "      <td>85</td>\n",
       "      <td>9</td>\n",
       "      <td>37</td>\n",
       "      <td>3</td>\n",
       "      <td>2</td>\n",
       "    </tr>\n",
       "    <tr>\n",
       "      <th>9132</th>\n",
       "      <td>96</td>\n",
       "      <td>34</td>\n",
       "      <td>3</td>\n",
       "      <td>0</td>\n",
       "      <td>3</td>\n",
       "    </tr>\n",
       "    <tr>\n",
       "      <th>9133</th>\n",
       "      <td>77</td>\n",
       "      <td>3</td>\n",
       "      <td>90</td>\n",
       "      <td>0</td>\n",
       "      <td>1</td>\n",
       "    </tr>\n",
       "  </tbody>\n",
       "</table>\n",
       "<p>9134 rows × 5 columns</p>\n",
       "</div>"
      ],
      "text/plain": [
       "      monthly_premium_auto  months_since_last_claim  \\\n",
       "0                       69                       32   \n",
       "1                       94                       13   \n",
       "2                      108                       18   \n",
       "3                      106                       18   \n",
       "4                       73                       12   \n",
       "...                    ...                      ...   \n",
       "9129                    73                       18   \n",
       "9130                    79                       14   \n",
       "9131                    85                        9   \n",
       "9132                    96                       34   \n",
       "9133                    77                        3   \n",
       "\n",
       "      months_since_policy_inception  number_of_open_complaints  \\\n",
       "0                                 5                          0   \n",
       "1                                42                          0   \n",
       "2                                38                          0   \n",
       "3                                65                          0   \n",
       "4                                44                          0   \n",
       "...                             ...                        ...   \n",
       "9129                             89                          0   \n",
       "9130                             28                          0   \n",
       "9131                             37                          3   \n",
       "9132                              3                          0   \n",
       "9133                             90                          0   \n",
       "\n",
       "      number_of_policies  \n",
       "0                      1  \n",
       "1                      8  \n",
       "2                      2  \n",
       "3                      7  \n",
       "4                      1  \n",
       "...                  ...  \n",
       "9129                   2  \n",
       "9130                   1  \n",
       "9131                   2  \n",
       "9132                   3  \n",
       "9133                   1  \n",
       "\n",
       "[9134 rows x 5 columns]"
      ]
     },
     "metadata": {},
     "output_type": "display_data"
    },
    {
     "data": {
      "text/html": [
       "<div>\n",
       "<style scoped>\n",
       "    .dataframe tbody tr th:only-of-type {\n",
       "        vertical-align: middle;\n",
       "    }\n",
       "\n",
       "    .dataframe tbody tr th {\n",
       "        vertical-align: top;\n",
       "    }\n",
       "\n",
       "    .dataframe thead th {\n",
       "        text-align: right;\n",
       "    }\n",
       "</style>\n",
       "<table border=\"1\" class=\"dataframe\">\n",
       "  <thead>\n",
       "    <tr style=\"text-align: right;\">\n",
       "      <th></th>\n",
       "      <th>customer_lifetime_value</th>\n",
       "      <th>income</th>\n",
       "      <th>total_claim_amount</th>\n",
       "    </tr>\n",
       "  </thead>\n",
       "  <tbody>\n",
       "    <tr>\n",
       "      <th>0</th>\n",
       "      <td>2763.519279</td>\n",
       "      <td>56274</td>\n",
       "      <td>384.811147</td>\n",
       "    </tr>\n",
       "    <tr>\n",
       "      <th>1</th>\n",
       "      <td>6979.535903</td>\n",
       "      <td>0</td>\n",
       "      <td>1131.464935</td>\n",
       "    </tr>\n",
       "    <tr>\n",
       "      <th>2</th>\n",
       "      <td>12887.431650</td>\n",
       "      <td>48767</td>\n",
       "      <td>566.472247</td>\n",
       "    </tr>\n",
       "    <tr>\n",
       "      <th>3</th>\n",
       "      <td>7645.861827</td>\n",
       "      <td>0</td>\n",
       "      <td>529.881344</td>\n",
       "    </tr>\n",
       "    <tr>\n",
       "      <th>4</th>\n",
       "      <td>2813.692575</td>\n",
       "      <td>43836</td>\n",
       "      <td>138.130879</td>\n",
       "    </tr>\n",
       "    <tr>\n",
       "      <th>...</th>\n",
       "      <td>...</td>\n",
       "      <td>...</td>\n",
       "      <td>...</td>\n",
       "    </tr>\n",
       "    <tr>\n",
       "      <th>9129</th>\n",
       "      <td>23405.987980</td>\n",
       "      <td>71941</td>\n",
       "      <td>198.234764</td>\n",
       "    </tr>\n",
       "    <tr>\n",
       "      <th>9130</th>\n",
       "      <td>3096.511217</td>\n",
       "      <td>21604</td>\n",
       "      <td>379.200000</td>\n",
       "    </tr>\n",
       "    <tr>\n",
       "      <th>9131</th>\n",
       "      <td>8163.890428</td>\n",
       "      <td>0</td>\n",
       "      <td>790.784983</td>\n",
       "    </tr>\n",
       "    <tr>\n",
       "      <th>9132</th>\n",
       "      <td>7524.442436</td>\n",
       "      <td>21941</td>\n",
       "      <td>691.200000</td>\n",
       "    </tr>\n",
       "    <tr>\n",
       "      <th>9133</th>\n",
       "      <td>2611.836866</td>\n",
       "      <td>0</td>\n",
       "      <td>369.600000</td>\n",
       "    </tr>\n",
       "  </tbody>\n",
       "</table>\n",
       "<p>9134 rows × 3 columns</p>\n",
       "</div>"
      ],
      "text/plain": [
       "      customer_lifetime_value  income  total_claim_amount\n",
       "0                 2763.519279   56274          384.811147\n",
       "1                 6979.535903       0         1131.464935\n",
       "2                12887.431650   48767          566.472247\n",
       "3                 7645.861827       0          529.881344\n",
       "4                 2813.692575   43836          138.130879\n",
       "...                       ...     ...                 ...\n",
       "9129             23405.987980   71941          198.234764\n",
       "9130              3096.511217   21604          379.200000\n",
       "9131              8163.890428       0          790.784983\n",
       "9132              7524.442436   21941          691.200000\n",
       "9133              2611.836866       0          369.600000\n",
       "\n",
       "[9134 rows x 3 columns]"
      ]
     },
     "metadata": {},
     "output_type": "display_data"
    }
   ],
   "source": [
    "display(discrete_df)\n",
    "display(continuous_df)"
   ]
  },
  {
   "cell_type": "code",
   "execution_count": null,
   "id": "e7d62535",
   "metadata": {},
   "outputs": [],
   "source": []
  },
  {
   "cell_type": "markdown",
   "id": "21be50ca",
   "metadata": {},
   "source": [
    "#### 7. Plot a correlation matrix, comment what you see."
   ]
  },
  {
   "cell_type": "code",
   "execution_count": 16,
   "id": "0c073964",
   "metadata": {},
   "outputs": [
    {
     "name": "stdout",
     "output_type": "stream",
     "text": [
      "There is 1 slightly correlated value with total_claim_amount:\n",
      "monthly_premium_auto    0.632017\n",
      "Name: total_claim_amount, dtype: float64\n"
     ]
    }
   ],
   "source": [
    "df_num_corr = customer_df_num.corr()['total_claim_amount'][:-1] # -1 because the latest row is total_claim_amount\n",
    "strong_corr = df_num_corr[abs(df_num_corr) > 0.5].sort_values(ascending=False)\n",
    "print(\"There is {} slightly correlated value with total_claim_amount:\\n{}\".format(len(strong_corr), strong_corr))"
   ]
  },
  {
   "cell_type": "code",
   "execution_count": 17,
   "id": "fd067c8e",
   "metadata": {},
   "outputs": [
    {
     "data": {
      "image/png": "[encoded data removed]",
      "text/plain": [
       "<Figure size 432x288 with 2 Axes>"
      ]
     },
     "metadata": {
      "needs_background": "light"
     },
     "output_type": "display_data"
    }
   ],
   "source": [
    "import matplotlib.pyplot as plt\n",
    "import seaborn as sns\n",
    "correlations_matrix = customer_df.corr()\n",
    "sns.heatmap(correlations_matrix, annot=True)\n",
    "plt.show()"
   ]
  },
  {
   "cell_type": "code",
   "execution_count": 18,
   "id": "f0bb5d4e",
   "metadata": {},
   "outputs": [],
   "source": [
    "# as far as I see below, even though 'number_of_policies' and 'number_of_complaints' are numerical, \n",
    "# they can be converted to categorical\n",
    "#montly_premium_auto and total_claim_amount, I would say maybe linear correlation in some cases"
   ]
  },
  {
   "cell_type": "code",
   "execution_count": 19,
   "id": "190c2f08",
   "metadata": {
    "scrolled": true
   },
   "outputs": [
    {
     "data": {
      "image/png": "[encoded data removed]",
      "text/plain": [
       "<Figure size 900x180 with 5 Axes>"
      ]
     },
     "metadata": {
      "needs_background": "light"
     },
     "output_type": "display_data"
    },
    {
     "data": {
      "image/png": "[encoded data removed]",
      "text/plain": [
       "<Figure size 540x180 with 4 Axes>"
      ]
     },
     "metadata": {
      "needs_background": "light"
     },
     "output_type": "display_data"
    }
   ],
   "source": [
    "for i in range(0, len(customer_df_num.columns), 5):\n",
    "    sns.pairplot(data=customer_df_num,\n",
    "                x_vars=customer_df_num.columns[i:i+5],\n",
    "                y_vars=['total_claim_amount'])"
   ]
  },
  {
   "cell_type": "markdown",
   "id": "e4a8e853",
   "metadata": {},
   "source": [
    "#### 8. Create a function to plot every discrete variable. Do the same with the continuous variables (Be Careful, you may need to change the plot type to one better suited for continuous data!)"
   ]
  },
  {
   "cell_type": "code",
   "execution_count": 20,
   "id": "e6d6ce73",
   "metadata": {},
   "outputs": [
    {
     "data": {
      "text/plain": [
       "array([[<AxesSubplot:title={'center':'monthly_premium_auto'}>,\n",
       "        <AxesSubplot:title={'center':'months_since_last_claim'}>],\n",
       "       [<AxesSubplot:title={'center':'months_since_policy_inception'}>,\n",
       "        <AxesSubplot:title={'center':'number_of_open_complaints'}>],\n",
       "       [<AxesSubplot:title={'center':'number_of_policies'}>,\n",
       "        <AxesSubplot:>]], dtype=object)"
      ]
     },
     "execution_count": 20,
     "metadata": {},
     "output_type": "execute_result"
    },
    {
     "data": {
      "image/png": "[encoded data removed]",
      "text/plain": [
       "<Figure size 1152x1440 with 6 Axes>"
      ]
     },
     "metadata": {
      "needs_background": "light"
     },
     "output_type": "display_data"
    }
   ],
   "source": [
    "discrete_df.hist(figsize=(16, 20), bins=50, xlabelsize=8, ylabelsize=8)"
   ]
  },
  {
   "cell_type": "code",
   "execution_count": 21,
   "id": "c975fbec",
   "metadata": {},
   "outputs": [],
   "source": [
    "def ploting(df):\n",
    "    for i in df.columns:\n",
    "        plt.figure()\n",
    "        plt.hist(df[i])"
   ]
  },
  {
   "cell_type": "code",
   "execution_count": 22,
   "id": "1ca7d588",
   "metadata": {},
   "outputs": [
    {
     "data": {
      "image/png": "[encoded data removed]",
      "text/plain": [
       "<Figure size 432x288 with 1 Axes>"
      ]
     },
     "metadata": {
      "needs_background": "light"
     },
     "output_type": "display_data"
    },
    {
     "data": {
      "image/png": "[encoded data removed]",
      "text/plain": [
       "<Figure size 432x288 with 1 Axes>"
      ]
     },
     "metadata": {
      "needs_background": "light"
     },
     "output_type": "display_data"
    },
    {
     "data": {
      "image/png": "[encoded data removed]",
      "text/plain": [
       "<Figure size 432x288 with 1 Axes>"
      ]
     },
     "metadata": {
      "needs_background": "light"
     },
     "output_type": "display_data"
    }
   ],
   "source": [
    "ploting(continuous_df)"
   ]
  },
  {
   "cell_type": "markdown",
   "id": "3dbf4e13",
   "metadata": {},
   "source": [
    "#### 9. Comment what you can see in the plots."
   ]
  },
  {
   "cell_type": "markdown",
   "id": "ad97c7d8",
   "metadata": {},
   "source": [
    "I would say number_of_policies and number_of_open_complaints can be categorical,\n",
    "and for monthly_premium_auto towards the higher there can be outliers"
   ]
  },
  {
   "cell_type": "markdown",
   "id": "eafdff6d",
   "metadata": {},
   "source": [
    "#### 10. Look for outliers in the continuous variables. (HINT: There’s a good plot to do that!)\n",
    "#### 11. Did you find outliers? Comment what you will do with them."
   ]
  },
  {
   "cell_type": "code",
   "execution_count": 23,
   "id": "f3ca3146",
   "metadata": {},
   "outputs": [
    {
     "data": {
      "image/png": "[encoded data removed]",
      "text/plain": [
       "<Figure size 432x288 with 1 Axes>"
      ]
     },
     "metadata": {
      "needs_background": "light"
     },
     "output_type": "display_data"
    }
   ],
   "source": [
    "sns.boxplot(y=continuous_df['customer_lifetime_value'])\n",
    "plt.show()"
   ]
  },
  {
   "cell_type": "code",
   "execution_count": 24,
   "id": "89fdd755",
   "metadata": {},
   "outputs": [
    {
     "data": {
      "text/plain": [
       "20"
      ]
     },
     "execution_count": 24,
     "metadata": {},
     "output_type": "execute_result"
    }
   ],
   "source": [
    "extraordinary_points = continuous_df[continuous_df['customer_lifetime_value'] >50000]\n",
    "len(extraordinary_points)  # This checks the number of points that will be removed"
   ]
  },
  {
   "cell_type": "markdown",
   "id": "15994b50",
   "metadata": {},
   "source": [
    "I will drop the outliers from customer_lifetime_value later in the end"
   ]
  },
  {
   "cell_type": "code",
   "execution_count": 25,
   "id": "bdd7f8de",
   "metadata": {},
   "outputs": [
    {
     "data": {
      "text/plain": [
       "(9134, 24)"
      ]
     },
     "execution_count": 25,
     "metadata": {},
     "output_type": "execute_result"
    }
   ],
   "source": [
    "customer_df.shape"
   ]
  },
  {
   "cell_type": "code",
   "execution_count": 26,
   "id": "f22d53f3",
   "metadata": {},
   "outputs": [
    {
     "data": {
      "text/plain": [
       "(9134, 3)"
      ]
     },
     "execution_count": 26,
     "metadata": {},
     "output_type": "execute_result"
    }
   ],
   "source": [
    "continuous_df.shape"
   ]
  },
  {
   "cell_type": "code",
   "execution_count": 27,
   "id": "1d1591a9",
   "metadata": {},
   "outputs": [
    {
     "data": {
      "text/plain": [
       "(9134, 5)"
      ]
     },
     "execution_count": 27,
     "metadata": {},
     "output_type": "execute_result"
    }
   ],
   "source": [
    "discrete_df.shape"
   ]
  },
  {
   "cell_type": "code",
   "execution_count": 28,
   "id": "2461071d",
   "metadata": {},
   "outputs": [
    {
     "data": {
      "text/html": [
       "<div>\n",
       "<style scoped>\n",
       "    .dataframe tbody tr th:only-of-type {\n",
       "        vertical-align: middle;\n",
       "    }\n",
       "\n",
       "    .dataframe tbody tr th {\n",
       "        vertical-align: top;\n",
       "    }\n",
       "\n",
       "    .dataframe thead th {\n",
       "        text-align: right;\n",
       "    }\n",
       "</style>\n",
       "<table border=\"1\" class=\"dataframe\">\n",
       "  <thead>\n",
       "    <tr style=\"text-align: right;\">\n",
       "      <th></th>\n",
       "      <th>monthly_premium_auto</th>\n",
       "      <th>months_since_last_claim</th>\n",
       "      <th>months_since_policy_inception</th>\n",
       "      <th>number_of_open_complaints</th>\n",
       "      <th>number_of_policies</th>\n",
       "      <th>customer_lifetime_value</th>\n",
       "      <th>income</th>\n",
       "      <th>total_claim_amount</th>\n",
       "    </tr>\n",
       "  </thead>\n",
       "  <tbody>\n",
       "    <tr>\n",
       "      <th>0</th>\n",
       "      <td>69</td>\n",
       "      <td>32</td>\n",
       "      <td>5</td>\n",
       "      <td>0</td>\n",
       "      <td>1</td>\n",
       "      <td>2763.519279</td>\n",
       "      <td>56274</td>\n",
       "      <td>384.811147</td>\n",
       "    </tr>\n",
       "    <tr>\n",
       "      <th>1</th>\n",
       "      <td>94</td>\n",
       "      <td>13</td>\n",
       "      <td>42</td>\n",
       "      <td>0</td>\n",
       "      <td>8</td>\n",
       "      <td>6979.535903</td>\n",
       "      <td>0</td>\n",
       "      <td>1131.464935</td>\n",
       "    </tr>\n",
       "    <tr>\n",
       "      <th>2</th>\n",
       "      <td>108</td>\n",
       "      <td>18</td>\n",
       "      <td>38</td>\n",
       "      <td>0</td>\n",
       "      <td>2</td>\n",
       "      <td>12887.431650</td>\n",
       "      <td>48767</td>\n",
       "      <td>566.472247</td>\n",
       "    </tr>\n",
       "    <tr>\n",
       "      <th>3</th>\n",
       "      <td>106</td>\n",
       "      <td>18</td>\n",
       "      <td>65</td>\n",
       "      <td>0</td>\n",
       "      <td>7</td>\n",
       "      <td>7645.861827</td>\n",
       "      <td>0</td>\n",
       "      <td>529.881344</td>\n",
       "    </tr>\n",
       "    <tr>\n",
       "      <th>4</th>\n",
       "      <td>73</td>\n",
       "      <td>12</td>\n",
       "      <td>44</td>\n",
       "      <td>0</td>\n",
       "      <td>1</td>\n",
       "      <td>2813.692575</td>\n",
       "      <td>43836</td>\n",
       "      <td>138.130879</td>\n",
       "    </tr>\n",
       "  </tbody>\n",
       "</table>\n",
       "</div>"
      ],
      "text/plain": [
       "   monthly_premium_auto  months_since_last_claim  \\\n",
       "0                    69                       32   \n",
       "1                    94                       13   \n",
       "2                   108                       18   \n",
       "3                   106                       18   \n",
       "4                    73                       12   \n",
       "\n",
       "   months_since_policy_inception  number_of_open_complaints  \\\n",
       "0                              5                          0   \n",
       "1                             42                          0   \n",
       "2                             38                          0   \n",
       "3                             65                          0   \n",
       "4                             44                          0   \n",
       "\n",
       "   number_of_policies  customer_lifetime_value  income  total_claim_amount  \n",
       "0                   1              2763.519279   56274          384.811147  \n",
       "1                   8              6979.535903       0         1131.464935  \n",
       "2                   2             12887.431650   48767          566.472247  \n",
       "3                   7              7645.861827       0          529.881344  \n",
       "4                   1              2813.692575   43836          138.130879  "
      ]
     },
     "execution_count": 28,
     "metadata": {},
     "output_type": "execute_result"
    }
   ],
   "source": [
    "numerical_df = pd.concat([discrete_df, continuous_df], axis=1)\n",
    "numerical_df.head()"
   ]
  },
  {
   "cell_type": "code",
   "execution_count": 29,
   "id": "df7dbf37",
   "metadata": {},
   "outputs": [],
   "source": [
    "customer_df = customer_df[customer_df.customer_lifetime_value < 50000]\n",
    "numerical_df = numerical_df[numerical_df.customer_lifetime_value < 50000]"
   ]
  },
  {
   "cell_type": "markdown",
   "id": "67221385",
   "metadata": {},
   "source": [
    "#### 12. Check all columns for NaN values. Decide what (if anything) you will need to do with them."
   ]
  },
  {
   "cell_type": "code",
   "execution_count": 30,
   "id": "f37f3d2d",
   "metadata": {},
   "outputs": [
    {
     "data": {
      "text/plain": [
       "customer                         0\n",
       "state                            0\n",
       "customer_lifetime_value          0\n",
       "response                         0\n",
       "coverage                         0\n",
       "education                        0\n",
       "effective_to_date                0\n",
       "employment_status                0\n",
       "gender                           0\n",
       "income                           0\n",
       "location_code                    0\n",
       "marital_status                   0\n",
       "monthly_premium_auto             0\n",
       "months_since_last_claim          0\n",
       "months_since_policy_inception    0\n",
       "number_of_open_complaints        0\n",
       "number_of_policies               0\n",
       "policy_type                      0\n",
       "policy                           0\n",
       "renew_offer_type                 0\n",
       "sales_channel                    0\n",
       "total_claim_amount               0\n",
       "vehicle_class                    0\n",
       "vehicle_size                     0\n",
       "dtype: int64"
      ]
     },
     "execution_count": 30,
     "metadata": {},
     "output_type": "execute_result"
    }
   ],
   "source": [
    "# there are no NaN values. I have checked at the beginning\n",
    "customer_df.isna().sum()"
   ]
  },
  {
   "cell_type": "markdown",
   "id": "39a78b97",
   "metadata": {},
   "source": [
    "### Lab-cleaning- categorical-data"
   ]
  },
  {
   "cell_type": "markdown",
   "id": "e9d0c2ee",
   "metadata": {},
   "source": [
    "#### 2. Find all of the categorical data. Save it in a categorical_df variable."
   ]
  },
  {
   "cell_type": "code",
   "execution_count": 31,
   "id": "0ac0c1fa",
   "metadata": {},
   "outputs": [],
   "source": [
    "categorical_df = customer_df.select_dtypes(object)"
   ]
  },
  {
   "cell_type": "markdown",
   "id": "fd012c0d",
   "metadata": {},
   "source": [
    "#### 3. Check for NaN values."
   ]
  },
  {
   "cell_type": "code",
   "execution_count": 32,
   "id": "e49c9831",
   "metadata": {},
   "outputs": [
    {
     "data": {
      "text/plain": [
       "(9114, 15)"
      ]
     },
     "execution_count": 32,
     "metadata": {},
     "output_type": "execute_result"
    }
   ],
   "source": [
    "categorical_df.isna().sum()\n",
    "categorical_df.shape"
   ]
  },
  {
   "cell_type": "markdown",
   "id": "8dda02c6",
   "metadata": {},
   "source": [
    "#### 4. Check all unique values of columns."
   ]
  },
  {
   "cell_type": "code",
   "execution_count": 33,
   "id": "9f983e68",
   "metadata": {},
   "outputs": [
    {
     "data": {
      "text/plain": [
       "customer             9114\n",
       "state                   5\n",
       "response                2\n",
       "coverage                3\n",
       "education               5\n",
       "employment_status       5\n",
       "gender                  2\n",
       "location_code           3\n",
       "marital_status          3\n",
       "policy_type             3\n",
       "policy                  9\n",
       "renew_offer_type        4\n",
       "sales_channel           4\n",
       "vehicle_class           6\n",
       "vehicle_size            3\n",
       "dtype: int64"
      ]
     },
     "execution_count": 33,
     "metadata": {},
     "output_type": "execute_result"
    }
   ],
   "source": [
    "categorical_df.nunique()"
   ]
  },
  {
   "cell_type": "markdown",
   "id": "8aa09246",
   "metadata": {},
   "source": [
    "#### 5.Check dtypes. Do they all make sense as categorical data?\n",
    "\n",
    "#### 6.Does any column contain alpha and numeric data? Decide how to clean it.\n",
    "\n",
    "#### 7.Would you choose to do anything else to clean or wrangle the categorical data? Comment your decisions."
   ]
  },
  {
   "cell_type": "code",
   "execution_count": 34,
   "id": "122da9e4",
   "metadata": {},
   "outputs": [
    {
     "data": {
      "text/plain": [
       "customer             object\n",
       "state                object\n",
       "response             object\n",
       "coverage             object\n",
       "education            object\n",
       "employment_status    object\n",
       "gender               object\n",
       "location_code        object\n",
       "marital_status       object\n",
       "policy_type          object\n",
       "policy               object\n",
       "renew_offer_type     object\n",
       "sales_channel        object\n",
       "vehicle_class        object\n",
       "vehicle_size         object\n",
       "dtype: object"
      ]
     },
     "execution_count": 34,
     "metadata": {},
     "output_type": "execute_result"
    }
   ],
   "source": [
    "categorical_df.dtypes"
   ]
  },
  {
   "cell_type": "code",
   "execution_count": 35,
   "id": "7925de5d",
   "metadata": {},
   "outputs": [
    {
     "data": {
      "text/html": [
       "<div>\n",
       "<style scoped>\n",
       "    .dataframe tbody tr th:only-of-type {\n",
       "        vertical-align: middle;\n",
       "    }\n",
       "\n",
       "    .dataframe tbody tr th {\n",
       "        vertical-align: top;\n",
       "    }\n",
       "\n",
       "    .dataframe thead th {\n",
       "        text-align: right;\n",
       "    }\n",
       "</style>\n",
       "<table border=\"1\" class=\"dataframe\">\n",
       "  <thead>\n",
       "    <tr style=\"text-align: right;\">\n",
       "      <th></th>\n",
       "      <th>customer</th>\n",
       "      <th>state</th>\n",
       "      <th>response</th>\n",
       "      <th>coverage</th>\n",
       "      <th>education</th>\n",
       "      <th>employment_status</th>\n",
       "      <th>gender</th>\n",
       "      <th>location_code</th>\n",
       "      <th>marital_status</th>\n",
       "      <th>policy_type</th>\n",
       "      <th>policy</th>\n",
       "      <th>renew_offer_type</th>\n",
       "      <th>sales_channel</th>\n",
       "      <th>vehicle_class</th>\n",
       "      <th>vehicle_size</th>\n",
       "    </tr>\n",
       "  </thead>\n",
       "  <tbody>\n",
       "    <tr>\n",
       "      <th>0</th>\n",
       "      <td>BU79786</td>\n",
       "      <td>Washington</td>\n",
       "      <td>No</td>\n",
       "      <td>Basic</td>\n",
       "      <td>Bachelor</td>\n",
       "      <td>Employed</td>\n",
       "      <td>F</td>\n",
       "      <td>Suburban</td>\n",
       "      <td>Married</td>\n",
       "      <td>Corporate Auto</td>\n",
       "      <td>Corporate L3</td>\n",
       "      <td>Offer1</td>\n",
       "      <td>Agent</td>\n",
       "      <td>Two-Door Car</td>\n",
       "      <td>Medsize</td>\n",
       "    </tr>\n",
       "    <tr>\n",
       "      <th>1</th>\n",
       "      <td>QZ44356</td>\n",
       "      <td>Arizona</td>\n",
       "      <td>No</td>\n",
       "      <td>Extended</td>\n",
       "      <td>Bachelor</td>\n",
       "      <td>Unemployed</td>\n",
       "      <td>F</td>\n",
       "      <td>Suburban</td>\n",
       "      <td>Single</td>\n",
       "      <td>Personal Auto</td>\n",
       "      <td>Personal L3</td>\n",
       "      <td>Offer3</td>\n",
       "      <td>Agent</td>\n",
       "      <td>Four-Door Car</td>\n",
       "      <td>Medsize</td>\n",
       "    </tr>\n",
       "    <tr>\n",
       "      <th>2</th>\n",
       "      <td>AI49188</td>\n",
       "      <td>Nevada</td>\n",
       "      <td>No</td>\n",
       "      <td>Premium</td>\n",
       "      <td>Bachelor</td>\n",
       "      <td>Employed</td>\n",
       "      <td>F</td>\n",
       "      <td>Suburban</td>\n",
       "      <td>Married</td>\n",
       "      <td>Personal Auto</td>\n",
       "      <td>Personal L3</td>\n",
       "      <td>Offer1</td>\n",
       "      <td>Agent</td>\n",
       "      <td>Two-Door Car</td>\n",
       "      <td>Medsize</td>\n",
       "    </tr>\n",
       "    <tr>\n",
       "      <th>3</th>\n",
       "      <td>WW63253</td>\n",
       "      <td>California</td>\n",
       "      <td>No</td>\n",
       "      <td>Basic</td>\n",
       "      <td>Bachelor</td>\n",
       "      <td>Unemployed</td>\n",
       "      <td>M</td>\n",
       "      <td>Suburban</td>\n",
       "      <td>Married</td>\n",
       "      <td>Corporate Auto</td>\n",
       "      <td>Corporate L2</td>\n",
       "      <td>Offer1</td>\n",
       "      <td>Call Center</td>\n",
       "      <td>SUV</td>\n",
       "      <td>Medsize</td>\n",
       "    </tr>\n",
       "    <tr>\n",
       "      <th>4</th>\n",
       "      <td>HB64268</td>\n",
       "      <td>Washington</td>\n",
       "      <td>No</td>\n",
       "      <td>Basic</td>\n",
       "      <td>Bachelor</td>\n",
       "      <td>Employed</td>\n",
       "      <td>M</td>\n",
       "      <td>Rural</td>\n",
       "      <td>Single</td>\n",
       "      <td>Personal Auto</td>\n",
       "      <td>Personal L1</td>\n",
       "      <td>Offer1</td>\n",
       "      <td>Agent</td>\n",
       "      <td>Four-Door Car</td>\n",
       "      <td>Medsize</td>\n",
       "    </tr>\n",
       "  </tbody>\n",
       "</table>\n",
       "</div>"
      ],
      "text/plain": [
       "  customer       state response  coverage education employment_status gender  \\\n",
       "0  BU79786  Washington       No     Basic  Bachelor          Employed      F   \n",
       "1  QZ44356     Arizona       No  Extended  Bachelor        Unemployed      F   \n",
       "2  AI49188      Nevada       No   Premium  Bachelor          Employed      F   \n",
       "3  WW63253  California       No     Basic  Bachelor        Unemployed      M   \n",
       "4  HB64268  Washington       No     Basic  Bachelor          Employed      M   \n",
       "\n",
       "  location_code marital_status     policy_type        policy renew_offer_type  \\\n",
       "0      Suburban        Married  Corporate Auto  Corporate L3           Offer1   \n",
       "1      Suburban         Single   Personal Auto   Personal L3           Offer3   \n",
       "2      Suburban        Married   Personal Auto   Personal L3           Offer1   \n",
       "3      Suburban        Married  Corporate Auto  Corporate L2           Offer1   \n",
       "4         Rural         Single   Personal Auto   Personal L1           Offer1   \n",
       "\n",
       "  sales_channel  vehicle_class vehicle_size  \n",
       "0         Agent   Two-Door Car      Medsize  \n",
       "1         Agent  Four-Door Car      Medsize  \n",
       "2         Agent   Two-Door Car      Medsize  \n",
       "3   Call Center            SUV      Medsize  \n",
       "4         Agent  Four-Door Car      Medsize  "
      ]
     },
     "execution_count": 35,
     "metadata": {},
     "output_type": "execute_result"
    }
   ],
   "source": [
    "categorical_df.head()"
   ]
  },
  {
   "cell_type": "markdown",
   "id": "e1f5c4f3",
   "metadata": {},
   "source": [
    "customer column contains alpha-numeric data\n",
    "I split from the first two letter. I thought maybe they are cities/counties/neighbourhoods etc and I could make category\n",
    "but there are 677 unique values and I don't understand what they are.\n",
    "So I will drop that 'customer' column"
   ]
  },
  {
   "cell_type": "code",
   "execution_count": 36,
   "id": "f8b616d2",
   "metadata": {},
   "outputs": [],
   "source": [
    "categorical_df = categorical_df.drop(['customer'], axis=1)"
   ]
  },
  {
   "cell_type": "markdown",
   "id": "a15b6f56",
   "metadata": {},
   "source": [
    "I combine marital status only married-single. Would add divorced+single."
   ]
  },
  {
   "cell_type": "code",
   "execution_count": 37,
   "id": "5b47564c",
   "metadata": {},
   "outputs": [],
   "source": [
    "def cleanmarit(x):\n",
    "    if 'Married' in x:\n",
    "        return \"Married\"\n",
    "    else:\n",
    "        return 'Single'\n",
    "    \n",
    "categorical_df['marital_status'] = categorical_df['marital_status'].apply(cleanmarit)"
   ]
  },
  {
   "cell_type": "markdown",
   "id": "1a9b2bf0",
   "metadata": {},
   "source": [
    "I changed employment_status categories"
   ]
  },
  {
   "cell_type": "code",
   "execution_count": 38,
   "id": "c5da7471",
   "metadata": {},
   "outputs": [
    {
     "data": {
      "text/plain": [
       "Employed      5685\n",
       "Unemployed    2311\n",
       "Other         1118\n",
       "Name: employment_status, dtype: int64"
      ]
     },
     "execution_count": 38,
     "metadata": {},
     "output_type": "execute_result"
    }
   ],
   "source": [
    "def cleanemsta(x):\n",
    "    if 'Employed' in x:\n",
    "        return \"Employed\"\n",
    "    elif 'Unemployed' in x:\n",
    "        return \"Unemployed\"\n",
    "    else:\n",
    "        return 'Other'\n",
    "    \n",
    "categorical_df['employment_status'] = categorical_df['employment_status'].apply(cleanemsta)\n",
    "categorical_df['employment_status'].value_counts()"
   ]
  },
  {
   "cell_type": "markdown",
   "id": "0114ef7f",
   "metadata": {},
   "source": [
    "#### 8.Compare policy_type and policy. What information is contained in these columns. Can you identify what is important?"
   ]
  },
  {
   "cell_type": "markdown",
   "id": "3658c3d2",
   "metadata": {},
   "source": [
    "'policy' looks like a sub-group of policy type.\n",
    "In the 'policy' column it is already stated that if a car is Corporate-Special or Personal.\n",
    "So I would drop the policy_type column"
   ]
  },
  {
   "cell_type": "markdown",
   "id": "2180dae4",
   "metadata": {},
   "source": [
    "the way that Simao did, grouped policy into L1, L2, L3 would be better."
   ]
  },
  {
   "cell_type": "code",
   "execution_count": 39,
   "id": "48f28d04",
   "metadata": {},
   "outputs": [
    {
     "data": {
      "text/plain": [
       "Personal Auto     6770\n",
       "Corporate Auto    1966\n",
       "Special Auto       378\n",
       "Name: policy_type, dtype: int64"
      ]
     },
     "execution_count": 39,
     "metadata": {},
     "output_type": "execute_result"
    }
   ],
   "source": [
    "categorical_df['policy_type'].value_counts(dropna=False).head(10)"
   ]
  },
  {
   "cell_type": "code",
   "execution_count": 40,
   "id": "0186f4fe",
   "metadata": {},
   "outputs": [
    {
     "data": {
      "text/plain": [
       "Personal L3     3417\n",
       "Personal L2     2118\n",
       "Personal L1     1235\n",
       "Corporate L3    1013\n",
       "Corporate L2     594\n",
       "Corporate L1     359\n",
       "Special L2       164\n",
       "Special L3       148\n",
       "Special L1        66\n",
       "Name: policy, dtype: int64"
      ]
     },
     "execution_count": 40,
     "metadata": {},
     "output_type": "execute_result"
    }
   ],
   "source": [
    "categorical_df['policy'].value_counts(dropna=False).head(10)"
   ]
  },
  {
   "cell_type": "code",
   "execution_count": 41,
   "id": "30374027",
   "metadata": {},
   "outputs": [],
   "source": [
    "categorical_df = categorical_df.drop(['policy_type'], axis=1)"
   ]
  },
  {
   "cell_type": "markdown",
   "id": "db076ef9",
   "metadata": {},
   "source": [
    "#### 9. Check number of unique values in each column, can they be combined in any way to ease encoding? Comment your thoughts and make those changes."
   ]
  },
  {
   "cell_type": "markdown",
   "id": "6ae86c42",
   "metadata": {},
   "source": [
    "I reduced the vehicle_class categories"
   ]
  },
  {
   "cell_type": "code",
   "execution_count": 42,
   "id": "d990fb9d",
   "metadata": {},
   "outputs": [
    {
     "data": {
      "text/plain": [
       "Four-Door Car    4621\n",
       "Two-Door Car     1886\n",
       "SUV              1792\n",
       "Sports Car        483\n",
       "Luxury SUV        176\n",
       "Name: vehicle_class, dtype: int64"
      ]
     },
     "execution_count": 42,
     "metadata": {},
     "output_type": "execute_result"
    }
   ],
   "source": [
    "categorical_df['vehicle_class'].value_counts(dropna=False).head()"
   ]
  },
  {
   "cell_type": "code",
   "execution_count": 43,
   "id": "eb0a149a",
   "metadata": {},
   "outputs": [],
   "source": [
    "def cleanedu(x):\n",
    "    if 'High School or Below' in x:\n",
    "        return \"High School or Below\"\n",
    "    elif 'College' in x:\n",
    "        return \"University\"\n",
    "    else:\n",
    "        return 'Academic Degree'\n",
    "    \n",
    "categorical_df['education'] = categorical_df['education'].apply(cleanedu)"
   ]
  },
  {
   "cell_type": "code",
   "execution_count": 44,
   "id": "45ca227c",
   "metadata": {},
   "outputs": [
    {
     "data": {
      "text/plain": [
       "Medsize    6414\n",
       "Small      1758\n",
       "Large       942\n",
       "Name: vehicle_size, dtype: int64"
      ]
     },
     "execution_count": 44,
     "metadata": {},
     "output_type": "execute_result"
    }
   ],
   "source": [
    "categorical_df['vehicle_size'].value_counts(dropna=False).head(10)"
   ]
  },
  {
   "cell_type": "code",
   "execution_count": 45,
   "id": "79e749d1",
   "metadata": {},
   "outputs": [],
   "source": [
    "def cleanedu(x):\n",
    "    if 'Four-Door Car' in x:\n",
    "        return \"Four-Door Car\"\n",
    "    elif 'Two-Door Car' in x:\n",
    "        return \"Two-Door Car\"\n",
    "    elif 'SUV' in x:\n",
    "        return \"SUV\"\n",
    "    else:\n",
    "        return 'Luxury'\n",
    "    \n",
    "categorical_df['vehicle_class'] = categorical_df['vehicle_class'].apply(cleanedu)"
   ]
  },
  {
   "cell_type": "markdown",
   "id": "c401f51c",
   "metadata": {},
   "source": [
    "### concat everything"
   ]
  },
  {
   "cell_type": "code",
   "execution_count": 46,
   "id": "034bcf72",
   "metadata": {},
   "outputs": [
    {
     "data": {
      "text/plain": [
       "(9114, 22)"
      ]
     },
     "execution_count": 46,
     "metadata": {},
     "output_type": "execute_result"
    }
   ],
   "source": [
    "customer_df_cleaned = pd.concat((categorical_df, numerical_df, customer_df['effective_to_date']),axis=1)\n",
    "customer_df_cleaned.shape"
   ]
  },
  {
   "cell_type": "markdown",
   "id": "3cf35f92",
   "metadata": {},
   "source": [
    "## lab-comparing-regression-models"
   ]
  },
  {
   "cell_type": "markdown",
   "id": "d6659f3f",
   "metadata": {},
   "source": [
    "1. In this final lab, we will model our data. Import sklearn `train_test_split` and separate the data."
   ]
  },
  {
   "cell_type": "code",
   "execution_count": 47,
   "id": "12436d6a",
   "metadata": {},
   "outputs": [],
   "source": [
    "X = customer_df_cleaned.drop(['total_claim_amount'],axis=1)\n",
    "y = customer_df_cleaned['total_claim_amount']"
   ]
  },
  {
   "cell_type": "code",
   "execution_count": 48,
   "id": "afdee2d9",
   "metadata": {},
   "outputs": [],
   "source": [
    "from sklearn.model_selection import train_test_split\n",
    "from sklearn.linear_model import LinearRegression\n",
    "from sklearn.metrics import r2_score\n",
    "X_train, X_test, y_train, y_test = train_test_split(X, y, test_size=0.2, random_state=100)"
   ]
  },
  {
   "cell_type": "markdown",
   "id": "e66537f2",
   "metadata": {},
   "source": [
    "2. We will start with removing outliers, if you have not already done so.  We have discussed different methods to remove outliers. Use the one you feel more comfortable with, define a function for that. Use the function to remove the outliers and apply it to the dataframe."
   ]
  },
  {
   "cell_type": "code",
   "execution_count": 49,
   "id": "9817aeef",
   "metadata": {},
   "outputs": [],
   "source": [
    "# # I removed outliers above, but below there is a function that we learned in the class\n",
    "# # removing outliers from multiple column function\n",
    "# def cap_data(df):\n",
    "#     for col in df.columns:\n",
    "#         print(\"capping the \",col)\n",
    "#         if (((df[col].dtype)=='float64') | ((df[col].dtype)=='int64')):\n",
    "#             percentiles = df[col].quantile([0.01,0.99]).values\n",
    "#             df[col][df[col] <= percentiles[0]] = percentiles[0]\n",
    "#             df[col][df[col] >= percentiles[1]] = percentiles[1]\n",
    "#         else:\n",
    "#             df[col]=df[col]\n",
    "#     return df"
   ]
  },
  {
   "cell_type": "markdown",
   "id": "a4d1b3e4",
   "metadata": {},
   "source": [
    "3. Create a copy of the dataframe for the data wrangling."
   ]
  },
  {
   "cell_type": "code",
   "execution_count": 50,
   "id": "51b9e567",
   "metadata": {},
   "outputs": [
    {
     "data": {
      "text/plain": [
       "(9114, 22)"
      ]
     },
     "execution_count": 50,
     "metadata": {},
     "output_type": "execute_result"
    }
   ],
   "source": [
    "customer_df_copy = customer_df_cleaned.copy()\n",
    "customer_df_copy.head()\n",
    "customer_df_copy.shape"
   ]
  },
  {
   "cell_type": "markdown",
   "id": "f929393b",
   "metadata": {},
   "source": [
    "4. Normalize the continuous variables. You can use any one method you want."
   ]
  },
  {
   "cell_type": "code",
   "execution_count": 51,
   "id": "8bb594c7",
   "metadata": {},
   "outputs": [],
   "source": [
    "X_train_num = X_train.select_dtypes(include = ['float64', 'int64'])\n",
    "X_test_num = X_test.select_dtypes(include = ['float64', 'int64'])"
   ]
  },
  {
   "cell_type": "code",
   "execution_count": 52,
   "id": "5de9fddf",
   "metadata": {},
   "outputs": [],
   "source": [
    "# X_train_disc_num, X_train_cont_num = uniques(X_train_num)\n",
    "# X_test_disc_num, X_test_cont_num = uniques(X_test_num)\n",
    "# display(X_train_disc_num)\n",
    "# display(X_train_cont_num)\n",
    "# display(X_test_disc_num)\n",
    "# display(X_test_cont_num)"
   ]
  },
  {
   "cell_type": "code",
   "execution_count": 53,
   "id": "87bb7024",
   "metadata": {},
   "outputs": [],
   "source": [
    "from sklearn.preprocessing import StandardScaler\n",
    "\n",
    "transformer = StandardScaler().fit(X_train_num)\n",
    "X_train_stand = transformer.transform(X_train_num)\n",
    "X_test_stand = transformer.transform(X_test_num)"
   ]
  },
  {
   "cell_type": "code",
   "execution_count": 54,
   "id": "6f091239",
   "metadata": {},
   "outputs": [
    {
     "data": {
      "text/html": [
       "<div>\n",
       "<style scoped>\n",
       "    .dataframe tbody tr th:only-of-type {\n",
       "        vertical-align: middle;\n",
       "    }\n",
       "\n",
       "    .dataframe tbody tr th {\n",
       "        vertical-align: top;\n",
       "    }\n",
       "\n",
       "    .dataframe thead th {\n",
       "        text-align: right;\n",
       "    }\n",
       "</style>\n",
       "<table border=\"1\" class=\"dataframe\">\n",
       "  <thead>\n",
       "    <tr style=\"text-align: right;\">\n",
       "      <th></th>\n",
       "      <th>0</th>\n",
       "      <th>1</th>\n",
       "      <th>2</th>\n",
       "      <th>3</th>\n",
       "      <th>4</th>\n",
       "      <th>5</th>\n",
       "      <th>6</th>\n",
       "    </tr>\n",
       "  </thead>\n",
       "  <tbody>\n",
       "    <tr>\n",
       "      <th>0</th>\n",
       "      <td>0.262886</td>\n",
       "      <td>-0.806514</td>\n",
       "      <td>0.250869</td>\n",
       "      <td>-0.421863</td>\n",
       "      <td>-0.407330</td>\n",
       "      <td>2.650131</td>\n",
       "      <td>0.983342</td>\n",
       "    </tr>\n",
       "    <tr>\n",
       "      <th>1</th>\n",
       "      <td>-0.792211</td>\n",
       "      <td>1.579929</td>\n",
       "      <td>-1.714657</td>\n",
       "      <td>-0.421863</td>\n",
       "      <td>-0.824559</td>\n",
       "      <td>-0.841317</td>\n",
       "      <td>-0.756088</td>\n",
       "    </tr>\n",
       "    <tr>\n",
       "      <th>2</th>\n",
       "      <td>0.057728</td>\n",
       "      <td>-0.408774</td>\n",
       "      <td>-0.892710</td>\n",
       "      <td>-0.421863</td>\n",
       "      <td>0.844359</td>\n",
       "      <td>-0.250052</td>\n",
       "      <td>-1.248397</td>\n",
       "    </tr>\n",
       "    <tr>\n",
       "      <th>3</th>\n",
       "      <td>-0.792211</td>\n",
       "      <td>-0.408774</td>\n",
       "      <td>0.929868</td>\n",
       "      <td>-0.421863</td>\n",
       "      <td>-0.407330</td>\n",
       "      <td>0.281512</td>\n",
       "      <td>-0.436447</td>\n",
       "    </tr>\n",
       "    <tr>\n",
       "      <th>4</th>\n",
       "      <td>-0.557745</td>\n",
       "      <td>-1.303690</td>\n",
       "      <td>1.072816</td>\n",
       "      <td>-0.421863</td>\n",
       "      <td>-0.407330</td>\n",
       "      <td>1.514583</td>\n",
       "      <td>0.121025</td>\n",
       "    </tr>\n",
       "  </tbody>\n",
       "</table>\n",
       "</div>"
      ],
      "text/plain": [
       "          0         1         2         3         4         5         6\n",
       "0  0.262886 -0.806514  0.250869 -0.421863 -0.407330  2.650131  0.983342\n",
       "1 -0.792211  1.579929 -1.714657 -0.421863 -0.824559 -0.841317 -0.756088\n",
       "2  0.057728 -0.408774 -0.892710 -0.421863  0.844359 -0.250052 -1.248397\n",
       "3 -0.792211 -0.408774  0.929868 -0.421863 -0.407330  0.281512 -0.436447\n",
       "4 -0.557745 -1.303690  1.072816 -0.421863 -0.407330  1.514583  0.121025"
      ]
     },
     "execution_count": 54,
     "metadata": {},
     "output_type": "execute_result"
    }
   ],
   "source": [
    "pd.DataFrame(X_train_stand).head()"
   ]
  },
  {
   "cell_type": "code",
   "execution_count": 55,
   "id": "15ffe86d",
   "metadata": {},
   "outputs": [
    {
     "data": {
      "text/html": [
       "<div>\n",
       "<style scoped>\n",
       "    .dataframe tbody tr th:only-of-type {\n",
       "        vertical-align: middle;\n",
       "    }\n",
       "\n",
       "    .dataframe tbody tr th {\n",
       "        vertical-align: top;\n",
       "    }\n",
       "\n",
       "    .dataframe thead th {\n",
       "        text-align: right;\n",
       "    }\n",
       "</style>\n",
       "<table border=\"1\" class=\"dataframe\">\n",
       "  <thead>\n",
       "    <tr style=\"text-align: right;\">\n",
       "      <th></th>\n",
       "      <th>0</th>\n",
       "      <th>1</th>\n",
       "      <th>2</th>\n",
       "      <th>3</th>\n",
       "      <th>4</th>\n",
       "      <th>5</th>\n",
       "      <th>6</th>\n",
       "    </tr>\n",
       "  </thead>\n",
       "  <tbody>\n",
       "    <tr>\n",
       "      <th>0</th>\n",
       "      <td>0.643893</td>\n",
       "      <td>0.486142</td>\n",
       "      <td>0.929868</td>\n",
       "      <td>-0.421863</td>\n",
       "      <td>-0.407330</td>\n",
       "      <td>0.934574</td>\n",
       "      <td>1.953626</td>\n",
       "    </tr>\n",
       "    <tr>\n",
       "      <th>1</th>\n",
       "      <td>1.230057</td>\n",
       "      <td>1.878234</td>\n",
       "      <td>-0.714026</td>\n",
       "      <td>0.673899</td>\n",
       "      <td>0.009900</td>\n",
       "      <td>0.411036</td>\n",
       "      <td>-0.538337</td>\n",
       "    </tr>\n",
       "    <tr>\n",
       "      <th>2</th>\n",
       "      <td>-0.616361</td>\n",
       "      <td>1.579929</td>\n",
       "      <td>0.965605</td>\n",
       "      <td>-0.421863</td>\n",
       "      <td>2.513278</td>\n",
       "      <td>-0.476040</td>\n",
       "      <td>-1.248397</td>\n",
       "    </tr>\n",
       "    <tr>\n",
       "      <th>3</th>\n",
       "      <td>0.585276</td>\n",
       "      <td>0.187837</td>\n",
       "      <td>0.429553</td>\n",
       "      <td>-0.421863</td>\n",
       "      <td>-0.824559</td>\n",
       "      <td>-0.538261</td>\n",
       "      <td>-0.488565</td>\n",
       "    </tr>\n",
       "    <tr>\n",
       "      <th>4</th>\n",
       "      <td>0.233577</td>\n",
       "      <td>0.287272</td>\n",
       "      <td>-0.320921</td>\n",
       "      <td>-0.421863</td>\n",
       "      <td>-0.407330</td>\n",
       "      <td>0.536085</td>\n",
       "      <td>-0.855864</td>\n",
       "    </tr>\n",
       "  </tbody>\n",
       "</table>\n",
       "</div>"
      ],
      "text/plain": [
       "          0         1         2         3         4         5         6\n",
       "0  0.643893  0.486142  0.929868 -0.421863 -0.407330  0.934574  1.953626\n",
       "1  1.230057  1.878234 -0.714026  0.673899  0.009900  0.411036 -0.538337\n",
       "2 -0.616361  1.579929  0.965605 -0.421863  2.513278 -0.476040 -1.248397\n",
       "3  0.585276  0.187837  0.429553 -0.421863 -0.824559 -0.538261 -0.488565\n",
       "4  0.233577  0.287272 -0.320921 -0.421863 -0.407330  0.536085 -0.855864"
      ]
     },
     "execution_count": 55,
     "metadata": {},
     "output_type": "execute_result"
    }
   ],
   "source": [
    "pd.DataFrame(X_test_stand).head()"
   ]
  },
  {
   "cell_type": "markdown",
   "id": "44928db8",
   "metadata": {},
   "source": [
    "5. Encode the categorical variables (See the hint below for encoding categorical data!!!)\n"
   ]
  },
  {
   "cell_type": "code",
   "execution_count": 56,
   "id": "cdfe4e05",
   "metadata": {},
   "outputs": [
    {
     "data": {
      "text/plain": [
       "(7291, 13)"
      ]
     },
     "execution_count": 56,
     "metadata": {},
     "output_type": "execute_result"
    }
   ],
   "source": [
    "X_train_cat = X_train.select_dtypes(object)\n",
    "X_test_cat = X_test.select_dtypes(object)\n",
    "X_train_cat.shape"
   ]
  },
  {
   "cell_type": "markdown",
   "id": "b830b293",
   "metadata": {},
   "source": [
    "--- One hot encoding"
   ]
  },
  {
   "cell_type": "code",
   "execution_count": 57,
   "id": "92bc42c6",
   "metadata": {},
   "outputs": [
    {
     "data": {
      "text/html": [
       "<div>\n",
       "<style scoped>\n",
       "    .dataframe tbody tr th:only-of-type {\n",
       "        vertical-align: middle;\n",
       "    }\n",
       "\n",
       "    .dataframe tbody tr th {\n",
       "        vertical-align: top;\n",
       "    }\n",
       "\n",
       "    .dataframe thead th {\n",
       "        text-align: right;\n",
       "    }\n",
       "</style>\n",
       "<table border=\"1\" class=\"dataframe\">\n",
       "  <thead>\n",
       "    <tr style=\"text-align: right;\">\n",
       "      <th></th>\n",
       "      <th>vehicle_size</th>\n",
       "      <th>employment_status</th>\n",
       "      <th>coverage</th>\n",
       "      <th>education</th>\n",
       "    </tr>\n",
       "  </thead>\n",
       "  <tbody>\n",
       "    <tr>\n",
       "      <th>9003</th>\n",
       "      <td>Small</td>\n",
       "      <td>Employed</td>\n",
       "      <td>Basic</td>\n",
       "      <td>Academic Degree</td>\n",
       "    </tr>\n",
       "    <tr>\n",
       "      <th>5931</th>\n",
       "      <td>Small</td>\n",
       "      <td>Other</td>\n",
       "      <td>Basic</td>\n",
       "      <td>University</td>\n",
       "    </tr>\n",
       "    <tr>\n",
       "      <th>8506</th>\n",
       "      <td>Medsize</td>\n",
       "      <td>Unemployed</td>\n",
       "      <td>Extended</td>\n",
       "      <td>Academic Degree</td>\n",
       "    </tr>\n",
       "    <tr>\n",
       "      <th>7690</th>\n",
       "      <td>Medsize</td>\n",
       "      <td>Other</td>\n",
       "      <td>Basic</td>\n",
       "      <td>University</td>\n",
       "    </tr>\n",
       "    <tr>\n",
       "      <th>6491</th>\n",
       "      <td>Medsize</td>\n",
       "      <td>Employed</td>\n",
       "      <td>Basic</td>\n",
       "      <td>University</td>\n",
       "    </tr>\n",
       "  </tbody>\n",
       "</table>\n",
       "</div>"
      ],
      "text/plain": [
       "     vehicle_size employment_status  coverage        education\n",
       "9003        Small          Employed     Basic  Academic Degree\n",
       "5931        Small             Other     Basic       University\n",
       "8506      Medsize        Unemployed  Extended  Academic Degree\n",
       "7690      Medsize             Other     Basic       University\n",
       "6491      Medsize          Employed     Basic       University"
      ]
     },
     "execution_count": 57,
     "metadata": {},
     "output_type": "execute_result"
    }
   ],
   "source": [
    "X_train_onehotencode = X_train_cat[['state', 'marital_status', 'policy', 'response', 'gender', 'location_code', 'renew_offer_type', 'sales_channel', 'vehicle_class']]\n",
    "X_train_ordinal = X_train_cat[['vehicle_size', 'employment_status', 'coverage', 'education']]\n",
    "X_train_onehotencode.head()\n",
    "X_train_ordinal.head()"
   ]
  },
  {
   "cell_type": "code",
   "execution_count": 58,
   "id": "d025f9fc",
   "metadata": {},
   "outputs": [
    {
     "data": {
      "text/html": [
       "<div>\n",
       "<style scoped>\n",
       "    .dataframe tbody tr th:only-of-type {\n",
       "        vertical-align: middle;\n",
       "    }\n",
       "\n",
       "    .dataframe tbody tr th {\n",
       "        vertical-align: top;\n",
       "    }\n",
       "\n",
       "    .dataframe thead th {\n",
       "        text-align: right;\n",
       "    }\n",
       "</style>\n",
       "<table border=\"1\" class=\"dataframe\">\n",
       "  <thead>\n",
       "    <tr style=\"text-align: right;\">\n",
       "      <th></th>\n",
       "      <th>state</th>\n",
       "      <th>marital_status</th>\n",
       "      <th>policy</th>\n",
       "      <th>response</th>\n",
       "      <th>gender</th>\n",
       "      <th>location_code</th>\n",
       "      <th>renew_offer_type</th>\n",
       "      <th>sales_channel</th>\n",
       "      <th>vehicle_class</th>\n",
       "    </tr>\n",
       "  </thead>\n",
       "  <tbody>\n",
       "    <tr>\n",
       "      <th>5489</th>\n",
       "      <td>Nevada</td>\n",
       "      <td>Married</td>\n",
       "      <td>Personal L2</td>\n",
       "      <td>No</td>\n",
       "      <td>F</td>\n",
       "      <td>Suburban</td>\n",
       "      <td>Offer4</td>\n",
       "      <td>Agent</td>\n",
       "      <td>Luxury</td>\n",
       "    </tr>\n",
       "    <tr>\n",
       "      <th>2043</th>\n",
       "      <td>Washington</td>\n",
       "      <td>Married</td>\n",
       "      <td>Corporate L3</td>\n",
       "      <td>No</td>\n",
       "      <td>M</td>\n",
       "      <td>Suburban</td>\n",
       "      <td>Offer2</td>\n",
       "      <td>Branch</td>\n",
       "      <td>SUV</td>\n",
       "    </tr>\n",
       "    <tr>\n",
       "      <th>4254</th>\n",
       "      <td>Nevada</td>\n",
       "      <td>Single</td>\n",
       "      <td>Personal L2</td>\n",
       "      <td>No</td>\n",
       "      <td>M</td>\n",
       "      <td>Suburban</td>\n",
       "      <td>Offer4</td>\n",
       "      <td>Agent</td>\n",
       "      <td>Four-Door Car</td>\n",
       "    </tr>\n",
       "    <tr>\n",
       "      <th>6088</th>\n",
       "      <td>California</td>\n",
       "      <td>Married</td>\n",
       "      <td>Personal L3</td>\n",
       "      <td>No</td>\n",
       "      <td>M</td>\n",
       "      <td>Suburban</td>\n",
       "      <td>Offer1</td>\n",
       "      <td>Branch</td>\n",
       "      <td>SUV</td>\n",
       "    </tr>\n",
       "    <tr>\n",
       "      <th>5084</th>\n",
       "      <td>California</td>\n",
       "      <td>Single</td>\n",
       "      <td>Corporate L2</td>\n",
       "      <td>Yes</td>\n",
       "      <td>F</td>\n",
       "      <td>Suburban</td>\n",
       "      <td>Offer1</td>\n",
       "      <td>Agent</td>\n",
       "      <td>Four-Door Car</td>\n",
       "    </tr>\n",
       "  </tbody>\n",
       "</table>\n",
       "</div>"
      ],
      "text/plain": [
       "           state marital_status        policy response gender location_code  \\\n",
       "5489      Nevada        Married   Personal L2       No      F      Suburban   \n",
       "2043  Washington        Married  Corporate L3       No      M      Suburban   \n",
       "4254      Nevada         Single   Personal L2       No      M      Suburban   \n",
       "6088  California        Married   Personal L3       No      M      Suburban   \n",
       "5084  California         Single  Corporate L2      Yes      F      Suburban   \n",
       "\n",
       "     renew_offer_type sales_channel  vehicle_class  \n",
       "5489           Offer4         Agent         Luxury  \n",
       "2043           Offer2        Branch            SUV  \n",
       "4254           Offer4         Agent  Four-Door Car  \n",
       "6088           Offer1        Branch            SUV  \n",
       "5084           Offer1         Agent  Four-Door Car  "
      ]
     },
     "metadata": {},
     "output_type": "display_data"
    },
    {
     "data": {
      "text/plain": [
       "(1823, 9)"
      ]
     },
     "metadata": {},
     "output_type": "display_data"
    },
    {
     "data": {
      "text/html": [
       "<div>\n",
       "<style scoped>\n",
       "    .dataframe tbody tr th:only-of-type {\n",
       "        vertical-align: middle;\n",
       "    }\n",
       "\n",
       "    .dataframe tbody tr th {\n",
       "        vertical-align: top;\n",
       "    }\n",
       "\n",
       "    .dataframe thead th {\n",
       "        text-align: right;\n",
       "    }\n",
       "</style>\n",
       "<table border=\"1\" class=\"dataframe\">\n",
       "  <thead>\n",
       "    <tr style=\"text-align: right;\">\n",
       "      <th></th>\n",
       "      <th>vehicle_size</th>\n",
       "      <th>employment_status</th>\n",
       "      <th>coverage</th>\n",
       "      <th>education</th>\n",
       "    </tr>\n",
       "  </thead>\n",
       "  <tbody>\n",
       "    <tr>\n",
       "      <th>5489</th>\n",
       "      <td>Large</td>\n",
       "      <td>Employed</td>\n",
       "      <td>Basic</td>\n",
       "      <td>Academic Degree</td>\n",
       "    </tr>\n",
       "    <tr>\n",
       "      <th>2043</th>\n",
       "      <td>Medsize</td>\n",
       "      <td>Employed</td>\n",
       "      <td>Extended</td>\n",
       "      <td>High School or Below</td>\n",
       "    </tr>\n",
       "    <tr>\n",
       "      <th>4254</th>\n",
       "      <td>Medsize</td>\n",
       "      <td>Unemployed</td>\n",
       "      <td>Basic</td>\n",
       "      <td>High School or Below</td>\n",
       "    </tr>\n",
       "    <tr>\n",
       "      <th>6088</th>\n",
       "      <td>Medsize</td>\n",
       "      <td>Employed</td>\n",
       "      <td>Basic</td>\n",
       "      <td>University</td>\n",
       "    </tr>\n",
       "    <tr>\n",
       "      <th>5084</th>\n",
       "      <td>Medsize</td>\n",
       "      <td>Other</td>\n",
       "      <td>Premium</td>\n",
       "      <td>Academic Degree</td>\n",
       "    </tr>\n",
       "  </tbody>\n",
       "</table>\n",
       "</div>"
      ],
      "text/plain": [
       "     vehicle_size employment_status  coverage             education\n",
       "5489        Large          Employed     Basic       Academic Degree\n",
       "2043      Medsize          Employed  Extended  High School or Below\n",
       "4254      Medsize        Unemployed     Basic  High School or Below\n",
       "6088      Medsize          Employed     Basic            University\n",
       "5084      Medsize             Other   Premium       Academic Degree"
      ]
     },
     "metadata": {},
     "output_type": "display_data"
    },
    {
     "data": {
      "text/plain": [
       "(1823, 4)"
      ]
     },
     "metadata": {},
     "output_type": "display_data"
    }
   ],
   "source": [
    "X_test_onehotencode = X_test_cat[['state', 'marital_status', 'policy', 'response', 'gender', 'location_code', 'renew_offer_type', 'sales_channel', 'vehicle_class']]\n",
    "X_test_ordinal = X_test_cat[['vehicle_size', 'employment_status', 'coverage', 'education']]\n",
    "display(X_test_onehotencode.head())\n",
    "display(X_test_onehotencode.shape)\n",
    "display(X_test_ordinal.head())\n",
    "display(X_test_ordinal.shape)"
   ]
  },
  {
   "cell_type": "code",
   "execution_count": 59,
   "id": "09bb635a",
   "metadata": {},
   "outputs": [],
   "source": [
    "from sklearn.preprocessing import OneHotEncoder\n",
    "\n",
    "encoder = OneHotEncoder(handle_unknown='error', drop='first').fit(X_train_onehotencode)\n",
    "X_train_encoded = encoder.transform(X_train_onehotencode).toarray()\n",
    "X_test_encoded = encoder.transform(X_test_onehotencode).toarray()"
   ]
  },
  {
   "cell_type": "code",
   "execution_count": 61,
   "id": "4b0414da",
   "metadata": {},
   "outputs": [
    {
     "data": {
      "text/plain": [
       "array(['Small', 'Medsize', 'Large'], dtype=object)"
      ]
     },
     "execution_count": 61,
     "metadata": {},
     "output_type": "execute_result"
    }
   ],
   "source": [
    "X_train_ordinal['vehicle_size'].unique()"
   ]
  },
  {
   "cell_type": "code",
   "execution_count": 62,
   "id": "979eb191",
   "metadata": {},
   "outputs": [
    {
     "name": "stderr",
     "output_type": "stream",
     "text": [
      "C:\\Users\\aslis\\AppData\\Local\\Temp\\ipykernel_27928\\1710839503.py:9: SettingWithCopyWarning: \n",
      "A value is trying to be set on a copy of a slice from a DataFrame.\n",
      "Try using .loc[row_indexer,col_indexer] = value instead\n",
      "\n",
      "See the caveats in the documentation: https://pandas.pydata.org/pandas-docs/stable/user_guide/indexing.html#returning-a-view-versus-a-copy\n",
      "  X_train_ordinal['vehicle_size'] = X_train_ordinal['vehicle_size'].apply(v_size)\n",
      "C:\\Users\\aslis\\AppData\\Local\\Temp\\ipykernel_27928\\1710839503.py:10: SettingWithCopyWarning: \n",
      "A value is trying to be set on a copy of a slice from a DataFrame.\n",
      "Try using .loc[row_indexer,col_indexer] = value instead\n",
      "\n",
      "See the caveats in the documentation: https://pandas.pydata.org/pandas-docs/stable/user_guide/indexing.html#returning-a-view-versus-a-copy\n",
      "  X_test_ordinal['vehicle_size'] = X_test_ordinal['vehicle_size'].apply(v_size)\n"
     ]
    }
   ],
   "source": [
    "def v_size(x):\n",
    "    if 'Small' in x:\n",
    "        return \"0\"\n",
    "    elif 'Medsize' in x:\n",
    "        return \"1\"\n",
    "    else:\n",
    "        return '2'\n",
    "    \n",
    "X_train_ordinal['vehicle_size'] = X_train_ordinal['vehicle_size'].apply(v_size)\n",
    "X_test_ordinal['vehicle_size'] = X_test_ordinal['vehicle_size'].apply(v_size)"
   ]
  },
  {
   "cell_type": "code",
   "execution_count": 63,
   "id": "fa19f3ce",
   "metadata": {},
   "outputs": [],
   "source": [
    "# X_train_ordinal['vehicle_size'] = X_train_ordinal['vehicle_size'].map({\"Small\" : 0, \"Medsize\" : 1, \"Large\" : 2})\n",
    "# X_test_ordinal['vehicle_size'] = X_test_ordinal['vehicle_size'].map({\"Small\" : 0, \"Medsize\" : 1, \"Large\" : 2})"
   ]
  },
  {
   "cell_type": "code",
   "execution_count": 64,
   "id": "49457455",
   "metadata": {},
   "outputs": [
    {
     "data": {
      "text/plain": [
       "array(['Employed', 'Other', 'Unemployed'], dtype=object)"
      ]
     },
     "execution_count": 64,
     "metadata": {},
     "output_type": "execute_result"
    }
   ],
   "source": [
    "X_train_ordinal['employment_status'].unique()"
   ]
  },
  {
   "cell_type": "code",
   "execution_count": 65,
   "id": "901b1046",
   "metadata": {},
   "outputs": [
    {
     "name": "stderr",
     "output_type": "stream",
     "text": [
      "C:\\Users\\aslis\\AppData\\Local\\Temp\\ipykernel_27928\\3914483365.py:1: SettingWithCopyWarning: \n",
      "A value is trying to be set on a copy of a slice from a DataFrame.\n",
      "Try using .loc[row_indexer,col_indexer] = value instead\n",
      "\n",
      "See the caveats in the documentation: https://pandas.pydata.org/pandas-docs/stable/user_guide/indexing.html#returning-a-view-versus-a-copy\n",
      "  X_train_ordinal['employment_status'] = X_train_ordinal['employment_status'].map({\"Other\" : 0, \"Unemployed\" : 1, \"Employed\":2})\n",
      "C:\\Users\\aslis\\AppData\\Local\\Temp\\ipykernel_27928\\3914483365.py:2: SettingWithCopyWarning: \n",
      "A value is trying to be set on a copy of a slice from a DataFrame.\n",
      "Try using .loc[row_indexer,col_indexer] = value instead\n",
      "\n",
      "See the caveats in the documentation: https://pandas.pydata.org/pandas-docs/stable/user_guide/indexing.html#returning-a-view-versus-a-copy\n",
      "  X_test_ordinal['employment_status'] = X_test_ordinal['employment_status'].map({\"Other\" : 0, \"Unemployed\" : 1, \"Employed\":2})\n"
     ]
    }
   ],
   "source": [
    "X_train_ordinal['employment_status'] = X_train_ordinal['employment_status'].map({\"Other\" : 0, \"Unemployed\" : 1, \"Employed\":2})\n",
    "X_test_ordinal['employment_status'] = X_test_ordinal['employment_status'].map({\"Other\" : 0, \"Unemployed\" : 1, \"Employed\":2})"
   ]
  },
  {
   "cell_type": "code",
   "execution_count": 66,
   "id": "c75cda26",
   "metadata": {},
   "outputs": [
    {
     "data": {
      "text/plain": [
       "array(['Basic', 'Extended', 'Premium'], dtype=object)"
      ]
     },
     "execution_count": 66,
     "metadata": {},
     "output_type": "execute_result"
    }
   ],
   "source": [
    "X_train_ordinal['coverage'].unique()"
   ]
  },
  {
   "cell_type": "code",
   "execution_count": 67,
   "id": "dd14aaf6",
   "metadata": {},
   "outputs": [
    {
     "name": "stderr",
     "output_type": "stream",
     "text": [
      "C:\\Users\\aslis\\AppData\\Local\\Temp\\ipykernel_27928\\294744997.py:1: SettingWithCopyWarning: \n",
      "A value is trying to be set on a copy of a slice from a DataFrame.\n",
      "Try using .loc[row_indexer,col_indexer] = value instead\n",
      "\n",
      "See the caveats in the documentation: https://pandas.pydata.org/pandas-docs/stable/user_guide/indexing.html#returning-a-view-versus-a-copy\n",
      "  X_train_ordinal['coverage'] = X_train_ordinal['coverage'].map({\"Basic\" : 0, \"Extended\" : 1, \"Premium\":2})\n",
      "C:\\Users\\aslis\\AppData\\Local\\Temp\\ipykernel_27928\\294744997.py:2: SettingWithCopyWarning: \n",
      "A value is trying to be set on a copy of a slice from a DataFrame.\n",
      "Try using .loc[row_indexer,col_indexer] = value instead\n",
      "\n",
      "See the caveats in the documentation: https://pandas.pydata.org/pandas-docs/stable/user_guide/indexing.html#returning-a-view-versus-a-copy\n",
      "  X_test_ordinal['coverage'] = X_test_ordinal['coverage'].map({\"Basic\" : 0, \"Extended\" : 1, \"Premium\":2})\n"
     ]
    }
   ],
   "source": [
    "X_train_ordinal['coverage'] = X_train_ordinal['coverage'].map({\"Basic\" : 0, \"Extended\" : 1, \"Premium\":2})\n",
    "X_test_ordinal['coverage'] = X_test_ordinal['coverage'].map({\"Basic\" : 0, \"Extended\" : 1, \"Premium\":2})"
   ]
  },
  {
   "cell_type": "code",
   "execution_count": 68,
   "id": "7cf59426",
   "metadata": {},
   "outputs": [
    {
     "data": {
      "text/plain": [
       "array(['Academic Degree', 'University', 'High School or Below'],\n",
       "      dtype=object)"
      ]
     },
     "execution_count": 68,
     "metadata": {},
     "output_type": "execute_result"
    }
   ],
   "source": [
    "X_train_ordinal['education'].unique()"
   ]
  },
  {
   "cell_type": "code",
   "execution_count": 69,
   "id": "86176766",
   "metadata": {},
   "outputs": [
    {
     "name": "stderr",
     "output_type": "stream",
     "text": [
      "C:\\Users\\aslis\\AppData\\Local\\Temp\\ipykernel_27928\\4034153493.py:1: SettingWithCopyWarning: \n",
      "A value is trying to be set on a copy of a slice from a DataFrame.\n",
      "Try using .loc[row_indexer,col_indexer] = value instead\n",
      "\n",
      "See the caveats in the documentation: https://pandas.pydata.org/pandas-docs/stable/user_guide/indexing.html#returning-a-view-versus-a-copy\n",
      "  X_train_ordinal['education'] = X_train_ordinal['education'].map({\"High School or Below'\" : 0, \"University\" : 1, \"Academic Degree\":2})\n",
      "C:\\Users\\aslis\\AppData\\Local\\Temp\\ipykernel_27928\\4034153493.py:2: SettingWithCopyWarning: \n",
      "A value is trying to be set on a copy of a slice from a DataFrame.\n",
      "Try using .loc[row_indexer,col_indexer] = value instead\n",
      "\n",
      "See the caveats in the documentation: https://pandas.pydata.org/pandas-docs/stable/user_guide/indexing.html#returning-a-view-versus-a-copy\n",
      "  X_test_ordinal['education'] = X_test_ordinal['education'].map({\"High School or Below'\" : 0, \"University\" : 1, \"Academic Degree\":2})\n"
     ]
    }
   ],
   "source": [
    "X_train_ordinal['education'] = X_train_ordinal['education'].map({\"High School or Below'\" : 0, \"University\" : 1, \"Academic Degree\":2})\n",
    "X_test_ordinal['education'] = X_test_ordinal['education'].map({\"High School or Below'\" : 0, \"University\" : 1, \"Academic Degree\":2})"
   ]
  },
  {
   "cell_type": "markdown",
   "id": "ad88cdf5",
   "metadata": {},
   "source": [
    "6. The time variable can be useful. Try to transform its data into a useful one. Hint: Day week and month as integers might be useful."
   ]
  },
  {
   "cell_type": "code",
   "execution_count": 70,
   "id": "9a75434a",
   "metadata": {},
   "outputs": [
    {
     "data": {
      "text/html": [
       "<div>\n",
       "<style scoped>\n",
       "    .dataframe tbody tr th:only-of-type {\n",
       "        vertical-align: middle;\n",
       "    }\n",
       "\n",
       "    .dataframe tbody tr th {\n",
       "        vertical-align: top;\n",
       "    }\n",
       "\n",
       "    .dataframe thead th {\n",
       "        text-align: right;\n",
       "    }\n",
       "</style>\n",
       "<table border=\"1\" class=\"dataframe\">\n",
       "  <thead>\n",
       "    <tr style=\"text-align: right;\">\n",
       "      <th></th>\n",
       "      <th>state</th>\n",
       "      <th>response</th>\n",
       "      <th>coverage</th>\n",
       "      <th>education</th>\n",
       "      <th>employment_status</th>\n",
       "      <th>gender</th>\n",
       "      <th>location_code</th>\n",
       "      <th>marital_status</th>\n",
       "      <th>policy</th>\n",
       "      <th>renew_offer_type</th>\n",
       "      <th>...</th>\n",
       "      <th>vehicle_class</th>\n",
       "      <th>vehicle_size</th>\n",
       "      <th>monthly_premium_auto</th>\n",
       "      <th>months_since_last_claim</th>\n",
       "      <th>months_since_policy_inception</th>\n",
       "      <th>number_of_open_complaints</th>\n",
       "      <th>number_of_policies</th>\n",
       "      <th>customer_lifetime_value</th>\n",
       "      <th>income</th>\n",
       "      <th>effective_to_date</th>\n",
       "    </tr>\n",
       "  </thead>\n",
       "  <tbody>\n",
       "    <tr>\n",
       "      <th>9003</th>\n",
       "      <td>California</td>\n",
       "      <td>No</td>\n",
       "      <td>Basic</td>\n",
       "      <td>Academic Degree</td>\n",
       "      <td>Employed</td>\n",
       "      <td>F</td>\n",
       "      <td>Urban</td>\n",
       "      <td>Married</td>\n",
       "      <td>Personal L1</td>\n",
       "      <td>Offer1</td>\n",
       "      <td>...</td>\n",
       "      <td>Luxury</td>\n",
       "      <td>Small</td>\n",
       "      <td>102</td>\n",
       "      <td>7</td>\n",
       "      <td>55</td>\n",
       "      <td>0</td>\n",
       "      <td>2</td>\n",
       "      <td>24826.891270</td>\n",
       "      <td>67572</td>\n",
       "      <td>2011-02-25</td>\n",
       "    </tr>\n",
       "    <tr>\n",
       "      <th>5931</th>\n",
       "      <td>California</td>\n",
       "      <td>No</td>\n",
       "      <td>Basic</td>\n",
       "      <td>University</td>\n",
       "      <td>Other</td>\n",
       "      <td>F</td>\n",
       "      <td>Suburban</td>\n",
       "      <td>Married</td>\n",
       "      <td>Corporate L3</td>\n",
       "      <td>Offer2</td>\n",
       "      <td>...</td>\n",
       "      <td>Four-Door Car</td>\n",
       "      <td>Small</td>\n",
       "      <td>66</td>\n",
       "      <td>31</td>\n",
       "      <td>0</td>\n",
       "      <td>0</td>\n",
       "      <td>1</td>\n",
       "      <td>2511.697993</td>\n",
       "      <td>14906</td>\n",
       "      <td>2011-02-03</td>\n",
       "    </tr>\n",
       "    <tr>\n",
       "      <th>8506</th>\n",
       "      <td>California</td>\n",
       "      <td>No</td>\n",
       "      <td>Extended</td>\n",
       "      <td>Academic Degree</td>\n",
       "      <td>Unemployed</td>\n",
       "      <td>M</td>\n",
       "      <td>Suburban</td>\n",
       "      <td>Single</td>\n",
       "      <td>Personal L2</td>\n",
       "      <td>Offer1</td>\n",
       "      <td>...</td>\n",
       "      <td>Two-Door Car</td>\n",
       "      <td>Medsize</td>\n",
       "      <td>95</td>\n",
       "      <td>11</td>\n",
       "      <td>23</td>\n",
       "      <td>0</td>\n",
       "      <td>5</td>\n",
       "      <td>6290.699249</td>\n",
       "      <td>0</td>\n",
       "      <td>2011-01-21</td>\n",
       "    </tr>\n",
       "    <tr>\n",
       "      <th>7690</th>\n",
       "      <td>Washington</td>\n",
       "      <td>No</td>\n",
       "      <td>Basic</td>\n",
       "      <td>University</td>\n",
       "      <td>Other</td>\n",
       "      <td>F</td>\n",
       "      <td>Urban</td>\n",
       "      <td>Single</td>\n",
       "      <td>Corporate L3</td>\n",
       "      <td>Offer1</td>\n",
       "      <td>...</td>\n",
       "      <td>Four-Door Car</td>\n",
       "      <td>Medsize</td>\n",
       "      <td>66</td>\n",
       "      <td>11</td>\n",
       "      <td>74</td>\n",
       "      <td>0</td>\n",
       "      <td>2</td>\n",
       "      <td>9688.129179</td>\n",
       "      <td>24584</td>\n",
       "      <td>2011-02-01</td>\n",
       "    </tr>\n",
       "    <tr>\n",
       "      <th>6491</th>\n",
       "      <td>Oregon</td>\n",
       "      <td>No</td>\n",
       "      <td>Basic</td>\n",
       "      <td>University</td>\n",
       "      <td>Employed</td>\n",
       "      <td>M</td>\n",
       "      <td>Suburban</td>\n",
       "      <td>Married</td>\n",
       "      <td>Special L3</td>\n",
       "      <td>Offer2</td>\n",
       "      <td>...</td>\n",
       "      <td>Four-Door Car</td>\n",
       "      <td>Medsize</td>\n",
       "      <td>74</td>\n",
       "      <td>2</td>\n",
       "      <td>78</td>\n",
       "      <td>0</td>\n",
       "      <td>2</td>\n",
       "      <td>17569.159790</td>\n",
       "      <td>41463</td>\n",
       "      <td>2011-02-18</td>\n",
       "    </tr>\n",
       "  </tbody>\n",
       "</table>\n",
       "<p>5 rows × 21 columns</p>\n",
       "</div>"
      ],
      "text/plain": [
       "           state response  coverage        education employment_status gender  \\\n",
       "9003  California       No     Basic  Academic Degree          Employed      F   \n",
       "5931  California       No     Basic       University             Other      F   \n",
       "8506  California       No  Extended  Academic Degree        Unemployed      M   \n",
       "7690  Washington       No     Basic       University             Other      F   \n",
       "6491      Oregon       No     Basic       University          Employed      M   \n",
       "\n",
       "     location_code marital_status        policy renew_offer_type  ...  \\\n",
       "9003         Urban        Married   Personal L1           Offer1  ...   \n",
       "5931      Suburban        Married  Corporate L3           Offer2  ...   \n",
       "8506      Suburban         Single   Personal L2           Offer1  ...   \n",
       "7690         Urban         Single  Corporate L3           Offer1  ...   \n",
       "6491      Suburban        Married    Special L3           Offer2  ...   \n",
       "\n",
       "      vehicle_class vehicle_size monthly_premium_auto  \\\n",
       "9003         Luxury        Small                  102   \n",
       "5931  Four-Door Car        Small                   66   \n",
       "8506   Two-Door Car      Medsize                   95   \n",
       "7690  Four-Door Car      Medsize                   66   \n",
       "6491  Four-Door Car      Medsize                   74   \n",
       "\n",
       "      months_since_last_claim  months_since_policy_inception  \\\n",
       "9003                        7                             55   \n",
       "5931                       31                              0   \n",
       "8506                       11                             23   \n",
       "7690                       11                             74   \n",
       "6491                        2                             78   \n",
       "\n",
       "      number_of_open_complaints  number_of_policies  customer_lifetime_value  \\\n",
       "9003                          0                   2             24826.891270   \n",
       "5931                          0                   1              2511.697993   \n",
       "8506                          0                   5              6290.699249   \n",
       "7690                          0                   2              9688.129179   \n",
       "6491                          0                   2             17569.159790   \n",
       "\n",
       "      income  effective_to_date  \n",
       "9003   67572         2011-02-25  \n",
       "5931   14906         2011-02-03  \n",
       "8506       0         2011-01-21  \n",
       "7690   24584         2011-02-01  \n",
       "6491   41463         2011-02-18  \n",
       "\n",
       "[5 rows x 21 columns]"
      ]
     },
     "execution_count": 70,
     "metadata": {},
     "output_type": "execute_result"
    }
   ],
   "source": [
    "X_train.head()"
   ]
  },
  {
   "cell_type": "code",
   "execution_count": 71,
   "id": "f2fd9b41",
   "metadata": {},
   "outputs": [],
   "source": [
    "import datetime\n",
    "X_train['day_of_week'] = pd.DatetimeIndex(X_train['effective_to_date']).day_of_week\n",
    "X_train['month'] = X_train['effective_to_date'].dt.month"
   ]
  },
  {
   "cell_type": "code",
   "execution_count": 72,
   "id": "fa53a291",
   "metadata": {},
   "outputs": [],
   "source": [
    "X_test['day_of_week'] = pd.DatetimeIndex(X_test['effective_to_date']).day_of_week\n",
    "X_test['month'] = X_test['effective_to_date'].dt.month"
   ]
  },
  {
   "cell_type": "code",
   "execution_count": 73,
   "id": "35e04122",
   "metadata": {},
   "outputs": [
    {
     "data": {
      "text/html": [
       "<div>\n",
       "<style scoped>\n",
       "    .dataframe tbody tr th:only-of-type {\n",
       "        vertical-align: middle;\n",
       "    }\n",
       "\n",
       "    .dataframe tbody tr th {\n",
       "        vertical-align: top;\n",
       "    }\n",
       "\n",
       "    .dataframe thead th {\n",
       "        text-align: right;\n",
       "    }\n",
       "</style>\n",
       "<table border=\"1\" class=\"dataframe\">\n",
       "  <thead>\n",
       "    <tr style=\"text-align: right;\">\n",
       "      <th></th>\n",
       "      <th>day_of_week</th>\n",
       "      <th>month</th>\n",
       "    </tr>\n",
       "  </thead>\n",
       "  <tbody>\n",
       "    <tr>\n",
       "      <th>9003</th>\n",
       "      <td>4</td>\n",
       "      <td>2</td>\n",
       "    </tr>\n",
       "    <tr>\n",
       "      <th>5931</th>\n",
       "      <td>3</td>\n",
       "      <td>2</td>\n",
       "    </tr>\n",
       "    <tr>\n",
       "      <th>8506</th>\n",
       "      <td>4</td>\n",
       "      <td>1</td>\n",
       "    </tr>\n",
       "    <tr>\n",
       "      <th>7690</th>\n",
       "      <td>1</td>\n",
       "      <td>2</td>\n",
       "    </tr>\n",
       "    <tr>\n",
       "      <th>6491</th>\n",
       "      <td>4</td>\n",
       "      <td>2</td>\n",
       "    </tr>\n",
       "  </tbody>\n",
       "</table>\n",
       "</div>"
      ],
      "text/plain": [
       "      day_of_week  month\n",
       "9003            4      2\n",
       "5931            3      2\n",
       "8506            4      1\n",
       "7690            1      2\n",
       "6491            4      2"
      ]
     },
     "execution_count": 73,
     "metadata": {},
     "output_type": "execute_result"
    }
   ],
   "source": [
    "X_train_date = X_train[['day_of_week', 'month']]\n",
    "X_train_date.head()"
   ]
  },
  {
   "cell_type": "code",
   "execution_count": 74,
   "id": "84ef2245",
   "metadata": {},
   "outputs": [
    {
     "data": {
      "text/html": [
       "<div>\n",
       "<style scoped>\n",
       "    .dataframe tbody tr th:only-of-type {\n",
       "        vertical-align: middle;\n",
       "    }\n",
       "\n",
       "    .dataframe tbody tr th {\n",
       "        vertical-align: top;\n",
       "    }\n",
       "\n",
       "    .dataframe thead th {\n",
       "        text-align: right;\n",
       "    }\n",
       "</style>\n",
       "<table border=\"1\" class=\"dataframe\">\n",
       "  <thead>\n",
       "    <tr style=\"text-align: right;\">\n",
       "      <th></th>\n",
       "      <th>day_of_week</th>\n",
       "      <th>month</th>\n",
       "    </tr>\n",
       "  </thead>\n",
       "  <tbody>\n",
       "    <tr>\n",
       "      <th>5489</th>\n",
       "      <td>0</td>\n",
       "      <td>2</td>\n",
       "    </tr>\n",
       "    <tr>\n",
       "      <th>2043</th>\n",
       "      <td>2</td>\n",
       "      <td>1</td>\n",
       "    </tr>\n",
       "    <tr>\n",
       "      <th>4254</th>\n",
       "      <td>1</td>\n",
       "      <td>1</td>\n",
       "    </tr>\n",
       "    <tr>\n",
       "      <th>6088</th>\n",
       "      <td>6</td>\n",
       "      <td>2</td>\n",
       "    </tr>\n",
       "    <tr>\n",
       "      <th>5084</th>\n",
       "      <td>2</td>\n",
       "      <td>2</td>\n",
       "    </tr>\n",
       "  </tbody>\n",
       "</table>\n",
       "</div>"
      ],
      "text/plain": [
       "      day_of_week  month\n",
       "5489            0      2\n",
       "2043            2      1\n",
       "4254            1      1\n",
       "6088            6      2\n",
       "5084            2      2"
      ]
     },
     "execution_count": 74,
     "metadata": {},
     "output_type": "execute_result"
    }
   ],
   "source": [
    "X_test_date = X_test[['day_of_week', 'month']]\n",
    "X_test_date.head()"
   ]
  },
  {
   "cell_type": "markdown",
   "id": "0a0e77c5",
   "metadata": {},
   "source": [
    "7. Since the model will only accept numerical data, check and make sure that every column is numerical, if some are not, change it using encoding."
   ]
  },
  {
   "cell_type": "markdown",
   "id": "b2993166",
   "metadata": {},
   "source": [
    "I will concatenate the scaled,encoded data"
   ]
  },
  {
   "cell_type": "code",
   "execution_count": 75,
   "id": "4bb4379a",
   "metadata": {},
   "outputs": [],
   "source": [
    "X_train_transformed = np.concatenate((X_train_stand, X_train_encoded, X_train_ordinal), axis = 1)\n",
    "X_test_transformed = np.concatenate((X_test_stand, X_test_encoded, X_test_ordinal), axis = 1)"
   ]
  },
  {
   "cell_type": "code",
   "execution_count": 76,
   "id": "79d2b724",
   "metadata": {},
   "outputs": [],
   "source": [
    "X_train_transformed = pd.DataFrame(X_train_transformed)\n",
    "X_test_transformed = pd.DataFrame(X_test_transformed)"
   ]
  },
  {
   "cell_type": "code",
   "execution_count": 80,
   "id": "9f2e77b9",
   "metadata": {},
   "outputs": [
    {
     "data": {
      "text/plain": [
       "0        0\n",
       "1        0\n",
       "2        0\n",
       "3        0\n",
       "4        0\n",
       "5        0\n",
       "6        0\n",
       "7        0\n",
       "8        0\n",
       "9        0\n",
       "10       0\n",
       "11       0\n",
       "12       0\n",
       "13       0\n",
       "14       0\n",
       "15       0\n",
       "16       0\n",
       "17       0\n",
       "18       0\n",
       "19       0\n",
       "20       0\n",
       "21       0\n",
       "22       0\n",
       "23       0\n",
       "24       0\n",
       "25       0\n",
       "26       0\n",
       "27       0\n",
       "28       0\n",
       "29       0\n",
       "30       0\n",
       "31       0\n",
       "32       0\n",
       "33       0\n",
       "34       0\n",
       "35       0\n",
       "36    2123\n",
       "dtype: int64"
      ]
     },
     "execution_count": 80,
     "metadata": {},
     "output_type": "execute_result"
    }
   ],
   "source": [
    "X_train_transformed.isna().sum()"
   ]
  },
  {
   "cell_type": "markdown",
   "id": "660a49a3",
   "metadata": {},
   "source": [
    "8. Try a simple linear regression with all the data to see whether we are getting good results."
   ]
  },
  {
   "cell_type": "code",
   "execution_count": 78,
   "id": "1f4ef4bb",
   "metadata": {},
   "outputs": [],
   "source": [
    "from sklearn import linear_model\n",
    "from sklearn.metrics import r2_score"
   ]
  },
  {
   "cell_type": "code",
   "execution_count": 79,
   "id": "bf0cbb01",
   "metadata": {},
   "outputs": [
    {
     "ename": "ValueError",
     "evalue": "Input X contains NaN.\nLinearRegression does not accept missing values encoded as NaN natively. For supervised learning, you might want to consider sklearn.ensemble.HistGradientBoostingClassifier and Regressor which accept missing values encoded as NaNs natively. Alternatively, it is possible to preprocess the data, for instance by using an imputer transformer in a pipeline or drop samples with missing values. See https://scikit-learn.org/stable/modules/impute.html You can find a list of all estimators that handle NaN values at the following page: https://scikit-learn.org/stable/modules/impute.html#estimators-that-handle-nan-values",
     "output_type": "error",
     "traceback": [
      "\u001b[1;31m---------------------------------------------------------------------------\u001b[0m",
      "\u001b[1;31mValueError\u001b[0m                                Traceback (most recent call last)",
      "Input \u001b[1;32mIn [79]\u001b[0m, in \u001b[0;36m<cell line: 2>\u001b[1;34m()\u001b[0m\n\u001b[0;32m      1\u001b[0m lm \u001b[38;5;241m=\u001b[39m linear_model\u001b[38;5;241m.\u001b[39mLinearRegression()\n\u001b[1;32m----> 2\u001b[0m \u001b[43mlm\u001b[49m\u001b[38;5;241;43m.\u001b[39;49m\u001b[43mfit\u001b[49m\u001b[43m(\u001b[49m\u001b[43mX_train_transformed\u001b[49m\u001b[43m,\u001b[49m\u001b[43my_train\u001b[49m\u001b[43m)\u001b[49m\n",
      "File \u001b[1;32m~\\anaconda3\\lib\\site-packages\\sklearn\\linear_model\\_base.py:649\u001b[0m, in \u001b[0;36mLinearRegression.fit\u001b[1;34m(self, X, y, sample_weight)\u001b[0m\n\u001b[0;32m    645\u001b[0m n_jobs_ \u001b[38;5;241m=\u001b[39m \u001b[38;5;28mself\u001b[39m\u001b[38;5;241m.\u001b[39mn_jobs\n\u001b[0;32m    647\u001b[0m accept_sparse \u001b[38;5;241m=\u001b[39m \u001b[38;5;28;01mFalse\u001b[39;00m \u001b[38;5;28;01mif\u001b[39;00m \u001b[38;5;28mself\u001b[39m\u001b[38;5;241m.\u001b[39mpositive \u001b[38;5;28;01melse\u001b[39;00m [\u001b[38;5;124m\"\u001b[39m\u001b[38;5;124mcsr\u001b[39m\u001b[38;5;124m\"\u001b[39m, \u001b[38;5;124m\"\u001b[39m\u001b[38;5;124mcsc\u001b[39m\u001b[38;5;124m\"\u001b[39m, \u001b[38;5;124m\"\u001b[39m\u001b[38;5;124mcoo\u001b[39m\u001b[38;5;124m\"\u001b[39m]\n\u001b[1;32m--> 649\u001b[0m X, y \u001b[38;5;241m=\u001b[39m \u001b[38;5;28;43mself\u001b[39;49m\u001b[38;5;241;43m.\u001b[39;49m\u001b[43m_validate_data\u001b[49m\u001b[43m(\u001b[49m\n\u001b[0;32m    650\u001b[0m \u001b[43m    \u001b[49m\u001b[43mX\u001b[49m\u001b[43m,\u001b[49m\u001b[43m \u001b[49m\u001b[43my\u001b[49m\u001b[43m,\u001b[49m\u001b[43m \u001b[49m\u001b[43maccept_sparse\u001b[49m\u001b[38;5;241;43m=\u001b[39;49m\u001b[43maccept_sparse\u001b[49m\u001b[43m,\u001b[49m\u001b[43m \u001b[49m\u001b[43my_numeric\u001b[49m\u001b[38;5;241;43m=\u001b[39;49m\u001b[38;5;28;43;01mTrue\u001b[39;49;00m\u001b[43m,\u001b[49m\u001b[43m \u001b[49m\u001b[43mmulti_output\u001b[49m\u001b[38;5;241;43m=\u001b[39;49m\u001b[38;5;28;43;01mTrue\u001b[39;49;00m\n\u001b[0;32m    651\u001b[0m \u001b[43m\u001b[49m\u001b[43m)\u001b[49m\n\u001b[0;32m    653\u001b[0m sample_weight \u001b[38;5;241m=\u001b[39m _check_sample_weight(\n\u001b[0;32m    654\u001b[0m     sample_weight, X, dtype\u001b[38;5;241m=\u001b[39mX\u001b[38;5;241m.\u001b[39mdtype, only_non_negative\u001b[38;5;241m=\u001b[39m\u001b[38;5;28;01mTrue\u001b[39;00m\n\u001b[0;32m    655\u001b[0m )\n\u001b[0;32m    657\u001b[0m X, y, X_offset, y_offset, X_scale \u001b[38;5;241m=\u001b[39m _preprocess_data(\n\u001b[0;32m    658\u001b[0m     X,\n\u001b[0;32m    659\u001b[0m     y,\n\u001b[1;32m   (...)\u001b[0m\n\u001b[0;32m    662\u001b[0m     sample_weight\u001b[38;5;241m=\u001b[39msample_weight,\n\u001b[0;32m    663\u001b[0m )\n",
      "File \u001b[1;32m~\\anaconda3\\lib\\site-packages\\sklearn\\base.py:554\u001b[0m, in \u001b[0;36mBaseEstimator._validate_data\u001b[1;34m(self, X, y, reset, validate_separately, **check_params)\u001b[0m\n\u001b[0;32m    552\u001b[0m         y \u001b[38;5;241m=\u001b[39m check_array(y, input_name\u001b[38;5;241m=\u001b[39m\u001b[38;5;124m\"\u001b[39m\u001b[38;5;124my\u001b[39m\u001b[38;5;124m\"\u001b[39m, \u001b[38;5;241m*\u001b[39m\u001b[38;5;241m*\u001b[39mcheck_y_params)\n\u001b[0;32m    553\u001b[0m     \u001b[38;5;28;01melse\u001b[39;00m:\n\u001b[1;32m--> 554\u001b[0m         X, y \u001b[38;5;241m=\u001b[39m check_X_y(X, y, \u001b[38;5;241m*\u001b[39m\u001b[38;5;241m*\u001b[39mcheck_params)\n\u001b[0;32m    555\u001b[0m     out \u001b[38;5;241m=\u001b[39m X, y\n\u001b[0;32m    557\u001b[0m \u001b[38;5;28;01mif\u001b[39;00m \u001b[38;5;129;01mnot\u001b[39;00m no_val_X \u001b[38;5;129;01mand\u001b[39;00m check_params\u001b[38;5;241m.\u001b[39mget(\u001b[38;5;124m\"\u001b[39m\u001b[38;5;124mensure_2d\u001b[39m\u001b[38;5;124m\"\u001b[39m, \u001b[38;5;28;01mTrue\u001b[39;00m):\n",
      "File \u001b[1;32m~\\anaconda3\\lib\\site-packages\\sklearn\\utils\\validation.py:1104\u001b[0m, in \u001b[0;36mcheck_X_y\u001b[1;34m(X, y, accept_sparse, accept_large_sparse, dtype, order, copy, force_all_finite, ensure_2d, allow_nd, multi_output, ensure_min_samples, ensure_min_features, y_numeric, estimator)\u001b[0m\n\u001b[0;32m   1099\u001b[0m         estimator_name \u001b[38;5;241m=\u001b[39m _check_estimator_name(estimator)\n\u001b[0;32m   1100\u001b[0m     \u001b[38;5;28;01mraise\u001b[39;00m \u001b[38;5;167;01mValueError\u001b[39;00m(\n\u001b[0;32m   1101\u001b[0m         \u001b[38;5;124mf\u001b[39m\u001b[38;5;124m\"\u001b[39m\u001b[38;5;132;01m{\u001b[39;00mestimator_name\u001b[38;5;132;01m}\u001b[39;00m\u001b[38;5;124m requires y to be passed, but the target y is None\u001b[39m\u001b[38;5;124m\"\u001b[39m\n\u001b[0;32m   1102\u001b[0m     )\n\u001b[1;32m-> 1104\u001b[0m X \u001b[38;5;241m=\u001b[39m \u001b[43mcheck_array\u001b[49m\u001b[43m(\u001b[49m\n\u001b[0;32m   1105\u001b[0m \u001b[43m    \u001b[49m\u001b[43mX\u001b[49m\u001b[43m,\u001b[49m\n\u001b[0;32m   1106\u001b[0m \u001b[43m    \u001b[49m\u001b[43maccept_sparse\u001b[49m\u001b[38;5;241;43m=\u001b[39;49m\u001b[43maccept_sparse\u001b[49m\u001b[43m,\u001b[49m\n\u001b[0;32m   1107\u001b[0m \u001b[43m    \u001b[49m\u001b[43maccept_large_sparse\u001b[49m\u001b[38;5;241;43m=\u001b[39;49m\u001b[43maccept_large_sparse\u001b[49m\u001b[43m,\u001b[49m\n\u001b[0;32m   1108\u001b[0m \u001b[43m    \u001b[49m\u001b[43mdtype\u001b[49m\u001b[38;5;241;43m=\u001b[39;49m\u001b[43mdtype\u001b[49m\u001b[43m,\u001b[49m\n\u001b[0;32m   1109\u001b[0m \u001b[43m    \u001b[49m\u001b[43morder\u001b[49m\u001b[38;5;241;43m=\u001b[39;49m\u001b[43morder\u001b[49m\u001b[43m,\u001b[49m\n\u001b[0;32m   1110\u001b[0m \u001b[43m    \u001b[49m\u001b[43mcopy\u001b[49m\u001b[38;5;241;43m=\u001b[39;49m\u001b[43mcopy\u001b[49m\u001b[43m,\u001b[49m\n\u001b[0;32m   1111\u001b[0m \u001b[43m    \u001b[49m\u001b[43mforce_all_finite\u001b[49m\u001b[38;5;241;43m=\u001b[39;49m\u001b[43mforce_all_finite\u001b[49m\u001b[43m,\u001b[49m\n\u001b[0;32m   1112\u001b[0m \u001b[43m    \u001b[49m\u001b[43mensure_2d\u001b[49m\u001b[38;5;241;43m=\u001b[39;49m\u001b[43mensure_2d\u001b[49m\u001b[43m,\u001b[49m\n\u001b[0;32m   1113\u001b[0m \u001b[43m    \u001b[49m\u001b[43mallow_nd\u001b[49m\u001b[38;5;241;43m=\u001b[39;49m\u001b[43mallow_nd\u001b[49m\u001b[43m,\u001b[49m\n\u001b[0;32m   1114\u001b[0m \u001b[43m    \u001b[49m\u001b[43mensure_min_samples\u001b[49m\u001b[38;5;241;43m=\u001b[39;49m\u001b[43mensure_min_samples\u001b[49m\u001b[43m,\u001b[49m\n\u001b[0;32m   1115\u001b[0m \u001b[43m    \u001b[49m\u001b[43mensure_min_features\u001b[49m\u001b[38;5;241;43m=\u001b[39;49m\u001b[43mensure_min_features\u001b[49m\u001b[43m,\u001b[49m\n\u001b[0;32m   1116\u001b[0m \u001b[43m    \u001b[49m\u001b[43mestimator\u001b[49m\u001b[38;5;241;43m=\u001b[39;49m\u001b[43mestimator\u001b[49m\u001b[43m,\u001b[49m\n\u001b[0;32m   1117\u001b[0m \u001b[43m    \u001b[49m\u001b[43minput_name\u001b[49m\u001b[38;5;241;43m=\u001b[39;49m\u001b[38;5;124;43m\"\u001b[39;49m\u001b[38;5;124;43mX\u001b[39;49m\u001b[38;5;124;43m\"\u001b[39;49m\u001b[43m,\u001b[49m\n\u001b[0;32m   1118\u001b[0m \u001b[43m\u001b[49m\u001b[43m)\u001b[49m\n\u001b[0;32m   1120\u001b[0m y \u001b[38;5;241m=\u001b[39m _check_y(y, multi_output\u001b[38;5;241m=\u001b[39mmulti_output, y_numeric\u001b[38;5;241m=\u001b[39my_numeric, estimator\u001b[38;5;241m=\u001b[39mestimator)\n\u001b[0;32m   1122\u001b[0m check_consistent_length(X, y)\n",
      "File \u001b[1;32m~\\anaconda3\\lib\\site-packages\\sklearn\\utils\\validation.py:919\u001b[0m, in \u001b[0;36mcheck_array\u001b[1;34m(array, accept_sparse, accept_large_sparse, dtype, order, copy, force_all_finite, ensure_2d, allow_nd, ensure_min_samples, ensure_min_features, estimator, input_name)\u001b[0m\n\u001b[0;32m    913\u001b[0m         \u001b[38;5;28;01mraise\u001b[39;00m \u001b[38;5;167;01mValueError\u001b[39;00m(\n\u001b[0;32m    914\u001b[0m             \u001b[38;5;124m\"\u001b[39m\u001b[38;5;124mFound array with dim \u001b[39m\u001b[38;5;132;01m%d\u001b[39;00m\u001b[38;5;124m. \u001b[39m\u001b[38;5;132;01m%s\u001b[39;00m\u001b[38;5;124m expected <= 2.\u001b[39m\u001b[38;5;124m\"\u001b[39m\n\u001b[0;32m    915\u001b[0m             \u001b[38;5;241m%\u001b[39m (array\u001b[38;5;241m.\u001b[39mndim, estimator_name)\n\u001b[0;32m    916\u001b[0m         )\n\u001b[0;32m    918\u001b[0m     \u001b[38;5;28;01mif\u001b[39;00m force_all_finite:\n\u001b[1;32m--> 919\u001b[0m         \u001b[43m_assert_all_finite\u001b[49m\u001b[43m(\u001b[49m\n\u001b[0;32m    920\u001b[0m \u001b[43m            \u001b[49m\u001b[43marray\u001b[49m\u001b[43m,\u001b[49m\n\u001b[0;32m    921\u001b[0m \u001b[43m            \u001b[49m\u001b[43minput_name\u001b[49m\u001b[38;5;241;43m=\u001b[39;49m\u001b[43minput_name\u001b[49m\u001b[43m,\u001b[49m\n\u001b[0;32m    922\u001b[0m \u001b[43m            \u001b[49m\u001b[43mestimator_name\u001b[49m\u001b[38;5;241;43m=\u001b[39;49m\u001b[43mestimator_name\u001b[49m\u001b[43m,\u001b[49m\n\u001b[0;32m    923\u001b[0m \u001b[43m            \u001b[49m\u001b[43mallow_nan\u001b[49m\u001b[38;5;241;43m=\u001b[39;49m\u001b[43mforce_all_finite\u001b[49m\u001b[43m \u001b[49m\u001b[38;5;241;43m==\u001b[39;49m\u001b[43m \u001b[49m\u001b[38;5;124;43m\"\u001b[39;49m\u001b[38;5;124;43mallow-nan\u001b[39;49m\u001b[38;5;124;43m\"\u001b[39;49m\u001b[43m,\u001b[49m\n\u001b[0;32m    924\u001b[0m \u001b[43m        \u001b[49m\u001b[43m)\u001b[49m\n\u001b[0;32m    926\u001b[0m \u001b[38;5;28;01mif\u001b[39;00m ensure_min_samples \u001b[38;5;241m>\u001b[39m \u001b[38;5;241m0\u001b[39m:\n\u001b[0;32m    927\u001b[0m     n_samples \u001b[38;5;241m=\u001b[39m _num_samples(array)\n",
      "File \u001b[1;32m~\\anaconda3\\lib\\site-packages\\sklearn\\utils\\validation.py:161\u001b[0m, in \u001b[0;36m_assert_all_finite\u001b[1;34m(X, allow_nan, msg_dtype, estimator_name, input_name)\u001b[0m\n\u001b[0;32m    144\u001b[0m \u001b[38;5;28;01mif\u001b[39;00m estimator_name \u001b[38;5;129;01mand\u001b[39;00m input_name \u001b[38;5;241m==\u001b[39m \u001b[38;5;124m\"\u001b[39m\u001b[38;5;124mX\u001b[39m\u001b[38;5;124m\"\u001b[39m \u001b[38;5;129;01mand\u001b[39;00m has_nan_error:\n\u001b[0;32m    145\u001b[0m     \u001b[38;5;66;03m# Improve the error message on how to handle missing values in\u001b[39;00m\n\u001b[0;32m    146\u001b[0m     \u001b[38;5;66;03m# scikit-learn.\u001b[39;00m\n\u001b[0;32m    147\u001b[0m     msg_err \u001b[38;5;241m+\u001b[39m\u001b[38;5;241m=\u001b[39m (\n\u001b[0;32m    148\u001b[0m         \u001b[38;5;124mf\u001b[39m\u001b[38;5;124m\"\u001b[39m\u001b[38;5;130;01m\\n\u001b[39;00m\u001b[38;5;132;01m{\u001b[39;00mestimator_name\u001b[38;5;132;01m}\u001b[39;00m\u001b[38;5;124m does not accept missing values\u001b[39m\u001b[38;5;124m\"\u001b[39m\n\u001b[0;32m    149\u001b[0m         \u001b[38;5;124m\"\u001b[39m\u001b[38;5;124m encoded as NaN natively. For supervised learning, you might want\u001b[39m\u001b[38;5;124m\"\u001b[39m\n\u001b[1;32m   (...)\u001b[0m\n\u001b[0;32m    159\u001b[0m         \u001b[38;5;124m\"\u001b[39m\u001b[38;5;124m#estimators-that-handle-nan-values\u001b[39m\u001b[38;5;124m\"\u001b[39m\n\u001b[0;32m    160\u001b[0m     )\n\u001b[1;32m--> 161\u001b[0m \u001b[38;5;28;01mraise\u001b[39;00m \u001b[38;5;167;01mValueError\u001b[39;00m(msg_err)\n",
      "\u001b[1;31mValueError\u001b[0m: Input X contains NaN.\nLinearRegression does not accept missing values encoded as NaN natively. For supervised learning, you might want to consider sklearn.ensemble.HistGradientBoostingClassifier and Regressor which accept missing values encoded as NaNs natively. Alternatively, it is possible to preprocess the data, for instance by using an imputer transformer in a pipeline or drop samples with missing values. See https://scikit-learn.org/stable/modules/impute.html You can find a list of all estimators that handle NaN values at the following page: https://scikit-learn.org/stable/modules/impute.html#estimators-that-handle-nan-values"
     ]
    }
   ],
   "source": [
    "lm = linear_model.LinearRegression()\n",
    "lm.fit(X_train_transformed,y_train)"
   ]
  },
  {
   "cell_type": "code",
   "execution_count": null,
   "id": "0fac2ca6",
   "metadata": {},
   "outputs": [],
   "source": [
    "predictions = lm.predict(X_train)\n",
    "r2_score(y_train, predictions)"
   ]
  },
  {
   "cell_type": "code",
   "execution_count": null,
   "id": "a7071141",
   "metadata": {},
   "outputs": [],
   "source": []
  },
  {
   "cell_type": "code",
   "execution_count": null,
   "id": "cd763126",
   "metadata": {},
   "outputs": [],
   "source": []
  },
  {
   "cell_type": "code",
   "execution_count": null,
   "id": "f0a0f5e2",
   "metadata": {},
   "outputs": [],
   "source": []
  },
  {
   "cell_type": "code",
   "execution_count": null,
   "id": "d2fd7c2b",
   "metadata": {},
   "outputs": [],
   "source": []
  }
 ],
 "metadata": {
  "kernelspec": {
   "display_name": "Python 3 (ipykernel)",
   "language": "python",
   "name": "python3"
  },
  "language_info": {
   "codemirror_mode": {
    "name": "ipython",
    "version": 3
   },
   "file_extension": ".py",
   "mimetype": "text/x-python",
   "name": "python",
   "nbconvert_exporter": "python",
   "pygments_lexer": "ipython3",
   "version": "3.9.12"
  }
 },
 "nbformat": 4,
 "nbformat_minor": 5
}
