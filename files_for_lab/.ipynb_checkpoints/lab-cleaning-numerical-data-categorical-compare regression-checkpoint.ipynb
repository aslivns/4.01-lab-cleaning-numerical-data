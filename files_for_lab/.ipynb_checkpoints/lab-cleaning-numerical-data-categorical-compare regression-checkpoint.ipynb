{
 "cells": [
  {
   "cell_type": "markdown",
   "id": "8f785e8a",
   "metadata": {},
   "source": [
    "# Lab 4.01 Cleaning Numerical Data"
   ]
  },
  {
   "cell_type": "markdown",
   "id": "40a9db16",
   "metadata": {},
   "source": [
    "#### 1. Import the necessary libraries."
   ]
  },
  {
   "cell_type": "code",
   "execution_count": 1,
   "id": "7c94a292",
   "metadata": {},
   "outputs": [],
   "source": [
    "import pandas as pd\n",
    "import numpy as np\n",
    "import seaborn as sns\n",
    "import matplotlib.pyplot as plt\n",
    "from datetime import date"
   ]
  },
  {
   "cell_type": "markdown",
   "id": "1a1eb9df",
   "metadata": {},
   "source": [
    "#### 2. Load the we_fn_use_c_marketing_customer_value_analysis.csv into the variable customer_df\n",
    "#### 3. First look at its main features (head, shape, info)."
   ]
  },
  {
   "cell_type": "code",
   "execution_count": 2,
   "id": "a4462729",
   "metadata": {},
   "outputs": [
    {
     "data": {
      "text/html": [
       "<div>\n",
       "<style scoped>\n",
       "    .dataframe tbody tr th:only-of-type {\n",
       "        vertical-align: middle;\n",
       "    }\n",
       "\n",
       "    .dataframe tbody tr th {\n",
       "        vertical-align: top;\n",
       "    }\n",
       "\n",
       "    .dataframe thead th {\n",
       "        text-align: right;\n",
       "    }\n",
       "</style>\n",
       "<table border=\"1\" class=\"dataframe\">\n",
       "  <thead>\n",
       "    <tr style=\"text-align: right;\">\n",
       "      <th></th>\n",
       "      <th>Customer</th>\n",
       "      <th>State</th>\n",
       "      <th>Customer Lifetime Value</th>\n",
       "      <th>Response</th>\n",
       "      <th>Coverage</th>\n",
       "      <th>Education</th>\n",
       "      <th>Effective To Date</th>\n",
       "      <th>EmploymentStatus</th>\n",
       "      <th>Gender</th>\n",
       "      <th>Income</th>\n",
       "      <th>...</th>\n",
       "      <th>Months Since Policy Inception</th>\n",
       "      <th>Number of Open Complaints</th>\n",
       "      <th>Number of Policies</th>\n",
       "      <th>Policy Type</th>\n",
       "      <th>Policy</th>\n",
       "      <th>Renew Offer Type</th>\n",
       "      <th>Sales Channel</th>\n",
       "      <th>Total Claim Amount</th>\n",
       "      <th>Vehicle Class</th>\n",
       "      <th>Vehicle Size</th>\n",
       "    </tr>\n",
       "  </thead>\n",
       "  <tbody>\n",
       "    <tr>\n",
       "      <th>0</th>\n",
       "      <td>BU79786</td>\n",
       "      <td>Washington</td>\n",
       "      <td>2763.519279</td>\n",
       "      <td>No</td>\n",
       "      <td>Basic</td>\n",
       "      <td>Bachelor</td>\n",
       "      <td>2/24/11</td>\n",
       "      <td>Employed</td>\n",
       "      <td>F</td>\n",
       "      <td>56274</td>\n",
       "      <td>...</td>\n",
       "      <td>5</td>\n",
       "      <td>0</td>\n",
       "      <td>1</td>\n",
       "      <td>Corporate Auto</td>\n",
       "      <td>Corporate L3</td>\n",
       "      <td>Offer1</td>\n",
       "      <td>Agent</td>\n",
       "      <td>384.811147</td>\n",
       "      <td>Two-Door Car</td>\n",
       "      <td>Medsize</td>\n",
       "    </tr>\n",
       "    <tr>\n",
       "      <th>1</th>\n",
       "      <td>QZ44356</td>\n",
       "      <td>Arizona</td>\n",
       "      <td>6979.535903</td>\n",
       "      <td>No</td>\n",
       "      <td>Extended</td>\n",
       "      <td>Bachelor</td>\n",
       "      <td>1/31/11</td>\n",
       "      <td>Unemployed</td>\n",
       "      <td>F</td>\n",
       "      <td>0</td>\n",
       "      <td>...</td>\n",
       "      <td>42</td>\n",
       "      <td>0</td>\n",
       "      <td>8</td>\n",
       "      <td>Personal Auto</td>\n",
       "      <td>Personal L3</td>\n",
       "      <td>Offer3</td>\n",
       "      <td>Agent</td>\n",
       "      <td>1131.464935</td>\n",
       "      <td>Four-Door Car</td>\n",
       "      <td>Medsize</td>\n",
       "    </tr>\n",
       "    <tr>\n",
       "      <th>2</th>\n",
       "      <td>AI49188</td>\n",
       "      <td>Nevada</td>\n",
       "      <td>12887.431650</td>\n",
       "      <td>No</td>\n",
       "      <td>Premium</td>\n",
       "      <td>Bachelor</td>\n",
       "      <td>2/19/11</td>\n",
       "      <td>Employed</td>\n",
       "      <td>F</td>\n",
       "      <td>48767</td>\n",
       "      <td>...</td>\n",
       "      <td>38</td>\n",
       "      <td>0</td>\n",
       "      <td>2</td>\n",
       "      <td>Personal Auto</td>\n",
       "      <td>Personal L3</td>\n",
       "      <td>Offer1</td>\n",
       "      <td>Agent</td>\n",
       "      <td>566.472247</td>\n",
       "      <td>Two-Door Car</td>\n",
       "      <td>Medsize</td>\n",
       "    </tr>\n",
       "    <tr>\n",
       "      <th>3</th>\n",
       "      <td>WW63253</td>\n",
       "      <td>California</td>\n",
       "      <td>7645.861827</td>\n",
       "      <td>No</td>\n",
       "      <td>Basic</td>\n",
       "      <td>Bachelor</td>\n",
       "      <td>1/20/11</td>\n",
       "      <td>Unemployed</td>\n",
       "      <td>M</td>\n",
       "      <td>0</td>\n",
       "      <td>...</td>\n",
       "      <td>65</td>\n",
       "      <td>0</td>\n",
       "      <td>7</td>\n",
       "      <td>Corporate Auto</td>\n",
       "      <td>Corporate L2</td>\n",
       "      <td>Offer1</td>\n",
       "      <td>Call Center</td>\n",
       "      <td>529.881344</td>\n",
       "      <td>SUV</td>\n",
       "      <td>Medsize</td>\n",
       "    </tr>\n",
       "    <tr>\n",
       "      <th>4</th>\n",
       "      <td>HB64268</td>\n",
       "      <td>Washington</td>\n",
       "      <td>2813.692575</td>\n",
       "      <td>No</td>\n",
       "      <td>Basic</td>\n",
       "      <td>Bachelor</td>\n",
       "      <td>2/3/11</td>\n",
       "      <td>Employed</td>\n",
       "      <td>M</td>\n",
       "      <td>43836</td>\n",
       "      <td>...</td>\n",
       "      <td>44</td>\n",
       "      <td>0</td>\n",
       "      <td>1</td>\n",
       "      <td>Personal Auto</td>\n",
       "      <td>Personal L1</td>\n",
       "      <td>Offer1</td>\n",
       "      <td>Agent</td>\n",
       "      <td>138.130879</td>\n",
       "      <td>Four-Door Car</td>\n",
       "      <td>Medsize</td>\n",
       "    </tr>\n",
       "  </tbody>\n",
       "</table>\n",
       "<p>5 rows × 24 columns</p>\n",
       "</div>"
      ],
      "text/plain": [
       "  Customer       State  Customer Lifetime Value Response  Coverage Education  \\\n",
       "0  BU79786  Washington              2763.519279       No     Basic  Bachelor   \n",
       "1  QZ44356     Arizona              6979.535903       No  Extended  Bachelor   \n",
       "2  AI49188      Nevada             12887.431650       No   Premium  Bachelor   \n",
       "3  WW63253  California              7645.861827       No     Basic  Bachelor   \n",
       "4  HB64268  Washington              2813.692575       No     Basic  Bachelor   \n",
       "\n",
       "  Effective To Date EmploymentStatus Gender  Income  ...  \\\n",
       "0           2/24/11         Employed      F   56274  ...   \n",
       "1           1/31/11       Unemployed      F       0  ...   \n",
       "2           2/19/11         Employed      F   48767  ...   \n",
       "3           1/20/11       Unemployed      M       0  ...   \n",
       "4            2/3/11         Employed      M   43836  ...   \n",
       "\n",
       "  Months Since Policy Inception Number of Open Complaints  Number of Policies  \\\n",
       "0                             5                         0                   1   \n",
       "1                            42                         0                   8   \n",
       "2                            38                         0                   2   \n",
       "3                            65                         0                   7   \n",
       "4                            44                         0                   1   \n",
       "\n",
       "      Policy Type        Policy  Renew Offer Type  Sales Channel  \\\n",
       "0  Corporate Auto  Corporate L3            Offer1          Agent   \n",
       "1   Personal Auto   Personal L3            Offer3          Agent   \n",
       "2   Personal Auto   Personal L3            Offer1          Agent   \n",
       "3  Corporate Auto  Corporate L2            Offer1    Call Center   \n",
       "4   Personal Auto   Personal L1            Offer1          Agent   \n",
       "\n",
       "  Total Claim Amount  Vehicle Class Vehicle Size  \n",
       "0         384.811147   Two-Door Car      Medsize  \n",
       "1        1131.464935  Four-Door Car      Medsize  \n",
       "2         566.472247   Two-Door Car      Medsize  \n",
       "3         529.881344            SUV      Medsize  \n",
       "4         138.130879  Four-Door Car      Medsize  \n",
       "\n",
       "[5 rows x 24 columns]"
      ]
     },
     "metadata": {},
     "output_type": "display_data"
    },
    {
     "name": "stdout",
     "output_type": "stream",
     "text": [
      "(9134, 24)\n"
     ]
    }
   ],
   "source": [
    "#Load the we_fn_use_c_marketing_customer_value_analysis.csv into the variable customer_df\n",
    "#First look at its main features (head, shape, info).\n",
    "customer_df = pd.read_csv('we_fn_use_c_marketing_customer_value_analysis.csv')\n",
    "display(customer_df.head())\n",
    "print(customer_df.shape)"
   ]
  },
  {
   "cell_type": "code",
   "execution_count": 3,
   "id": "821d79ec",
   "metadata": {},
   "outputs": [
    {
     "name": "stdout",
     "output_type": "stream",
     "text": [
      "<class 'pandas.core.frame.DataFrame'>\n",
      "RangeIndex: 9134 entries, 0 to 9133\n",
      "Data columns (total 24 columns):\n",
      " #   Column                         Non-Null Count  Dtype  \n",
      "---  ------                         --------------  -----  \n",
      " 0   Customer                       9134 non-null   object \n",
      " 1   State                          9134 non-null   object \n",
      " 2   Customer Lifetime Value        9134 non-null   float64\n",
      " 3   Response                       9134 non-null   object \n",
      " 4   Coverage                       9134 non-null   object \n",
      " 5   Education                      9134 non-null   object \n",
      " 6   Effective To Date              9134 non-null   object \n",
      " 7   EmploymentStatus               9134 non-null   object \n",
      " 8   Gender                         9134 non-null   object \n",
      " 9   Income                         9134 non-null   int64  \n",
      " 10  Location Code                  9134 non-null   object \n",
      " 11  Marital Status                 9134 non-null   object \n",
      " 12  Monthly Premium Auto           9134 non-null   int64  \n",
      " 13  Months Since Last Claim        9134 non-null   int64  \n",
      " 14  Months Since Policy Inception  9134 non-null   int64  \n",
      " 15  Number of Open Complaints      9134 non-null   int64  \n",
      " 16  Number of Policies             9134 non-null   int64  \n",
      " 17  Policy Type                    9134 non-null   object \n",
      " 18  Policy                         9134 non-null   object \n",
      " 19  Renew Offer Type               9134 non-null   object \n",
      " 20  Sales Channel                  9134 non-null   object \n",
      " 21  Total Claim Amount             9134 non-null   float64\n",
      " 22  Vehicle Class                  9134 non-null   object \n",
      " 23  Vehicle Size                   9134 non-null   object \n",
      "dtypes: float64(2), int64(6), object(16)\n",
      "memory usage: 1.7+ MB\n"
     ]
    }
   ],
   "source": [
    "customer_df.info()"
   ]
  },
  {
   "cell_type": "markdown",
   "id": "c72bfb4d",
   "metadata": {},
   "source": [
    "#### 4. Rename the columns so they follow the PE8 (snake case) (lower_case_with_underscores) lower case the column, and put _ between words"
   ]
  },
  {
   "cell_type": "code",
   "execution_count": 4,
   "id": "c163973f",
   "metadata": {},
   "outputs": [],
   "source": [
    "customer_df.columns = [e.lower().replace(' ', '_') for e in customer_df.columns]\n",
    "customer_df = customer_df.rename(columns={'employmentstatus':'employment_status'})"
   ]
  },
  {
   "cell_type": "markdown",
   "id": "9716eccb",
   "metadata": {},
   "source": [
    "#### 5. Change effective to date column to datetime format."
   ]
  },
  {
   "cell_type": "code",
   "execution_count": 5,
   "id": "360657c5",
   "metadata": {},
   "outputs": [],
   "source": [
    "customer_df['effective_to_date'] = pd.to_datetime(customer_df['effective_to_date'], errors='coerce')"
   ]
  },
  {
   "cell_type": "markdown",
   "id": "dc0047f1",
   "metadata": {},
   "source": [
    "##### additional checks"
   ]
  },
  {
   "cell_type": "code",
   "execution_count": 6,
   "id": "459030b8",
   "metadata": {},
   "outputs": [
    {
     "data": {
      "text/plain": [
       "customer                         0\n",
       "state                            0\n",
       "customer_lifetime_value          0\n",
       "response                         0\n",
       "coverage                         0\n",
       "education                        0\n",
       "effective_to_date                0\n",
       "employment_status                0\n",
       "gender                           0\n",
       "income                           0\n",
       "location_code                    0\n",
       "marital_status                   0\n",
       "monthly_premium_auto             0\n",
       "months_since_last_claim          0\n",
       "months_since_policy_inception    0\n",
       "number_of_open_complaints        0\n",
       "number_of_policies               0\n",
       "policy_type                      0\n",
       "policy                           0\n",
       "renew_offer_type                 0\n",
       "sales_channel                    0\n",
       "total_claim_amount               0\n",
       "vehicle_class                    0\n",
       "vehicle_size                     0\n",
       "dtype: int64"
      ]
     },
     "execution_count": 6,
     "metadata": {},
     "output_type": "execute_result"
    }
   ],
   "source": [
    "# checking Nan values\n",
    "customer_df.isna().sum()"
   ]
  },
  {
   "cell_type": "code",
   "execution_count": 7,
   "id": "c25c0fd9",
   "metadata": {},
   "outputs": [
    {
     "data": {
      "text/plain": [
       "0"
      ]
     },
     "execution_count": 7,
     "metadata": {},
     "output_type": "execute_result"
    }
   ],
   "source": [
    "# checking duplicate rows\n",
    "sum(customer_df.duplicated())"
   ]
  },
  {
   "cell_type": "markdown",
   "id": "f4035198",
   "metadata": {},
   "source": [
    "#### 6. Define a function that differentiates between continuous and discrete variables. Hint: The number of unique values might be useful. Store continuous data into a continuous_df variable and do the same for discrete_df"
   ]
  },
  {
   "cell_type": "markdown",
   "id": "ccb33ddd",
   "metadata": {},
   "source": [
    "Now numerical values"
   ]
  },
  {
   "cell_type": "code",
   "execution_count": 8,
   "id": "53730b53",
   "metadata": {},
   "outputs": [],
   "source": [
    "customer_num = customer_df.select_dtypes(include = ['float64', 'int64'])"
   ]
  },
  {
   "cell_type": "code",
   "execution_count": 9,
   "id": "606900aa",
   "metadata": {},
   "outputs": [
    {
     "data": {
      "text/plain": [
       "customer_lifetime_value          8041\n",
       "income                           5694\n",
       "monthly_premium_auto              202\n",
       "months_since_last_claim            36\n",
       "months_since_policy_inception     100\n",
       "number_of_open_complaints           6\n",
       "number_of_policies                  9\n",
       "total_claim_amount               5106\n",
       "dtype: int64"
      ]
     },
     "execution_count": 9,
     "metadata": {},
     "output_type": "execute_result"
    }
   ],
   "source": [
    "# count of unique values in each column\n",
    "customer_num.nunique()"
   ]
  },
  {
   "cell_type": "markdown",
   "id": "0751606f",
   "metadata": {},
   "source": [
    "#### I decided, if a column contains more than %10 uniques values, it can be continuous data,\n",
    "#### Else it is discrete data"
   ]
  },
  {
   "cell_type": "code",
   "execution_count": 10,
   "id": "997c0f1e",
   "metadata": {},
   "outputs": [],
   "source": [
    "def disc_cont(df):\n",
    "    \n",
    "    discrete_col = []\n",
    "    continuous_col = []\n",
    "    \n",
    "    # if unique value count more than %10 in a column -> continuous\n",
    "    # else -> discrete\n",
    "    \n",
    "    for col in df.columns:\n",
    "        if len(df[col].unique())/len(df[col]) > 0.1:\n",
    "            continuous_col.append(col)\n",
    "        \n",
    "        else:\n",
    "            discrete_col.append(col)\n",
    "            \n",
    "    return discrete_col, continuous_col"
   ]
  },
  {
   "cell_type": "code",
   "execution_count": 11,
   "id": "0a0077bf",
   "metadata": {},
   "outputs": [
    {
     "name": "stdout",
     "output_type": "stream",
     "text": [
      "Discrete variables are:  ['monthly_premium_auto', 'months_since_last_claim', 'months_since_policy_inception', 'number_of_open_complaints', 'number_of_policies']\n",
      "Continuoues variables are:  ['customer_lifetime_value', 'income', 'total_claim_amount']\n"
     ]
    }
   ],
   "source": [
    "disc_num, cont_num = disc_cont(customer_num)\n",
    "print('Discrete variables are: ', disc_num)\n",
    "print('Continuoues variables are: ', cont_num )"
   ]
  },
  {
   "cell_type": "code",
   "execution_count": 12,
   "id": "e7d62535",
   "metadata": {},
   "outputs": [
    {
     "data": {
      "text/html": [
       "<div>\n",
       "<style scoped>\n",
       "    .dataframe tbody tr th:only-of-type {\n",
       "        vertical-align: middle;\n",
       "    }\n",
       "\n",
       "    .dataframe tbody tr th {\n",
       "        vertical-align: top;\n",
       "    }\n",
       "\n",
       "    .dataframe thead th {\n",
       "        text-align: right;\n",
       "    }\n",
       "</style>\n",
       "<table border=\"1\" class=\"dataframe\">\n",
       "  <thead>\n",
       "    <tr style=\"text-align: right;\">\n",
       "      <th></th>\n",
       "      <th>monthly_premium_auto</th>\n",
       "      <th>months_since_last_claim</th>\n",
       "      <th>months_since_policy_inception</th>\n",
       "      <th>number_of_open_complaints</th>\n",
       "      <th>number_of_policies</th>\n",
       "    </tr>\n",
       "  </thead>\n",
       "  <tbody>\n",
       "    <tr>\n",
       "      <th>0</th>\n",
       "      <td>69</td>\n",
       "      <td>32</td>\n",
       "      <td>5</td>\n",
       "      <td>0</td>\n",
       "      <td>1</td>\n",
       "    </tr>\n",
       "    <tr>\n",
       "      <th>1</th>\n",
       "      <td>94</td>\n",
       "      <td>13</td>\n",
       "      <td>42</td>\n",
       "      <td>0</td>\n",
       "      <td>8</td>\n",
       "    </tr>\n",
       "    <tr>\n",
       "      <th>2</th>\n",
       "      <td>108</td>\n",
       "      <td>18</td>\n",
       "      <td>38</td>\n",
       "      <td>0</td>\n",
       "      <td>2</td>\n",
       "    </tr>\n",
       "    <tr>\n",
       "      <th>3</th>\n",
       "      <td>106</td>\n",
       "      <td>18</td>\n",
       "      <td>65</td>\n",
       "      <td>0</td>\n",
       "      <td>7</td>\n",
       "    </tr>\n",
       "    <tr>\n",
       "      <th>4</th>\n",
       "      <td>73</td>\n",
       "      <td>12</td>\n",
       "      <td>44</td>\n",
       "      <td>0</td>\n",
       "      <td>1</td>\n",
       "    </tr>\n",
       "    <tr>\n",
       "      <th>...</th>\n",
       "      <td>...</td>\n",
       "      <td>...</td>\n",
       "      <td>...</td>\n",
       "      <td>...</td>\n",
       "      <td>...</td>\n",
       "    </tr>\n",
       "    <tr>\n",
       "      <th>9129</th>\n",
       "      <td>73</td>\n",
       "      <td>18</td>\n",
       "      <td>89</td>\n",
       "      <td>0</td>\n",
       "      <td>2</td>\n",
       "    </tr>\n",
       "    <tr>\n",
       "      <th>9130</th>\n",
       "      <td>79</td>\n",
       "      <td>14</td>\n",
       "      <td>28</td>\n",
       "      <td>0</td>\n",
       "      <td>1</td>\n",
       "    </tr>\n",
       "    <tr>\n",
       "      <th>9131</th>\n",
       "      <td>85</td>\n",
       "      <td>9</td>\n",
       "      <td>37</td>\n",
       "      <td>3</td>\n",
       "      <td>2</td>\n",
       "    </tr>\n",
       "    <tr>\n",
       "      <th>9132</th>\n",
       "      <td>96</td>\n",
       "      <td>34</td>\n",
       "      <td>3</td>\n",
       "      <td>0</td>\n",
       "      <td>3</td>\n",
       "    </tr>\n",
       "    <tr>\n",
       "      <th>9133</th>\n",
       "      <td>77</td>\n",
       "      <td>3</td>\n",
       "      <td>90</td>\n",
       "      <td>0</td>\n",
       "      <td>1</td>\n",
       "    </tr>\n",
       "  </tbody>\n",
       "</table>\n",
       "<p>9134 rows × 5 columns</p>\n",
       "</div>"
      ],
      "text/plain": [
       "      monthly_premium_auto  months_since_last_claim  \\\n",
       "0                       69                       32   \n",
       "1                       94                       13   \n",
       "2                      108                       18   \n",
       "3                      106                       18   \n",
       "4                       73                       12   \n",
       "...                    ...                      ...   \n",
       "9129                    73                       18   \n",
       "9130                    79                       14   \n",
       "9131                    85                        9   \n",
       "9132                    96                       34   \n",
       "9133                    77                        3   \n",
       "\n",
       "      months_since_policy_inception  number_of_open_complaints  \\\n",
       "0                                 5                          0   \n",
       "1                                42                          0   \n",
       "2                                38                          0   \n",
       "3                                65                          0   \n",
       "4                                44                          0   \n",
       "...                             ...                        ...   \n",
       "9129                             89                          0   \n",
       "9130                             28                          0   \n",
       "9131                             37                          3   \n",
       "9132                              3                          0   \n",
       "9133                             90                          0   \n",
       "\n",
       "      number_of_policies  \n",
       "0                      1  \n",
       "1                      8  \n",
       "2                      2  \n",
       "3                      7  \n",
       "4                      1  \n",
       "...                  ...  \n",
       "9129                   2  \n",
       "9130                   1  \n",
       "9131                   2  \n",
       "9132                   3  \n",
       "9133                   1  \n",
       "\n",
       "[9134 rows x 5 columns]"
      ]
     },
     "metadata": {},
     "output_type": "display_data"
    },
    {
     "data": {
      "text/html": [
       "<div>\n",
       "<style scoped>\n",
       "    .dataframe tbody tr th:only-of-type {\n",
       "        vertical-align: middle;\n",
       "    }\n",
       "\n",
       "    .dataframe tbody tr th {\n",
       "        vertical-align: top;\n",
       "    }\n",
       "\n",
       "    .dataframe thead th {\n",
       "        text-align: right;\n",
       "    }\n",
       "</style>\n",
       "<table border=\"1\" class=\"dataframe\">\n",
       "  <thead>\n",
       "    <tr style=\"text-align: right;\">\n",
       "      <th></th>\n",
       "      <th>customer_lifetime_value</th>\n",
       "      <th>income</th>\n",
       "      <th>total_claim_amount</th>\n",
       "    </tr>\n",
       "  </thead>\n",
       "  <tbody>\n",
       "    <tr>\n",
       "      <th>0</th>\n",
       "      <td>2763.519279</td>\n",
       "      <td>56274</td>\n",
       "      <td>384.811147</td>\n",
       "    </tr>\n",
       "    <tr>\n",
       "      <th>1</th>\n",
       "      <td>6979.535903</td>\n",
       "      <td>0</td>\n",
       "      <td>1131.464935</td>\n",
       "    </tr>\n",
       "    <tr>\n",
       "      <th>2</th>\n",
       "      <td>12887.431650</td>\n",
       "      <td>48767</td>\n",
       "      <td>566.472247</td>\n",
       "    </tr>\n",
       "    <tr>\n",
       "      <th>3</th>\n",
       "      <td>7645.861827</td>\n",
       "      <td>0</td>\n",
       "      <td>529.881344</td>\n",
       "    </tr>\n",
       "    <tr>\n",
       "      <th>4</th>\n",
       "      <td>2813.692575</td>\n",
       "      <td>43836</td>\n",
       "      <td>138.130879</td>\n",
       "    </tr>\n",
       "    <tr>\n",
       "      <th>...</th>\n",
       "      <td>...</td>\n",
       "      <td>...</td>\n",
       "      <td>...</td>\n",
       "    </tr>\n",
       "    <tr>\n",
       "      <th>9129</th>\n",
       "      <td>23405.987980</td>\n",
       "      <td>71941</td>\n",
       "      <td>198.234764</td>\n",
       "    </tr>\n",
       "    <tr>\n",
       "      <th>9130</th>\n",
       "      <td>3096.511217</td>\n",
       "      <td>21604</td>\n",
       "      <td>379.200000</td>\n",
       "    </tr>\n",
       "    <tr>\n",
       "      <th>9131</th>\n",
       "      <td>8163.890428</td>\n",
       "      <td>0</td>\n",
       "      <td>790.784983</td>\n",
       "    </tr>\n",
       "    <tr>\n",
       "      <th>9132</th>\n",
       "      <td>7524.442436</td>\n",
       "      <td>21941</td>\n",
       "      <td>691.200000</td>\n",
       "    </tr>\n",
       "    <tr>\n",
       "      <th>9133</th>\n",
       "      <td>2611.836866</td>\n",
       "      <td>0</td>\n",
       "      <td>369.600000</td>\n",
       "    </tr>\n",
       "  </tbody>\n",
       "</table>\n",
       "<p>9134 rows × 3 columns</p>\n",
       "</div>"
      ],
      "text/plain": [
       "      customer_lifetime_value  income  total_claim_amount\n",
       "0                 2763.519279   56274          384.811147\n",
       "1                 6979.535903       0         1131.464935\n",
       "2                12887.431650   48767          566.472247\n",
       "3                 7645.861827       0          529.881344\n",
       "4                 2813.692575   43836          138.130879\n",
       "...                       ...     ...                 ...\n",
       "9129             23405.987980   71941          198.234764\n",
       "9130              3096.511217   21604          379.200000\n",
       "9131              8163.890428       0          790.784983\n",
       "9132              7524.442436   21941          691.200000\n",
       "9133              2611.836866       0          369.600000\n",
       "\n",
       "[9134 rows x 3 columns]"
      ]
     },
     "metadata": {},
     "output_type": "display_data"
    }
   ],
   "source": [
    "disc_num_df = customer_num[disc_num]\n",
    "cont_num_df = customer_num[cont_num]\n",
    "display(disc_num_df)\n",
    "display(cont_num_df)"
   ]
  },
  {
   "cell_type": "markdown",
   "id": "21be50ca",
   "metadata": {},
   "source": [
    "#### 7. Plot a correlation matrix, comment what you see."
   ]
  },
  {
   "cell_type": "markdown",
   "id": "0ed90b39",
   "metadata": {},
   "source": [
    "None of the variables highly correlated with total_claim_amount.\n",
    "Mostly correlated one is monthly_premium_auto"
   ]
  },
  {
   "cell_type": "code",
   "execution_count": 13,
   "id": "fd067c8e",
   "metadata": {},
   "outputs": [
    {
     "data": {
      "image/png": "[encoded data removed]",
      "text/plain": [
       "<Figure size 432x288 with 2 Axes>"
      ]
     },
     "metadata": {
      "needs_background": "light"
     },
     "output_type": "display_data"
    }
   ],
   "source": [
    "import matplotlib.pyplot as plt\n",
    "import seaborn as sns\n",
    "correlations_matrix = customer_df.corr()\n",
    "sns.heatmap(correlations_matrix, annot=True)\n",
    "plt.show()"
   ]
  },
  {
   "cell_type": "code",
   "execution_count": 14,
   "id": "f0bb5d4e",
   "metadata": {},
   "outputs": [],
   "source": [
    "# # 'number_of_policies' and 'number_of_complaints' are numerical but they can be converted to categorical\n",
    "# customer_df['number_of_policies'] = customer_df.number_of_policies.astype('object')\n",
    "# customer_df['number_of_open_complaints'] = customer_df.number_of_open_complaints.astype('object')"
   ]
  },
  {
   "cell_type": "code",
   "execution_count": 15,
   "id": "fcab8bc7",
   "metadata": {},
   "outputs": [],
   "source": [
    "# customer_num = customer_num.drop(['number_of_policies', 'number_of_open_complaints'], axis=1)\n",
    "# disc_num_df = disc_num_df.drop(['number_of_policies', 'number_of_open_complaints'], axis=1)"
   ]
  },
  {
   "cell_type": "code",
   "execution_count": 16,
   "id": "3f023921",
   "metadata": {},
   "outputs": [
    {
     "data": {
      "text/plain": [
       "monthly_premium_auto             int64\n",
       "months_since_last_claim          int64\n",
       "months_since_policy_inception    int64\n",
       "number_of_open_complaints        int64\n",
       "number_of_policies               int64\n",
       "dtype: object"
      ]
     },
     "execution_count": 16,
     "metadata": {},
     "output_type": "execute_result"
    }
   ],
   "source": [
    "disc_num_df.dtypes"
   ]
  },
  {
   "cell_type": "code",
   "execution_count": 17,
   "id": "190c2f08",
   "metadata": {
    "scrolled": true
   },
   "outputs": [
    {
     "data": {
      "image/png": "[encoded data removed]",
      "text/plain": [
       "<Figure size 900x180 with 5 Axes>"
      ]
     },
     "metadata": {
      "needs_background": "light"
     },
     "output_type": "display_data"
    },
    {
     "data": {
      "image/png": "[encoded data removed]",
      "text/plain": [
       "<Figure size 540x180 with 4 Axes>"
      ]
     },
     "metadata": {
      "needs_background": "light"
     },
     "output_type": "display_data"
    }
   ],
   "source": [
    "for i in range(0, len(customer_num.columns), 5):\n",
    "    sns.pairplot(data=customer_num,\n",
    "                x_vars=customer_num.columns[i:i+5],\n",
    "                y_vars=['total_claim_amount'])"
   ]
  },
  {
   "cell_type": "markdown",
   "id": "e4a8e853",
   "metadata": {},
   "source": [
    "#### 8. Create a function to plot every discrete variable. Do the same with the continuous variables (Be Careful, you may need to change the plot type to one better suited for continuous data!)"
   ]
  },
  {
   "cell_type": "code",
   "execution_count": 18,
   "id": "419cdbfd",
   "metadata": {},
   "outputs": [],
   "source": [
    "def plot_disc(df):\n",
    "    for col in df.columns:\n",
    "        sns.displot(x=df[col])\n",
    "        plt.show()\n",
    "    return None"
   ]
  },
  {
   "cell_type": "code",
   "execution_count": 19,
   "id": "93542e37",
   "metadata": {},
   "outputs": [
    {
     "data": {
      "image/png": "[encoded data removed]",
      "text/plain": [
       "<Figure size 360x360 with 1 Axes>"
      ]
     },
     "metadata": {
      "needs_background": "light"
     },
     "output_type": "display_data"
    },
    {
     "data": {
      "image/png": "[encoded data removed]",
      "text/plain": [
       "<Figure size 360x360 with 1 Axes>"
      ]
     },
     "metadata": {
      "needs_background": "light"
     },
     "output_type": "display_data"
    },
    {
     "data": {
      "image/png": "[encoded data removed]",
      "text/plain": [
       "<Figure size 360x360 with 1 Axes>"
      ]
     },
     "metadata": {
      "needs_background": "light"
     },
     "output_type": "display_data"
    },
    {
     "data": {
      "image/png": "[encoded data removed]",
      "text/plain": [
       "<Figure size 360x360 with 1 Axes>"
      ]
     },
     "metadata": {
      "needs_background": "light"
     },
     "output_type": "display_data"
    },
    {
     "data": {
      "image/png": "[encoded data removed]",
      "text/plain": [
       "<Figure size 360x360 with 1 Axes>"
      ]
     },
     "metadata": {
      "needs_background": "light"
     },
     "output_type": "display_data"
    }
   ],
   "source": [
    "plot_disc(disc_num_df)"
   ]
  },
  {
   "cell_type": "code",
   "execution_count": 20,
   "id": "e6d6ce73",
   "metadata": {},
   "outputs": [],
   "source": [
    "def plot_cont(df):\n",
    "    for col in df.columns:\n",
    "        sns.displot(x=df[col])\n",
    "        plt.show()\n",
    "    return None"
   ]
  },
  {
   "cell_type": "code",
   "execution_count": 21,
   "id": "1ca7d588",
   "metadata": {},
   "outputs": [
    {
     "data": {
      "image/png": "[encoded data removed]",
      "text/plain": [
       "<Figure size 360x360 with 1 Axes>"
      ]
     },
     "metadata": {
      "needs_background": "light"
     },
     "output_type": "display_data"
    },
    {
     "data": {
      "image/png": "[encoded data removed]",
      "text/plain": [
       "<Figure size 360x360 with 1 Axes>"
      ]
     },
     "metadata": {
      "needs_background": "light"
     },
     "output_type": "display_data"
    },
    {
     "data": {
      "image/png": "[encoded data removed]",
      "text/plain": [
       "<Figure size 360x360 with 1 Axes>"
      ]
     },
     "metadata": {
      "needs_background": "light"
     },
     "output_type": "display_data"
    }
   ],
   "source": [
    "plot_cont(cont_num_df)"
   ]
  },
  {
   "cell_type": "markdown",
   "id": "3dbf4e13",
   "metadata": {},
   "source": [
    "#### 9. Comment what you can see in the plots."
   ]
  },
  {
   "cell_type": "markdown",
   "id": "ad97c7d8",
   "metadata": {},
   "source": [
    "total claim amount, customer lifetime value seems like having outliers"
   ]
  },
  {
   "cell_type": "markdown",
   "id": "eafdff6d",
   "metadata": {},
   "source": [
    "#### 10. Look for outliers in the continuous variables. (HINT: There’s a good plot to do that!)\n",
    "#### 11. Did you find outliers? Comment what you will do with them."
   ]
  },
  {
   "cell_type": "code",
   "execution_count": 22,
   "id": "3df62c4d",
   "metadata": {},
   "outputs": [],
   "source": [
    "# this is a function to drop outliers from multiple columns\n",
    "# def cap_data(df):\n",
    "#     for col in df.columns:\n",
    "#         print(\"capping the \",col)\n",
    "#         if (((df[col].dtype)=='float64') | ((df[col].dtype)=='int64')):\n",
    "#             percentiles = df[col].quantile([0.01,0.99]).values\n",
    "#             df[col][df[col] <= percentiles[0]] = percentiles[0]\n",
    "#             df[col][df[col] >= percentiles[1]] = percentiles[1]\n",
    "#         else:\n",
    "#             df[col]=df[col]\n",
    "#     return df"
   ]
  },
  {
   "cell_type": "code",
   "execution_count": 23,
   "id": "6683e5c4",
   "metadata": {},
   "outputs": [],
   "source": [
    "def outliers(df):\n",
    "    for col in df.columns:\n",
    "        sns.boxplot(y=df[col])\n",
    "        plt.show()\n",
    "        "
   ]
  },
  {
   "cell_type": "code",
   "execution_count": 24,
   "id": "f3ca3146",
   "metadata": {},
   "outputs": [
    {
     "data": {
      "image/png": "[encoded data removed]",
      "text/plain": [
       "<Figure size 432x288 with 1 Axes>"
      ]
     },
     "metadata": {
      "needs_background": "light"
     },
     "output_type": "display_data"
    },
    {
     "data": {
      "image/png": "[encoded data removed]",
      "text/plain": [
       "<Figure size 432x288 with 1 Axes>"
      ]
     },
     "metadata": {
      "needs_background": "light"
     },
     "output_type": "display_data"
    },
    {
     "data": {
      "image/png": "[encoded data removed]",
      "text/plain": [
       "<Figure size 432x288 with 1 Axes>"
      ]
     },
     "metadata": {
      "needs_background": "light"
     },
     "output_type": "display_data"
    }
   ],
   "source": [
    "outliers(cont_num_df)"
   ]
  },
  {
   "cell_type": "code",
   "execution_count": 25,
   "id": "89fdd755",
   "metadata": {},
   "outputs": [
    {
     "data": {
      "text/plain": [
       "20"
      ]
     },
     "execution_count": 25,
     "metadata": {},
     "output_type": "execute_result"
    }
   ],
   "source": [
    "extraordinary_points = cont_num_df[cont_num_df['customer_lifetime_value'] >50000]\n",
    "len(extraordinary_points)  # This checks the number of points that will be removed"
   ]
  },
  {
   "cell_type": "markdown",
   "id": "15994b50",
   "metadata": {},
   "source": [
    "I will drop the outliers from customer_lifetime_value"
   ]
  },
  {
   "cell_type": "code",
   "execution_count": 26,
   "id": "77f8ca55",
   "metadata": {},
   "outputs": [],
   "source": [
    "cont_num_df = cont_num_df[cont_num_df.customer_lifetime_value < 50000]"
   ]
  },
  {
   "cell_type": "code",
   "execution_count": 27,
   "id": "bdd7f8de",
   "metadata": {},
   "outputs": [
    {
     "data": {
      "text/plain": [
       "(9134, 24)"
      ]
     },
     "execution_count": 27,
     "metadata": {},
     "output_type": "execute_result"
    }
   ],
   "source": [
    "customer_df.shape"
   ]
  },
  {
   "cell_type": "code",
   "execution_count": 28,
   "id": "f22d53f3",
   "metadata": {},
   "outputs": [
    {
     "data": {
      "text/plain": [
       "(9114, 3)"
      ]
     },
     "execution_count": 28,
     "metadata": {},
     "output_type": "execute_result"
    }
   ],
   "source": [
    "cont_num_df.shape"
   ]
  },
  {
   "cell_type": "code",
   "execution_count": 29,
   "id": "1d1591a9",
   "metadata": {},
   "outputs": [
    {
     "data": {
      "text/plain": [
       "(9134, 5)"
      ]
     },
     "execution_count": 29,
     "metadata": {},
     "output_type": "execute_result"
    }
   ],
   "source": [
    "disc_num_df.shape"
   ]
  },
  {
   "cell_type": "code",
   "execution_count": 30,
   "id": "2461071d",
   "metadata": {},
   "outputs": [
    {
     "data": {
      "text/html": [
       "<div>\n",
       "<style scoped>\n",
       "    .dataframe tbody tr th:only-of-type {\n",
       "        vertical-align: middle;\n",
       "    }\n",
       "\n",
       "    .dataframe tbody tr th {\n",
       "        vertical-align: top;\n",
       "    }\n",
       "\n",
       "    .dataframe thead th {\n",
       "        text-align: right;\n",
       "    }\n",
       "</style>\n",
       "<table border=\"1\" class=\"dataframe\">\n",
       "  <thead>\n",
       "    <tr style=\"text-align: right;\">\n",
       "      <th></th>\n",
       "      <th>monthly_premium_auto</th>\n",
       "      <th>months_since_last_claim</th>\n",
       "      <th>months_since_policy_inception</th>\n",
       "      <th>number_of_open_complaints</th>\n",
       "      <th>number_of_policies</th>\n",
       "      <th>customer_lifetime_value</th>\n",
       "      <th>income</th>\n",
       "      <th>total_claim_amount</th>\n",
       "    </tr>\n",
       "  </thead>\n",
       "  <tbody>\n",
       "    <tr>\n",
       "      <th>0</th>\n",
       "      <td>69</td>\n",
       "      <td>32</td>\n",
       "      <td>5</td>\n",
       "      <td>0</td>\n",
       "      <td>1</td>\n",
       "      <td>2763.519279</td>\n",
       "      <td>56274.0</td>\n",
       "      <td>384.811147</td>\n",
       "    </tr>\n",
       "    <tr>\n",
       "      <th>1</th>\n",
       "      <td>94</td>\n",
       "      <td>13</td>\n",
       "      <td>42</td>\n",
       "      <td>0</td>\n",
       "      <td>8</td>\n",
       "      <td>6979.535903</td>\n",
       "      <td>0.0</td>\n",
       "      <td>1131.464935</td>\n",
       "    </tr>\n",
       "    <tr>\n",
       "      <th>2</th>\n",
       "      <td>108</td>\n",
       "      <td>18</td>\n",
       "      <td>38</td>\n",
       "      <td>0</td>\n",
       "      <td>2</td>\n",
       "      <td>12887.431650</td>\n",
       "      <td>48767.0</td>\n",
       "      <td>566.472247</td>\n",
       "    </tr>\n",
       "    <tr>\n",
       "      <th>3</th>\n",
       "      <td>106</td>\n",
       "      <td>18</td>\n",
       "      <td>65</td>\n",
       "      <td>0</td>\n",
       "      <td>7</td>\n",
       "      <td>7645.861827</td>\n",
       "      <td>0.0</td>\n",
       "      <td>529.881344</td>\n",
       "    </tr>\n",
       "    <tr>\n",
       "      <th>4</th>\n",
       "      <td>73</td>\n",
       "      <td>12</td>\n",
       "      <td>44</td>\n",
       "      <td>0</td>\n",
       "      <td>1</td>\n",
       "      <td>2813.692575</td>\n",
       "      <td>43836.0</td>\n",
       "      <td>138.130879</td>\n",
       "    </tr>\n",
       "  </tbody>\n",
       "</table>\n",
       "</div>"
      ],
      "text/plain": [
       "   monthly_premium_auto  months_since_last_claim  \\\n",
       "0                    69                       32   \n",
       "1                    94                       13   \n",
       "2                   108                       18   \n",
       "3                   106                       18   \n",
       "4                    73                       12   \n",
       "\n",
       "   months_since_policy_inception  number_of_open_complaints  \\\n",
       "0                              5                          0   \n",
       "1                             42                          0   \n",
       "2                             38                          0   \n",
       "3                             65                          0   \n",
       "4                             44                          0   \n",
       "\n",
       "   number_of_policies  customer_lifetime_value   income  total_claim_amount  \n",
       "0                   1              2763.519279  56274.0          384.811147  \n",
       "1                   8              6979.535903      0.0         1131.464935  \n",
       "2                   2             12887.431650  48767.0          566.472247  \n",
       "3                   7              7645.861827      0.0          529.881344  \n",
       "4                   1              2813.692575  43836.0          138.130879  "
      ]
     },
     "execution_count": 30,
     "metadata": {},
     "output_type": "execute_result"
    }
   ],
   "source": [
    "customer_num = pd.concat([disc_num_df, cont_num_df], axis=1)\n",
    "customer_num.head()"
   ]
  },
  {
   "cell_type": "markdown",
   "id": "67221385",
   "metadata": {},
   "source": [
    "#### 12. Check all columns for NaN values. Decide what (if anything) you will need to do with them."
   ]
  },
  {
   "cell_type": "code",
   "execution_count": 31,
   "id": "f37f3d2d",
   "metadata": {},
   "outputs": [
    {
     "data": {
      "text/plain": [
       "monthly_premium_auto              0\n",
       "months_since_last_claim           0\n",
       "months_since_policy_inception     0\n",
       "number_of_open_complaints         0\n",
       "number_of_policies                0\n",
       "customer_lifetime_value          20\n",
       "income                           20\n",
       "total_claim_amount               20\n",
       "dtype: int64"
      ]
     },
     "execution_count": 31,
     "metadata": {},
     "output_type": "execute_result"
    }
   ],
   "source": [
    "# there are NaN values because I removed outliers, I will drop Nan values\n",
    "customer_num.isna().sum()"
   ]
  },
  {
   "cell_type": "code",
   "execution_count": 32,
   "id": "8376303d",
   "metadata": {},
   "outputs": [],
   "source": [
    "customer_num = customer_num.dropna()"
   ]
  },
  {
   "cell_type": "code",
   "execution_count": 33,
   "id": "0b97653d",
   "metadata": {},
   "outputs": [
    {
     "data": {
      "text/plain": [
       "(9114, 8)"
      ]
     },
     "execution_count": 33,
     "metadata": {},
     "output_type": "execute_result"
    }
   ],
   "source": [
    "customer_num.shape"
   ]
  },
  {
   "cell_type": "markdown",
   "id": "39a78b97",
   "metadata": {},
   "source": [
    "# Lab 4.02 Cleaning Categorical Data"
   ]
  },
  {
   "cell_type": "markdown",
   "id": "e9d0c2ee",
   "metadata": {},
   "source": [
    "#### 2. Find all of the categorical data. Save it in a categorical_df variable."
   ]
  },
  {
   "cell_type": "code",
   "execution_count": 34,
   "id": "0ac0c1fa",
   "metadata": {},
   "outputs": [],
   "source": [
    "customer_cat = customer_df.select_dtypes(object)"
   ]
  },
  {
   "cell_type": "markdown",
   "id": "fd012c0d",
   "metadata": {},
   "source": [
    "#### 3. Check for NaN values."
   ]
  },
  {
   "cell_type": "code",
   "execution_count": 35,
   "id": "e49c9831",
   "metadata": {},
   "outputs": [
    {
     "data": {
      "text/plain": [
       "customer             0\n",
       "state                0\n",
       "response             0\n",
       "coverage             0\n",
       "education            0\n",
       "employment_status    0\n",
       "gender               0\n",
       "location_code        0\n",
       "marital_status       0\n",
       "policy_type          0\n",
       "policy               0\n",
       "renew_offer_type     0\n",
       "sales_channel        0\n",
       "vehicle_class        0\n",
       "vehicle_size         0\n",
       "dtype: int64"
      ]
     },
     "execution_count": 35,
     "metadata": {},
     "output_type": "execute_result"
    }
   ],
   "source": [
    "customer_cat.isna().sum()\n",
    "# customer_cat.shape"
   ]
  },
  {
   "cell_type": "markdown",
   "id": "8dda02c6",
   "metadata": {},
   "source": [
    "#### 4. Check all unique values of columns."
   ]
  },
  {
   "cell_type": "code",
   "execution_count": 36,
   "id": "9f983e68",
   "metadata": {},
   "outputs": [
    {
     "data": {
      "text/plain": [
       "customer             9134\n",
       "state                   5\n",
       "response                2\n",
       "coverage                3\n",
       "education               5\n",
       "employment_status       5\n",
       "gender                  2\n",
       "location_code           3\n",
       "marital_status          3\n",
       "policy_type             3\n",
       "policy                  9\n",
       "renew_offer_type        4\n",
       "sales_channel           4\n",
       "vehicle_class           6\n",
       "vehicle_size            3\n",
       "dtype: int64"
      ]
     },
     "execution_count": 36,
     "metadata": {},
     "output_type": "execute_result"
    }
   ],
   "source": [
    "customer_cat.nunique()"
   ]
  },
  {
   "cell_type": "markdown",
   "id": "8aa09246",
   "metadata": {},
   "source": [
    "#### 5.Check dtypes. Do they all make sense as categorical data?\n",
    "\n",
    "#### 6.Does any column contain alpha and numeric data? Decide how to clean it.\n",
    "\n",
    "#### 7.Would you choose to do anything else to clean or wrangle the categorical data? Comment your decisions."
   ]
  },
  {
   "cell_type": "code",
   "execution_count": 37,
   "id": "122da9e4",
   "metadata": {},
   "outputs": [
    {
     "data": {
      "text/plain": [
       "customer             object\n",
       "state                object\n",
       "response             object\n",
       "coverage             object\n",
       "education            object\n",
       "employment_status    object\n",
       "gender               object\n",
       "location_code        object\n",
       "marital_status       object\n",
       "policy_type          object\n",
       "policy               object\n",
       "renew_offer_type     object\n",
       "sales_channel        object\n",
       "vehicle_class        object\n",
       "vehicle_size         object\n",
       "dtype: object"
      ]
     },
     "execution_count": 37,
     "metadata": {},
     "output_type": "execute_result"
    }
   ],
   "source": [
    "customer_cat.dtypes"
   ]
  },
  {
   "cell_type": "code",
   "execution_count": 38,
   "id": "7925de5d",
   "metadata": {},
   "outputs": [
    {
     "data": {
      "text/html": [
       "<div>\n",
       "<style scoped>\n",
       "    .dataframe tbody tr th:only-of-type {\n",
       "        vertical-align: middle;\n",
       "    }\n",
       "\n",
       "    .dataframe tbody tr th {\n",
       "        vertical-align: top;\n",
       "    }\n",
       "\n",
       "    .dataframe thead th {\n",
       "        text-align: right;\n",
       "    }\n",
       "</style>\n",
       "<table border=\"1\" class=\"dataframe\">\n",
       "  <thead>\n",
       "    <tr style=\"text-align: right;\">\n",
       "      <th></th>\n",
       "      <th>customer</th>\n",
       "      <th>state</th>\n",
       "      <th>response</th>\n",
       "      <th>coverage</th>\n",
       "      <th>education</th>\n",
       "      <th>employment_status</th>\n",
       "      <th>gender</th>\n",
       "      <th>location_code</th>\n",
       "      <th>marital_status</th>\n",
       "      <th>policy_type</th>\n",
       "      <th>policy</th>\n",
       "      <th>renew_offer_type</th>\n",
       "      <th>sales_channel</th>\n",
       "      <th>vehicle_class</th>\n",
       "      <th>vehicle_size</th>\n",
       "    </tr>\n",
       "  </thead>\n",
       "  <tbody>\n",
       "    <tr>\n",
       "      <th>0</th>\n",
       "      <td>BU79786</td>\n",
       "      <td>Washington</td>\n",
       "      <td>No</td>\n",
       "      <td>Basic</td>\n",
       "      <td>Bachelor</td>\n",
       "      <td>Employed</td>\n",
       "      <td>F</td>\n",
       "      <td>Suburban</td>\n",
       "      <td>Married</td>\n",
       "      <td>Corporate Auto</td>\n",
       "      <td>Corporate L3</td>\n",
       "      <td>Offer1</td>\n",
       "      <td>Agent</td>\n",
       "      <td>Two-Door Car</td>\n",
       "      <td>Medsize</td>\n",
       "    </tr>\n",
       "    <tr>\n",
       "      <th>1</th>\n",
       "      <td>QZ44356</td>\n",
       "      <td>Arizona</td>\n",
       "      <td>No</td>\n",
       "      <td>Extended</td>\n",
       "      <td>Bachelor</td>\n",
       "      <td>Unemployed</td>\n",
       "      <td>F</td>\n",
       "      <td>Suburban</td>\n",
       "      <td>Single</td>\n",
       "      <td>Personal Auto</td>\n",
       "      <td>Personal L3</td>\n",
       "      <td>Offer3</td>\n",
       "      <td>Agent</td>\n",
       "      <td>Four-Door Car</td>\n",
       "      <td>Medsize</td>\n",
       "    </tr>\n",
       "    <tr>\n",
       "      <th>2</th>\n",
       "      <td>AI49188</td>\n",
       "      <td>Nevada</td>\n",
       "      <td>No</td>\n",
       "      <td>Premium</td>\n",
       "      <td>Bachelor</td>\n",
       "      <td>Employed</td>\n",
       "      <td>F</td>\n",
       "      <td>Suburban</td>\n",
       "      <td>Married</td>\n",
       "      <td>Personal Auto</td>\n",
       "      <td>Personal L3</td>\n",
       "      <td>Offer1</td>\n",
       "      <td>Agent</td>\n",
       "      <td>Two-Door Car</td>\n",
       "      <td>Medsize</td>\n",
       "    </tr>\n",
       "    <tr>\n",
       "      <th>3</th>\n",
       "      <td>WW63253</td>\n",
       "      <td>California</td>\n",
       "      <td>No</td>\n",
       "      <td>Basic</td>\n",
       "      <td>Bachelor</td>\n",
       "      <td>Unemployed</td>\n",
       "      <td>M</td>\n",
       "      <td>Suburban</td>\n",
       "      <td>Married</td>\n",
       "      <td>Corporate Auto</td>\n",
       "      <td>Corporate L2</td>\n",
       "      <td>Offer1</td>\n",
       "      <td>Call Center</td>\n",
       "      <td>SUV</td>\n",
       "      <td>Medsize</td>\n",
       "    </tr>\n",
       "    <tr>\n",
       "      <th>4</th>\n",
       "      <td>HB64268</td>\n",
       "      <td>Washington</td>\n",
       "      <td>No</td>\n",
       "      <td>Basic</td>\n",
       "      <td>Bachelor</td>\n",
       "      <td>Employed</td>\n",
       "      <td>M</td>\n",
       "      <td>Rural</td>\n",
       "      <td>Single</td>\n",
       "      <td>Personal Auto</td>\n",
       "      <td>Personal L1</td>\n",
       "      <td>Offer1</td>\n",
       "      <td>Agent</td>\n",
       "      <td>Four-Door Car</td>\n",
       "      <td>Medsize</td>\n",
       "    </tr>\n",
       "  </tbody>\n",
       "</table>\n",
       "</div>"
      ],
      "text/plain": [
       "  customer       state response  coverage education employment_status gender  \\\n",
       "0  BU79786  Washington       No     Basic  Bachelor          Employed      F   \n",
       "1  QZ44356     Arizona       No  Extended  Bachelor        Unemployed      F   \n",
       "2  AI49188      Nevada       No   Premium  Bachelor          Employed      F   \n",
       "3  WW63253  California       No     Basic  Bachelor        Unemployed      M   \n",
       "4  HB64268  Washington       No     Basic  Bachelor          Employed      M   \n",
       "\n",
       "  location_code marital_status     policy_type        policy renew_offer_type  \\\n",
       "0      Suburban        Married  Corporate Auto  Corporate L3           Offer1   \n",
       "1      Suburban         Single   Personal Auto   Personal L3           Offer3   \n",
       "2      Suburban        Married   Personal Auto   Personal L3           Offer1   \n",
       "3      Suburban        Married  Corporate Auto  Corporate L2           Offer1   \n",
       "4         Rural         Single   Personal Auto   Personal L1           Offer1   \n",
       "\n",
       "  sales_channel  vehicle_class vehicle_size  \n",
       "0         Agent   Two-Door Car      Medsize  \n",
       "1         Agent  Four-Door Car      Medsize  \n",
       "2         Agent   Two-Door Car      Medsize  \n",
       "3   Call Center            SUV      Medsize  \n",
       "4         Agent  Four-Door Car      Medsize  "
      ]
     },
     "execution_count": 38,
     "metadata": {},
     "output_type": "execute_result"
    }
   ],
   "source": [
    "customer_cat.head()"
   ]
  },
  {
   "cell_type": "markdown",
   "id": "e1f5c4f3",
   "metadata": {},
   "source": [
    "customer column contains alpha-numeric data\n",
    "I split from the first two letter. I thought maybe they are cities/counties/neighbourhoods etc and I could make category\n",
    "but there are 677 unique values and I don't understand what they are.\n",
    "So I will drop that 'customer' column"
   ]
  },
  {
   "cell_type": "code",
   "execution_count": 39,
   "id": "f8b616d2",
   "metadata": {},
   "outputs": [],
   "source": [
    "customer_cat = customer_cat.drop(['customer'], axis=1)"
   ]
  },
  {
   "cell_type": "markdown",
   "id": "a15b6f56",
   "metadata": {},
   "source": [
    "I combine marital status only married-single. Would add divorced+single."
   ]
  },
  {
   "cell_type": "code",
   "execution_count": 40,
   "id": "5b47564c",
   "metadata": {},
   "outputs": [],
   "source": [
    "def cleanmarit(x):\n",
    "    if 'Married' in x:\n",
    "        return \"Married\"\n",
    "    else:\n",
    "        return 'Single'\n",
    "    \n",
    "customer_cat['marital_status'] = customer_cat['marital_status'].apply(cleanmarit)"
   ]
  },
  {
   "cell_type": "markdown",
   "id": "1a9b2bf0",
   "metadata": {},
   "source": [
    "I changed employment_status categories"
   ]
  },
  {
   "cell_type": "code",
   "execution_count": 41,
   "id": "c5da7471",
   "metadata": {},
   "outputs": [
    {
     "data": {
      "text/plain": [
       "Employed      5698\n",
       "Unemployed    2317\n",
       "Other         1119\n",
       "Name: employment_status, dtype: int64"
      ]
     },
     "execution_count": 41,
     "metadata": {},
     "output_type": "execute_result"
    }
   ],
   "source": [
    "def cleanemsta(x):\n",
    "    if 'Employed' in x:\n",
    "        return \"Employed\"\n",
    "    elif 'Unemployed' in x:\n",
    "        return \"Unemployed\"\n",
    "    else:\n",
    "        return 'Other'\n",
    "    \n",
    "customer_cat['employment_status'] = customer_cat['employment_status'].apply(cleanemsta)\n",
    "customer_cat['employment_status'].value_counts()"
   ]
  },
  {
   "cell_type": "markdown",
   "id": "0114ef7f",
   "metadata": {},
   "source": [
    "#### 8.Compare policy_type and policy. What information is contained in these columns. Can you identify what is important?"
   ]
  },
  {
   "cell_type": "markdown",
   "id": "3658c3d2",
   "metadata": {},
   "source": [
    "'policy' looks like a sub-group of policy type.\n",
    "In the 'policy' column it is already stated that if a car is Corporate-Special or Personal.\n",
    "So I would drop the policy_type column"
   ]
  },
  {
   "cell_type": "markdown",
   "id": "2180dae4",
   "metadata": {},
   "source": [
    "!!!! Grouping policy into L1, L2, L3 would be better. Then I will have total 6 columns after one hot encode."
   ]
  },
  {
   "cell_type": "code",
   "execution_count": 42,
   "id": "48f28d04",
   "metadata": {},
   "outputs": [
    {
     "data": {
      "text/plain": [
       "Personal Auto     6788\n",
       "Corporate Auto    1968\n",
       "Special Auto       378\n",
       "Name: policy_type, dtype: int64"
      ]
     },
     "execution_count": 42,
     "metadata": {},
     "output_type": "execute_result"
    }
   ],
   "source": [
    "customer_cat['policy_type'].value_counts(dropna=False).head(10)"
   ]
  },
  {
   "cell_type": "code",
   "execution_count": 43,
   "id": "0186f4fe",
   "metadata": {},
   "outputs": [
    {
     "data": {
      "text/plain": [
       "Personal L3     3426\n",
       "Personal L2     2122\n",
       "Personal L1     1240\n",
       "Corporate L3    1014\n",
       "Corporate L2     595\n",
       "Corporate L1     359\n",
       "Special L2       164\n",
       "Special L3       148\n",
       "Special L1        66\n",
       "Name: policy, dtype: int64"
      ]
     },
     "execution_count": 43,
     "metadata": {},
     "output_type": "execute_result"
    }
   ],
   "source": [
    "customer_cat['policy'].value_counts(dropna=False).head(10)"
   ]
  },
  {
   "cell_type": "code",
   "execution_count": 44,
   "id": "30374027",
   "metadata": {},
   "outputs": [
    {
     "name": "stderr",
     "output_type": "stream",
     "text": [
      "C:\\Users\\aslis\\AppData\\Local\\Temp\\ipykernel_6020\\1975194234.py:1: FutureWarning: The default value of regex will change from True to False in a future version.\n",
      "  customer_cat.policy = customer_cat.policy.str.replace(\"\\w* \", ' ')\n"
     ]
    }
   ],
   "source": [
    "customer_cat.policy = customer_cat.policy.str.replace(\"\\w* \", ' ')"
   ]
  },
  {
   "cell_type": "code",
   "execution_count": 45,
   "id": "4180b106",
   "metadata": {},
   "outputs": [
    {
     "data": {
      "text/plain": [
       " L3    4588\n",
       " L2    2881\n",
       " L1    1665\n",
       "Name: policy, dtype: int64"
      ]
     },
     "execution_count": 45,
     "metadata": {},
     "output_type": "execute_result"
    }
   ],
   "source": [
    "customer_cat['policy'].value_counts(dropna=False).head(10)"
   ]
  },
  {
   "cell_type": "markdown",
   "id": "db076ef9",
   "metadata": {},
   "source": [
    "#### 9. Check number of unique values in each column, can they be combined in any way to ease encoding? Comment your thoughts and make those changes."
   ]
  },
  {
   "cell_type": "markdown",
   "id": "6ae86c42",
   "metadata": {},
   "source": [
    "I reduced the vehicle_class and education categories"
   ]
  },
  {
   "cell_type": "code",
   "execution_count": 46,
   "id": "d990fb9d",
   "metadata": {},
   "outputs": [
    {
     "data": {
      "text/plain": [
       "Four-Door Car    4621\n",
       "Two-Door Car     1886\n",
       "SUV              1796\n",
       "Sports Car        484\n",
       "Luxury SUV        184\n",
       "Name: vehicle_class, dtype: int64"
      ]
     },
     "execution_count": 46,
     "metadata": {},
     "output_type": "execute_result"
    }
   ],
   "source": [
    "customer_cat['vehicle_class'].value_counts(dropna=False).head()"
   ]
  },
  {
   "cell_type": "code",
   "execution_count": 47,
   "id": "95f1d513",
   "metadata": {},
   "outputs": [],
   "source": [
    "def cleanvehicle(x):\n",
    "    if 'Four-Door Car' in x:\n",
    "        return \"Four-Door Car\"\n",
    "    elif 'Two-Door Car' in x:\n",
    "        return \"Two-Door Car\"\n",
    "    elif 'SUV' in x:\n",
    "        return \"SUV\"\n",
    "    else:\n",
    "        return 'Luxury'\n",
    "    \n",
    "customer_cat['vehicle_class'] = customer_cat['vehicle_class'].apply(cleanvehicle)"
   ]
  },
  {
   "cell_type": "code",
   "execution_count": 48,
   "id": "43f30f56",
   "metadata": {},
   "outputs": [],
   "source": [
    "customer_cat['education'] = np.where(customer_cat['education'].isin(['Master', 'Doctor']), 'Academic', customer_cat['education'])"
   ]
  },
  {
   "cell_type": "code",
   "execution_count": 49,
   "id": "8cc6d1bb",
   "metadata": {},
   "outputs": [
    {
     "data": {
      "text/plain": [
       "(9134, 14)"
      ]
     },
     "execution_count": 49,
     "metadata": {},
     "output_type": "execute_result"
    }
   ],
   "source": [
    "customer_cat = customer_cat.dropna()\n",
    "customer_cat.shape"
   ]
  },
  {
   "cell_type": "markdown",
   "id": "c401f51c",
   "metadata": {},
   "source": [
    "### concat cleaned data"
   ]
  },
  {
   "cell_type": "code",
   "execution_count": 50,
   "id": "034bcf72",
   "metadata": {},
   "outputs": [],
   "source": [
    "customer_df_c = pd.concat((customer_cat, customer_num, customer_df['effective_to_date']),axis=1)"
   ]
  },
  {
   "cell_type": "code",
   "execution_count": 51,
   "id": "b3ac594e",
   "metadata": {},
   "outputs": [
    {
     "data": {
      "text/plain": [
       "(9114, 23)"
      ]
     },
     "execution_count": 51,
     "metadata": {},
     "output_type": "execute_result"
    }
   ],
   "source": [
    "customer_df_c = customer_df_c.dropna()\n",
    "customer_df_c.shape"
   ]
  },
  {
   "cell_type": "markdown",
   "id": "bc67b3b4",
   "metadata": {},
   "source": [
    "# Lab 4.03 Feature Extraction"
   ]
  },
  {
   "cell_type": "markdown",
   "id": "5f1d3930",
   "metadata": {},
   "source": [
    "#### 1. Open the categorical dataframe we created before.\n",
    "#### 2. Plot all the categorical variables with the proper plot. What can you see?\n",
    "#### 3. There might be some columns that seem to be redundant, check their values to be sure. What should we do with them? Make any changes you feel are necessary."
   ]
  },
  {
   "cell_type": "markdown",
   "id": "9026a184",
   "metadata": {},
   "source": [
    "I made the changes and grouping in the categorical data at the previous lab. In addition to that, number_of_open complaints and number_of_policies are now categorical."
   ]
  },
  {
   "cell_type": "code",
   "execution_count": 52,
   "id": "5e5760a8",
   "metadata": {},
   "outputs": [],
   "source": [
    "customer_cat = customer_df_c.select_dtypes(object)"
   ]
  },
  {
   "cell_type": "code",
   "execution_count": 53,
   "id": "f615134f",
   "metadata": {},
   "outputs": [
    {
     "name": "stderr",
     "output_type": "stream",
     "text": [
      "C:\\Users\\aslis\\AppData\\Local\\Temp\\ipykernel_6020\\3755605884.py:5: UserWarning: FixedFormatter should only be used together with FixedLocator\n",
      "  ax.set_xticklabels(ax.xaxis.get_majorticklabels(), rotation=45)\n",
      "C:\\Users\\aslis\\AppData\\Local\\Temp\\ipykernel_6020\\3755605884.py:5: UserWarning: FixedFormatter should only be used together with FixedLocator\n",
      "  ax.set_xticklabels(ax.xaxis.get_majorticklabels(), rotation=45)\n",
      "C:\\Users\\aslis\\AppData\\Local\\Temp\\ipykernel_6020\\3755605884.py:5: UserWarning: FixedFormatter should only be used together with FixedLocator\n",
      "  ax.set_xticklabels(ax.xaxis.get_majorticklabels(), rotation=45)\n",
      "C:\\Users\\aslis\\AppData\\Local\\Temp\\ipykernel_6020\\3755605884.py:5: UserWarning: FixedFormatter should only be used together with FixedLocator\n",
      "  ax.set_xticklabels(ax.xaxis.get_majorticklabels(), rotation=45)\n",
      "C:\\Users\\aslis\\AppData\\Local\\Temp\\ipykernel_6020\\3755605884.py:5: UserWarning: FixedFormatter should only be used together with FixedLocator\n",
      "  ax.set_xticklabels(ax.xaxis.get_majorticklabels(), rotation=45)\n",
      "C:\\Users\\aslis\\AppData\\Local\\Temp\\ipykernel_6020\\3755605884.py:5: UserWarning: FixedFormatter should only be used together with FixedLocator\n",
      "  ax.set_xticklabels(ax.xaxis.get_majorticklabels(), rotation=45)\n",
      "C:\\Users\\aslis\\AppData\\Local\\Temp\\ipykernel_6020\\3755605884.py:5: UserWarning: FixedFormatter should only be used together with FixedLocator\n",
      "  ax.set_xticklabels(ax.xaxis.get_majorticklabels(), rotation=45)\n",
      "C:\\Users\\aslis\\AppData\\Local\\Temp\\ipykernel_6020\\3755605884.py:5: UserWarning: FixedFormatter should only be used together with FixedLocator\n",
      "  ax.set_xticklabels(ax.xaxis.get_majorticklabels(), rotation=45)\n",
      "C:\\Users\\aslis\\AppData\\Local\\Temp\\ipykernel_6020\\3755605884.py:5: UserWarning: FixedFormatter should only be used together with FixedLocator\n",
      "  ax.set_xticklabels(ax.xaxis.get_majorticklabels(), rotation=45)\n",
      "C:\\Users\\aslis\\AppData\\Local\\Temp\\ipykernel_6020\\3755605884.py:5: UserWarning: FixedFormatter should only be used together with FixedLocator\n",
      "  ax.set_xticklabels(ax.xaxis.get_majorticklabels(), rotation=45)\n",
      "C:\\Users\\aslis\\AppData\\Local\\Temp\\ipykernel_6020\\3755605884.py:5: UserWarning: FixedFormatter should only be used together with FixedLocator\n",
      "  ax.set_xticklabels(ax.xaxis.get_majorticklabels(), rotation=45)\n",
      "C:\\Users\\aslis\\AppData\\Local\\Temp\\ipykernel_6020\\3755605884.py:5: UserWarning: FixedFormatter should only be used together with FixedLocator\n",
      "  ax.set_xticklabels(ax.xaxis.get_majorticklabels(), rotation=45)\n",
      "C:\\Users\\aslis\\AppData\\Local\\Temp\\ipykernel_6020\\3755605884.py:5: UserWarning: FixedFormatter should only be used together with FixedLocator\n",
      "  ax.set_xticklabels(ax.xaxis.get_majorticklabels(), rotation=45)\n",
      "C:\\Users\\aslis\\AppData\\Local\\Temp\\ipykernel_6020\\3755605884.py:5: UserWarning: FixedFormatter should only be used together with FixedLocator\n",
      "  ax.set_xticklabels(ax.xaxis.get_majorticklabels(), rotation=45)\n"
     ]
    },
    {
     "data": {
      "image/png": "[encoded data removed]",
      "text/plain": [
       "<Figure size 864x2160 with 15 Axes>"
      ]
     },
     "metadata": {
      "needs_background": "light"
     },
     "output_type": "display_data"
    }
   ],
   "source": [
    "fig, axes = plt.subplots(round(len(customer_cat.columns) / 3), 3, figsize=(12, 30))\n",
    "\n",
    "for i, ax in enumerate(fig.axes):\n",
    "    if i < len(customer_cat.columns):\n",
    "        ax.set_xticklabels(ax.xaxis.get_majorticklabels(), rotation=45)\n",
    "        sns.countplot(x=customer_cat.columns[i], alpha=0.7, data=customer_cat, ax=ax)\n",
    "\n",
    "fig.tight_layout()"
   ]
  },
  {
   "cell_type": "markdown",
   "id": "eb778895",
   "metadata": {},
   "source": [
    "#### 4. Plot time variable. Can you extract something from it?"
   ]
  },
  {
   "cell_type": "markdown",
   "id": "da48048e",
   "metadata": {},
   "source": [
    "I can not get any info-pattern from the date "
   ]
  },
  {
   "cell_type": "code",
   "execution_count": 54,
   "id": "3ed5dfb3",
   "metadata": {},
   "outputs": [],
   "source": [
    "date_df = customer_df[['effective_to_date','total_claim_amount']]"
   ]
  },
  {
   "cell_type": "code",
   "execution_count": 55,
   "id": "81aef366",
   "metadata": {},
   "outputs": [
    {
     "name": "stderr",
     "output_type": "stream",
     "text": [
      "C:\\Users\\aslis\\AppData\\Local\\Temp\\ipykernel_6020\\3412514113.py:2: SettingWithCopyWarning: \n",
      "A value is trying to be set on a copy of a slice from a DataFrame.\n",
      "Try using .loc[row_indexer,col_indexer] = value instead\n",
      "\n",
      "See the caveats in the documentation: https://pandas.pydata.org/pandas-docs/stable/user_guide/indexing.html#returning-a-view-versus-a-copy\n",
      "  date_df['month'] = pd.DatetimeIndex(date_df['effective_to_date']).month\n",
      "C:\\Users\\aslis\\AppData\\Local\\Temp\\ipykernel_6020\\3412514113.py:3: SettingWithCopyWarning: \n",
      "A value is trying to be set on a copy of a slice from a DataFrame.\n",
      "Try using .loc[row_indexer,col_indexer] = value instead\n",
      "\n",
      "See the caveats in the documentation: https://pandas.pydata.org/pandas-docs/stable/user_guide/indexing.html#returning-a-view-versus-a-copy\n",
      "  date_df['day'] = pd.DatetimeIndex(date_df['effective_to_date']).day\n"
     ]
    },
    {
     "data": {
      "text/html": [
       "<div>\n",
       "<style scoped>\n",
       "    .dataframe tbody tr th:only-of-type {\n",
       "        vertical-align: middle;\n",
       "    }\n",
       "\n",
       "    .dataframe tbody tr th {\n",
       "        vertical-align: top;\n",
       "    }\n",
       "\n",
       "    .dataframe thead th {\n",
       "        text-align: right;\n",
       "    }\n",
       "</style>\n",
       "<table border=\"1\" class=\"dataframe\">\n",
       "  <thead>\n",
       "    <tr style=\"text-align: right;\">\n",
       "      <th></th>\n",
       "      <th>effective_to_date</th>\n",
       "      <th>total_claim_amount</th>\n",
       "      <th>month</th>\n",
       "      <th>day</th>\n",
       "    </tr>\n",
       "  </thead>\n",
       "  <tbody>\n",
       "    <tr>\n",
       "      <th>0</th>\n",
       "      <td>2011-02-24</td>\n",
       "      <td>384.811147</td>\n",
       "      <td>2</td>\n",
       "      <td>24</td>\n",
       "    </tr>\n",
       "    <tr>\n",
       "      <th>1</th>\n",
       "      <td>2011-01-31</td>\n",
       "      <td>1131.464935</td>\n",
       "      <td>1</td>\n",
       "      <td>31</td>\n",
       "    </tr>\n",
       "    <tr>\n",
       "      <th>2</th>\n",
       "      <td>2011-02-19</td>\n",
       "      <td>566.472247</td>\n",
       "      <td>2</td>\n",
       "      <td>19</td>\n",
       "    </tr>\n",
       "    <tr>\n",
       "      <th>3</th>\n",
       "      <td>2011-01-20</td>\n",
       "      <td>529.881344</td>\n",
       "      <td>1</td>\n",
       "      <td>20</td>\n",
       "    </tr>\n",
       "    <tr>\n",
       "      <th>4</th>\n",
       "      <td>2011-02-03</td>\n",
       "      <td>138.130879</td>\n",
       "      <td>2</td>\n",
       "      <td>3</td>\n",
       "    </tr>\n",
       "  </tbody>\n",
       "</table>\n",
       "</div>"
      ],
      "text/plain": [
       "  effective_to_date  total_claim_amount  month  day\n",
       "0        2011-02-24          384.811147      2   24\n",
       "1        2011-01-31         1131.464935      1   31\n",
       "2        2011-02-19          566.472247      2   19\n",
       "3        2011-01-20          529.881344      1   20\n",
       "4        2011-02-03          138.130879      2    3"
      ]
     },
     "execution_count": 55,
     "metadata": {},
     "output_type": "execute_result"
    }
   ],
   "source": [
    "import datetime\n",
    "date_df['month'] = pd.DatetimeIndex(date_df['effective_to_date']).month\n",
    "date_df['day'] = pd.DatetimeIndex(date_df['effective_to_date']).day\n",
    "date_df.head()"
   ]
  },
  {
   "cell_type": "code",
   "execution_count": 56,
   "id": "80f4cbd1",
   "metadata": {},
   "outputs": [],
   "source": [
    "date_df = date_df.drop(['effective_to_date'], axis=1)"
   ]
  },
  {
   "cell_type": "code",
   "execution_count": 57,
   "id": "5ade2ef4",
   "metadata": {},
   "outputs": [
    {
     "data": {
      "image/png": "[encoded data removed]",
      "text/plain": [
       "<Figure size 432x288 with 1 Axes>"
      ]
     },
     "metadata": {
      "needs_background": "light"
     },
     "output_type": "display_data"
    }
   ],
   "source": [
    "sns.lineplot(x=date_df.total_claim_amount, y=date_df.month)\n",
    "sns.lineplot(x=date_df.total_claim_amount, y=date_df.day)\n",
    "plt.show()"
   ]
  },
  {
   "cell_type": "code",
   "execution_count": 58,
   "id": "31e26455",
   "metadata": {},
   "outputs": [
    {
     "data": {
      "text/plain": [
       "<AxesSubplot:xlabel='day', ylabel='total_claim_amount'>"
      ]
     },
     "execution_count": 58,
     "metadata": {},
     "output_type": "execute_result"
    },
    {
     "data": {
      "image/png": "[encoded data removed]",
      "text/plain": [
       "<Figure size 432x288 with 1 Axes>"
      ]
     },
     "metadata": {
      "needs_background": "light"
     },
     "output_type": "display_data"
    }
   ],
   "source": [
    "sns.lineplot(\n",
    "    data=date_df, x=\"day\", y=\"total_claim_amount\", hue=\"month\"\n",
    ")"
   ]
  },
  {
   "cell_type": "markdown",
   "id": "3cf35f92",
   "metadata": {},
   "source": [
    "# Lab 4.05 Comparing Regression Models"
   ]
  },
  {
   "cell_type": "markdown",
   "id": "d6659f3f",
   "metadata": {},
   "source": [
    "#### 1. In this final lab, we will model our data. Import sklearn `train_test_split` and separate the data."
   ]
  },
  {
   "cell_type": "markdown",
   "id": "cf39cc21",
   "metadata": {},
   "source": [
    "#### 2. Separate X_train and X_test into numerical and categorical (X_train_cat , X_train_num , X_test_cat , X_test_num)"
   ]
  },
  {
   "cell_type": "code",
   "execution_count": 59,
   "id": "12436d6a",
   "metadata": {},
   "outputs": [],
   "source": [
    "X = customer_df_c.drop(['total_claim_amount'],axis=1)\n",
    "y = customer_df_c['total_claim_amount']"
   ]
  },
  {
   "cell_type": "code",
   "execution_count": 60,
   "id": "afdee2d9",
   "metadata": {},
   "outputs": [
    {
     "data": {
      "text/html": [
       "<div>\n",
       "<style scoped>\n",
       "    .dataframe tbody tr th:only-of-type {\n",
       "        vertical-align: middle;\n",
       "    }\n",
       "\n",
       "    .dataframe tbody tr th {\n",
       "        vertical-align: top;\n",
       "    }\n",
       "\n",
       "    .dataframe thead th {\n",
       "        text-align: right;\n",
       "    }\n",
       "</style>\n",
       "<table border=\"1\" class=\"dataframe\">\n",
       "  <thead>\n",
       "    <tr style=\"text-align: right;\">\n",
       "      <th></th>\n",
       "      <th>state</th>\n",
       "      <th>response</th>\n",
       "      <th>coverage</th>\n",
       "      <th>education</th>\n",
       "      <th>employment_status</th>\n",
       "      <th>gender</th>\n",
       "      <th>location_code</th>\n",
       "      <th>marital_status</th>\n",
       "      <th>policy_type</th>\n",
       "      <th>policy</th>\n",
       "      <th>...</th>\n",
       "      <th>vehicle_class</th>\n",
       "      <th>vehicle_size</th>\n",
       "      <th>monthly_premium_auto</th>\n",
       "      <th>months_since_last_claim</th>\n",
       "      <th>months_since_policy_inception</th>\n",
       "      <th>number_of_open_complaints</th>\n",
       "      <th>number_of_policies</th>\n",
       "      <th>customer_lifetime_value</th>\n",
       "      <th>income</th>\n",
       "      <th>effective_to_date</th>\n",
       "    </tr>\n",
       "  </thead>\n",
       "  <tbody>\n",
       "    <tr>\n",
       "      <th>9003</th>\n",
       "      <td>California</td>\n",
       "      <td>No</td>\n",
       "      <td>Basic</td>\n",
       "      <td>Academic</td>\n",
       "      <td>Employed</td>\n",
       "      <td>F</td>\n",
       "      <td>Urban</td>\n",
       "      <td>Married</td>\n",
       "      <td>Personal Auto</td>\n",
       "      <td>L1</td>\n",
       "      <td>...</td>\n",
       "      <td>Luxury</td>\n",
       "      <td>Small</td>\n",
       "      <td>102.0</td>\n",
       "      <td>7.0</td>\n",
       "      <td>55.0</td>\n",
       "      <td>0.0</td>\n",
       "      <td>2.0</td>\n",
       "      <td>24826.891270</td>\n",
       "      <td>67572.0</td>\n",
       "      <td>2011-02-25</td>\n",
       "    </tr>\n",
       "    <tr>\n",
       "      <th>5931</th>\n",
       "      <td>California</td>\n",
       "      <td>No</td>\n",
       "      <td>Basic</td>\n",
       "      <td>College</td>\n",
       "      <td>Other</td>\n",
       "      <td>F</td>\n",
       "      <td>Suburban</td>\n",
       "      <td>Married</td>\n",
       "      <td>Corporate Auto</td>\n",
       "      <td>L3</td>\n",
       "      <td>...</td>\n",
       "      <td>Four-Door Car</td>\n",
       "      <td>Small</td>\n",
       "      <td>66.0</td>\n",
       "      <td>31.0</td>\n",
       "      <td>0.0</td>\n",
       "      <td>0.0</td>\n",
       "      <td>1.0</td>\n",
       "      <td>2511.697993</td>\n",
       "      <td>14906.0</td>\n",
       "      <td>2011-02-03</td>\n",
       "    </tr>\n",
       "    <tr>\n",
       "      <th>8506</th>\n",
       "      <td>California</td>\n",
       "      <td>No</td>\n",
       "      <td>Extended</td>\n",
       "      <td>Bachelor</td>\n",
       "      <td>Unemployed</td>\n",
       "      <td>M</td>\n",
       "      <td>Suburban</td>\n",
       "      <td>Single</td>\n",
       "      <td>Personal Auto</td>\n",
       "      <td>L2</td>\n",
       "      <td>...</td>\n",
       "      <td>Two-Door Car</td>\n",
       "      <td>Medsize</td>\n",
       "      <td>95.0</td>\n",
       "      <td>11.0</td>\n",
       "      <td>23.0</td>\n",
       "      <td>0.0</td>\n",
       "      <td>5.0</td>\n",
       "      <td>6290.699249</td>\n",
       "      <td>0.0</td>\n",
       "      <td>2011-01-21</td>\n",
       "    </tr>\n",
       "    <tr>\n",
       "      <th>7690</th>\n",
       "      <td>Washington</td>\n",
       "      <td>No</td>\n",
       "      <td>Basic</td>\n",
       "      <td>College</td>\n",
       "      <td>Other</td>\n",
       "      <td>F</td>\n",
       "      <td>Urban</td>\n",
       "      <td>Single</td>\n",
       "      <td>Corporate Auto</td>\n",
       "      <td>L3</td>\n",
       "      <td>...</td>\n",
       "      <td>Four-Door Car</td>\n",
       "      <td>Medsize</td>\n",
       "      <td>66.0</td>\n",
       "      <td>11.0</td>\n",
       "      <td>74.0</td>\n",
       "      <td>0.0</td>\n",
       "      <td>2.0</td>\n",
       "      <td>9688.129179</td>\n",
       "      <td>24584.0</td>\n",
       "      <td>2011-02-01</td>\n",
       "    </tr>\n",
       "    <tr>\n",
       "      <th>6491</th>\n",
       "      <td>Oregon</td>\n",
       "      <td>No</td>\n",
       "      <td>Basic</td>\n",
       "      <td>College</td>\n",
       "      <td>Employed</td>\n",
       "      <td>M</td>\n",
       "      <td>Suburban</td>\n",
       "      <td>Married</td>\n",
       "      <td>Special Auto</td>\n",
       "      <td>L3</td>\n",
       "      <td>...</td>\n",
       "      <td>Four-Door Car</td>\n",
       "      <td>Medsize</td>\n",
       "      <td>74.0</td>\n",
       "      <td>2.0</td>\n",
       "      <td>78.0</td>\n",
       "      <td>0.0</td>\n",
       "      <td>2.0</td>\n",
       "      <td>17569.159790</td>\n",
       "      <td>41463.0</td>\n",
       "      <td>2011-02-18</td>\n",
       "    </tr>\n",
       "  </tbody>\n",
       "</table>\n",
       "<p>5 rows × 22 columns</p>\n",
       "</div>"
      ],
      "text/plain": [
       "           state response  coverage education employment_status gender  \\\n",
       "9003  California       No     Basic  Academic          Employed      F   \n",
       "5931  California       No     Basic   College             Other      F   \n",
       "8506  California       No  Extended  Bachelor        Unemployed      M   \n",
       "7690  Washington       No     Basic   College             Other      F   \n",
       "6491      Oregon       No     Basic   College          Employed      M   \n",
       "\n",
       "     location_code marital_status     policy_type policy  ...  vehicle_class  \\\n",
       "9003         Urban        Married   Personal Auto     L1  ...         Luxury   \n",
       "5931      Suburban        Married  Corporate Auto     L3  ...  Four-Door Car   \n",
       "8506      Suburban         Single   Personal Auto     L2  ...   Two-Door Car   \n",
       "7690         Urban         Single  Corporate Auto     L3  ...  Four-Door Car   \n",
       "6491      Suburban        Married    Special Auto     L3  ...  Four-Door Car   \n",
       "\n",
       "     vehicle_size monthly_premium_auto months_since_last_claim  \\\n",
       "9003        Small                102.0                     7.0   \n",
       "5931        Small                 66.0                    31.0   \n",
       "8506      Medsize                 95.0                    11.0   \n",
       "7690      Medsize                 66.0                    11.0   \n",
       "6491      Medsize                 74.0                     2.0   \n",
       "\n",
       "      months_since_policy_inception  number_of_open_complaints  \\\n",
       "9003                           55.0                        0.0   \n",
       "5931                            0.0                        0.0   \n",
       "8506                           23.0                        0.0   \n",
       "7690                           74.0                        0.0   \n",
       "6491                           78.0                        0.0   \n",
       "\n",
       "      number_of_policies  customer_lifetime_value   income  effective_to_date  \n",
       "9003                 2.0             24826.891270  67572.0         2011-02-25  \n",
       "5931                 1.0              2511.697993  14906.0         2011-02-03  \n",
       "8506                 5.0              6290.699249      0.0         2011-01-21  \n",
       "7690                 2.0              9688.129179  24584.0         2011-02-01  \n",
       "6491                 2.0             17569.159790  41463.0         2011-02-18  \n",
       "\n",
       "[5 rows x 22 columns]"
      ]
     },
     "metadata": {},
     "output_type": "display_data"
    }
   ],
   "source": [
    "from sklearn.model_selection import train_test_split\n",
    "from sklearn.linear_model import LinearRegression\n",
    "from sklearn.metrics import r2_score\n",
    "X_train, X_test, y_train, y_test = train_test_split(X, y, test_size=0.2, random_state=100)\n",
    "display(X_train.head())"
   ]
  },
  {
   "cell_type": "markdown",
   "id": "f929393b",
   "metadata": {},
   "source": [
    "#### 3. Use X_train_num to fit scalers. Transform BOTH X_train_num and X_test_num."
   ]
  },
  {
   "cell_type": "code",
   "execution_count": 61,
   "id": "8bb594c7",
   "metadata": {},
   "outputs": [],
   "source": [
    "X_train_num = X_train.select_dtypes(include = ['float64', 'int64'])\n",
    "X_test_num = X_test.select_dtypes(include = ['float64', 'int64'])"
   ]
  },
  {
   "cell_type": "markdown",
   "id": "3c94f84e",
   "metadata": {},
   "source": [
    "#### !!!! Lab-Random Variable distributions: Check if any of the transformations (log-transform, etc.) we have seen up to this point changes the result. BELOW:"
   ]
  },
  {
   "cell_type": "code",
   "execution_count": 62,
   "id": "44cba307",
   "metadata": {},
   "outputs": [],
   "source": [
    "# def log_transform_clean(x):\n",
    "#     x = np.log10(x)\n",
    "#     if np.isfinite(x):\n",
    "#         return x\n",
    "#     else:\n",
    "#         return np.NAN    "
   ]
  },
  {
   "cell_type": "code",
   "execution_count": 63,
   "id": "24862487",
   "metadata": {},
   "outputs": [],
   "source": [
    "# X_train_num['cust_life_log'] = list(map(log_transform_clean, X_train_num['customer_lifetime_value']))\n",
    "# X_test_num['cust_life_log'] = list(map(log_transform_clean, X_test_num['customer_lifetime_value']))"
   ]
  },
  {
   "cell_type": "code",
   "execution_count": 64,
   "id": "82bb5dd0",
   "metadata": {},
   "outputs": [],
   "source": [
    "# X_train_num = X_train_num.drop(['customer_lifetime_value'], axis=1)\n",
    "# X_test_num = X_test_num.drop(['customer_lifetime_value'], axis=1)"
   ]
  },
  {
   "cell_type": "markdown",
   "id": "5255e7ea",
   "metadata": {},
   "source": [
    "#### ABOVE: between these cells we will re-run and compare the r2 scores"
   ]
  },
  {
   "cell_type": "code",
   "execution_count": 65,
   "id": "87bb7024",
   "metadata": {},
   "outputs": [],
   "source": [
    "from sklearn.preprocessing import StandardScaler\n",
    "\n",
    "transformer = StandardScaler().fit(X_train_num)\n",
    "X_train_standardized = transformer.transform(X_train_num)\n",
    "X_test_standardized = transformer.transform(X_test_num)"
   ]
  },
  {
   "cell_type": "code",
   "execution_count": 66,
   "id": "6f091239",
   "metadata": {},
   "outputs": [
    {
     "data": {
      "text/html": [
       "<div>\n",
       "<style scoped>\n",
       "    .dataframe tbody tr th:only-of-type {\n",
       "        vertical-align: middle;\n",
       "    }\n",
       "\n",
       "    .dataframe tbody tr th {\n",
       "        vertical-align: top;\n",
       "    }\n",
       "\n",
       "    .dataframe thead th {\n",
       "        text-align: right;\n",
       "    }\n",
       "</style>\n",
       "<table border=\"1\" class=\"dataframe\">\n",
       "  <thead>\n",
       "    <tr style=\"text-align: right;\">\n",
       "      <th></th>\n",
       "      <th>0</th>\n",
       "      <th>1</th>\n",
       "      <th>2</th>\n",
       "      <th>3</th>\n",
       "      <th>4</th>\n",
       "      <th>5</th>\n",
       "      <th>6</th>\n",
       "    </tr>\n",
       "  </thead>\n",
       "  <tbody>\n",
       "    <tr>\n",
       "      <th>0</th>\n",
       "      <td>0.262886</td>\n",
       "      <td>-0.806514</td>\n",
       "      <td>0.250869</td>\n",
       "      <td>-0.421863</td>\n",
       "      <td>-0.407330</td>\n",
       "      <td>2.650131</td>\n",
       "      <td>0.983342</td>\n",
       "    </tr>\n",
       "    <tr>\n",
       "      <th>1</th>\n",
       "      <td>-0.792211</td>\n",
       "      <td>1.579929</td>\n",
       "      <td>-1.714657</td>\n",
       "      <td>-0.421863</td>\n",
       "      <td>-0.824559</td>\n",
       "      <td>-0.841317</td>\n",
       "      <td>-0.756088</td>\n",
       "    </tr>\n",
       "    <tr>\n",
       "      <th>2</th>\n",
       "      <td>0.057728</td>\n",
       "      <td>-0.408774</td>\n",
       "      <td>-0.892710</td>\n",
       "      <td>-0.421863</td>\n",
       "      <td>0.844359</td>\n",
       "      <td>-0.250052</td>\n",
       "      <td>-1.248397</td>\n",
       "    </tr>\n",
       "    <tr>\n",
       "      <th>3</th>\n",
       "      <td>-0.792211</td>\n",
       "      <td>-0.408774</td>\n",
       "      <td>0.929868</td>\n",
       "      <td>-0.421863</td>\n",
       "      <td>-0.407330</td>\n",
       "      <td>0.281512</td>\n",
       "      <td>-0.436447</td>\n",
       "    </tr>\n",
       "    <tr>\n",
       "      <th>4</th>\n",
       "      <td>-0.557745</td>\n",
       "      <td>-1.303690</td>\n",
       "      <td>1.072816</td>\n",
       "      <td>-0.421863</td>\n",
       "      <td>-0.407330</td>\n",
       "      <td>1.514583</td>\n",
       "      <td>0.121025</td>\n",
       "    </tr>\n",
       "  </tbody>\n",
       "</table>\n",
       "</div>"
      ],
      "text/plain": [
       "          0         1         2         3         4         5         6\n",
       "0  0.262886 -0.806514  0.250869 -0.421863 -0.407330  2.650131  0.983342\n",
       "1 -0.792211  1.579929 -1.714657 -0.421863 -0.824559 -0.841317 -0.756088\n",
       "2  0.057728 -0.408774 -0.892710 -0.421863  0.844359 -0.250052 -1.248397\n",
       "3 -0.792211 -0.408774  0.929868 -0.421863 -0.407330  0.281512 -0.436447\n",
       "4 -0.557745 -1.303690  1.072816 -0.421863 -0.407330  1.514583  0.121025"
      ]
     },
     "execution_count": 66,
     "metadata": {},
     "output_type": "execute_result"
    }
   ],
   "source": [
    "pd.DataFrame(X_train_standardized).head()"
   ]
  },
  {
   "cell_type": "code",
   "execution_count": 67,
   "id": "15ffe86d",
   "metadata": {},
   "outputs": [
    {
     "data": {
      "text/html": [
       "<div>\n",
       "<style scoped>\n",
       "    .dataframe tbody tr th:only-of-type {\n",
       "        vertical-align: middle;\n",
       "    }\n",
       "\n",
       "    .dataframe tbody tr th {\n",
       "        vertical-align: top;\n",
       "    }\n",
       "\n",
       "    .dataframe thead th {\n",
       "        text-align: right;\n",
       "    }\n",
       "</style>\n",
       "<table border=\"1\" class=\"dataframe\">\n",
       "  <thead>\n",
       "    <tr style=\"text-align: right;\">\n",
       "      <th></th>\n",
       "      <th>0</th>\n",
       "      <th>1</th>\n",
       "      <th>2</th>\n",
       "      <th>3</th>\n",
       "      <th>4</th>\n",
       "      <th>5</th>\n",
       "      <th>6</th>\n",
       "    </tr>\n",
       "  </thead>\n",
       "  <tbody>\n",
       "    <tr>\n",
       "      <th>0</th>\n",
       "      <td>0.643893</td>\n",
       "      <td>0.486142</td>\n",
       "      <td>0.929868</td>\n",
       "      <td>-0.421863</td>\n",
       "      <td>-0.407330</td>\n",
       "      <td>0.934574</td>\n",
       "      <td>1.953626</td>\n",
       "    </tr>\n",
       "    <tr>\n",
       "      <th>1</th>\n",
       "      <td>1.230057</td>\n",
       "      <td>1.878234</td>\n",
       "      <td>-0.714026</td>\n",
       "      <td>0.673899</td>\n",
       "      <td>0.009900</td>\n",
       "      <td>0.411036</td>\n",
       "      <td>-0.538337</td>\n",
       "    </tr>\n",
       "    <tr>\n",
       "      <th>2</th>\n",
       "      <td>-0.616361</td>\n",
       "      <td>1.579929</td>\n",
       "      <td>0.965605</td>\n",
       "      <td>-0.421863</td>\n",
       "      <td>2.513278</td>\n",
       "      <td>-0.476040</td>\n",
       "      <td>-1.248397</td>\n",
       "    </tr>\n",
       "    <tr>\n",
       "      <th>3</th>\n",
       "      <td>0.585276</td>\n",
       "      <td>0.187837</td>\n",
       "      <td>0.429553</td>\n",
       "      <td>-0.421863</td>\n",
       "      <td>-0.824559</td>\n",
       "      <td>-0.538261</td>\n",
       "      <td>-0.488565</td>\n",
       "    </tr>\n",
       "    <tr>\n",
       "      <th>4</th>\n",
       "      <td>0.233577</td>\n",
       "      <td>0.287272</td>\n",
       "      <td>-0.320921</td>\n",
       "      <td>-0.421863</td>\n",
       "      <td>-0.407330</td>\n",
       "      <td>0.536085</td>\n",
       "      <td>-0.855864</td>\n",
       "    </tr>\n",
       "  </tbody>\n",
       "</table>\n",
       "</div>"
      ],
      "text/plain": [
       "          0         1         2         3         4         5         6\n",
       "0  0.643893  0.486142  0.929868 -0.421863 -0.407330  0.934574  1.953626\n",
       "1  1.230057  1.878234 -0.714026  0.673899  0.009900  0.411036 -0.538337\n",
       "2 -0.616361  1.579929  0.965605 -0.421863  2.513278 -0.476040 -1.248397\n",
       "3  0.585276  0.187837  0.429553 -0.421863 -0.824559 -0.538261 -0.488565\n",
       "4  0.233577  0.287272 -0.320921 -0.421863 -0.407330  0.536085 -0.855864"
      ]
     },
     "execution_count": 67,
     "metadata": {},
     "output_type": "execute_result"
    }
   ],
   "source": [
    "pd.DataFrame(X_test_standardized).head()"
   ]
  },
  {
   "cell_type": "markdown",
   "id": "44928db8",
   "metadata": {},
   "source": [
    "#### 4. Encode the categorical variables (See the hint below for encoding categorical data!!!)"
   ]
  },
  {
   "cell_type": "code",
   "execution_count": 68,
   "id": "cdfe4e05",
   "metadata": {},
   "outputs": [
    {
     "data": {
      "text/plain": [
       "(7291, 14)"
      ]
     },
     "metadata": {},
     "output_type": "display_data"
    },
    {
     "data": {
      "text/plain": [
       "(1823, 14)"
      ]
     },
     "metadata": {},
     "output_type": "display_data"
    },
    {
     "data": {
      "text/html": [
       "<div>\n",
       "<style scoped>\n",
       "    .dataframe tbody tr th:only-of-type {\n",
       "        vertical-align: middle;\n",
       "    }\n",
       "\n",
       "    .dataframe tbody tr th {\n",
       "        vertical-align: top;\n",
       "    }\n",
       "\n",
       "    .dataframe thead th {\n",
       "        text-align: right;\n",
       "    }\n",
       "</style>\n",
       "<table border=\"1\" class=\"dataframe\">\n",
       "  <thead>\n",
       "    <tr style=\"text-align: right;\">\n",
       "      <th></th>\n",
       "      <th>state</th>\n",
       "      <th>response</th>\n",
       "      <th>coverage</th>\n",
       "      <th>education</th>\n",
       "      <th>employment_status</th>\n",
       "      <th>gender</th>\n",
       "      <th>location_code</th>\n",
       "      <th>marital_status</th>\n",
       "      <th>policy_type</th>\n",
       "      <th>policy</th>\n",
       "      <th>renew_offer_type</th>\n",
       "      <th>sales_channel</th>\n",
       "      <th>vehicle_class</th>\n",
       "      <th>vehicle_size</th>\n",
       "    </tr>\n",
       "  </thead>\n",
       "  <tbody>\n",
       "    <tr>\n",
       "      <th>9003</th>\n",
       "      <td>California</td>\n",
       "      <td>No</td>\n",
       "      <td>Basic</td>\n",
       "      <td>Academic</td>\n",
       "      <td>Employed</td>\n",
       "      <td>F</td>\n",
       "      <td>Urban</td>\n",
       "      <td>Married</td>\n",
       "      <td>Personal Auto</td>\n",
       "      <td>L1</td>\n",
       "      <td>Offer1</td>\n",
       "      <td>Branch</td>\n",
       "      <td>Luxury</td>\n",
       "      <td>Small</td>\n",
       "    </tr>\n",
       "    <tr>\n",
       "      <th>5931</th>\n",
       "      <td>California</td>\n",
       "      <td>No</td>\n",
       "      <td>Basic</td>\n",
       "      <td>College</td>\n",
       "      <td>Other</td>\n",
       "      <td>F</td>\n",
       "      <td>Suburban</td>\n",
       "      <td>Married</td>\n",
       "      <td>Corporate Auto</td>\n",
       "      <td>L3</td>\n",
       "      <td>Offer2</td>\n",
       "      <td>Branch</td>\n",
       "      <td>Four-Door Car</td>\n",
       "      <td>Small</td>\n",
       "    </tr>\n",
       "    <tr>\n",
       "      <th>8506</th>\n",
       "      <td>California</td>\n",
       "      <td>No</td>\n",
       "      <td>Extended</td>\n",
       "      <td>Bachelor</td>\n",
       "      <td>Unemployed</td>\n",
       "      <td>M</td>\n",
       "      <td>Suburban</td>\n",
       "      <td>Single</td>\n",
       "      <td>Personal Auto</td>\n",
       "      <td>L2</td>\n",
       "      <td>Offer1</td>\n",
       "      <td>Branch</td>\n",
       "      <td>Two-Door Car</td>\n",
       "      <td>Medsize</td>\n",
       "    </tr>\n",
       "    <tr>\n",
       "      <th>7690</th>\n",
       "      <td>Washington</td>\n",
       "      <td>No</td>\n",
       "      <td>Basic</td>\n",
       "      <td>College</td>\n",
       "      <td>Other</td>\n",
       "      <td>F</td>\n",
       "      <td>Urban</td>\n",
       "      <td>Single</td>\n",
       "      <td>Corporate Auto</td>\n",
       "      <td>L3</td>\n",
       "      <td>Offer1</td>\n",
       "      <td>Agent</td>\n",
       "      <td>Four-Door Car</td>\n",
       "      <td>Medsize</td>\n",
       "    </tr>\n",
       "    <tr>\n",
       "      <th>6491</th>\n",
       "      <td>Oregon</td>\n",
       "      <td>No</td>\n",
       "      <td>Basic</td>\n",
       "      <td>College</td>\n",
       "      <td>Employed</td>\n",
       "      <td>M</td>\n",
       "      <td>Suburban</td>\n",
       "      <td>Married</td>\n",
       "      <td>Special Auto</td>\n",
       "      <td>L3</td>\n",
       "      <td>Offer2</td>\n",
       "      <td>Web</td>\n",
       "      <td>Four-Door Car</td>\n",
       "      <td>Medsize</td>\n",
       "    </tr>\n",
       "  </tbody>\n",
       "</table>\n",
       "</div>"
      ],
      "text/plain": [
       "           state response  coverage education employment_status gender  \\\n",
       "9003  California       No     Basic  Academic          Employed      F   \n",
       "5931  California       No     Basic   College             Other      F   \n",
       "8506  California       No  Extended  Bachelor        Unemployed      M   \n",
       "7690  Washington       No     Basic   College             Other      F   \n",
       "6491      Oregon       No     Basic   College          Employed      M   \n",
       "\n",
       "     location_code marital_status     policy_type policy renew_offer_type  \\\n",
       "9003         Urban        Married   Personal Auto     L1           Offer1   \n",
       "5931      Suburban        Married  Corporate Auto     L3           Offer2   \n",
       "8506      Suburban         Single   Personal Auto     L2           Offer1   \n",
       "7690         Urban         Single  Corporate Auto     L3           Offer1   \n",
       "6491      Suburban        Married    Special Auto     L3           Offer2   \n",
       "\n",
       "     sales_channel  vehicle_class vehicle_size  \n",
       "9003        Branch         Luxury        Small  \n",
       "5931        Branch  Four-Door Car        Small  \n",
       "8506        Branch   Two-Door Car      Medsize  \n",
       "7690         Agent  Four-Door Car      Medsize  \n",
       "6491           Web  Four-Door Car      Medsize  "
      ]
     },
     "execution_count": 68,
     "metadata": {},
     "output_type": "execute_result"
    }
   ],
   "source": [
    "X_train_cat = X_train.select_dtypes(object)\n",
    "X_test_cat = X_test.select_dtypes(object)\n",
    "display(X_train_cat.shape)\n",
    "display(X_test_cat.shape)\n",
    "X_train_cat.head()"
   ]
  },
  {
   "cell_type": "markdown",
   "id": "b830b293",
   "metadata": {},
   "source": [
    "#### One hot encoding & Ordinal Encoding"
   ]
  },
  {
   "cell_type": "code",
   "execution_count": 69,
   "id": "92bc42c6",
   "metadata": {},
   "outputs": [
    {
     "data": {
      "text/html": [
       "<div>\n",
       "<style scoped>\n",
       "    .dataframe tbody tr th:only-of-type {\n",
       "        vertical-align: middle;\n",
       "    }\n",
       "\n",
       "    .dataframe tbody tr th {\n",
       "        vertical-align: top;\n",
       "    }\n",
       "\n",
       "    .dataframe thead th {\n",
       "        text-align: right;\n",
       "    }\n",
       "</style>\n",
       "<table border=\"1\" class=\"dataframe\">\n",
       "  <thead>\n",
       "    <tr style=\"text-align: right;\">\n",
       "      <th></th>\n",
       "      <th>state</th>\n",
       "      <th>response</th>\n",
       "      <th>education</th>\n",
       "      <th>gender</th>\n",
       "      <th>marital_status</th>\n",
       "      <th>policy_type</th>\n",
       "      <th>policy</th>\n",
       "      <th>renew_offer_type</th>\n",
       "      <th>sales_channel</th>\n",
       "      <th>vehicle_class</th>\n",
       "    </tr>\n",
       "  </thead>\n",
       "  <tbody>\n",
       "    <tr>\n",
       "      <th>9003</th>\n",
       "      <td>California</td>\n",
       "      <td>No</td>\n",
       "      <td>Academic</td>\n",
       "      <td>F</td>\n",
       "      <td>Married</td>\n",
       "      <td>Personal Auto</td>\n",
       "      <td>L1</td>\n",
       "      <td>Offer1</td>\n",
       "      <td>Branch</td>\n",
       "      <td>Luxury</td>\n",
       "    </tr>\n",
       "    <tr>\n",
       "      <th>5931</th>\n",
       "      <td>California</td>\n",
       "      <td>No</td>\n",
       "      <td>College</td>\n",
       "      <td>F</td>\n",
       "      <td>Married</td>\n",
       "      <td>Corporate Auto</td>\n",
       "      <td>L3</td>\n",
       "      <td>Offer2</td>\n",
       "      <td>Branch</td>\n",
       "      <td>Four-Door Car</td>\n",
       "    </tr>\n",
       "    <tr>\n",
       "      <th>8506</th>\n",
       "      <td>California</td>\n",
       "      <td>No</td>\n",
       "      <td>Bachelor</td>\n",
       "      <td>M</td>\n",
       "      <td>Single</td>\n",
       "      <td>Personal Auto</td>\n",
       "      <td>L2</td>\n",
       "      <td>Offer1</td>\n",
       "      <td>Branch</td>\n",
       "      <td>Two-Door Car</td>\n",
       "    </tr>\n",
       "    <tr>\n",
       "      <th>7690</th>\n",
       "      <td>Washington</td>\n",
       "      <td>No</td>\n",
       "      <td>College</td>\n",
       "      <td>F</td>\n",
       "      <td>Single</td>\n",
       "      <td>Corporate Auto</td>\n",
       "      <td>L3</td>\n",
       "      <td>Offer1</td>\n",
       "      <td>Agent</td>\n",
       "      <td>Four-Door Car</td>\n",
       "    </tr>\n",
       "    <tr>\n",
       "      <th>6491</th>\n",
       "      <td>Oregon</td>\n",
       "      <td>No</td>\n",
       "      <td>College</td>\n",
       "      <td>M</td>\n",
       "      <td>Married</td>\n",
       "      <td>Special Auto</td>\n",
       "      <td>L3</td>\n",
       "      <td>Offer2</td>\n",
       "      <td>Web</td>\n",
       "      <td>Four-Door Car</td>\n",
       "    </tr>\n",
       "  </tbody>\n",
       "</table>\n",
       "</div>"
      ],
      "text/plain": [
       "           state response education gender marital_status     policy_type  \\\n",
       "9003  California       No  Academic      F        Married   Personal Auto   \n",
       "5931  California       No   College      F        Married  Corporate Auto   \n",
       "8506  California       No  Bachelor      M         Single   Personal Auto   \n",
       "7690  Washington       No   College      F         Single  Corporate Auto   \n",
       "6491      Oregon       No   College      M        Married    Special Auto   \n",
       "\n",
       "     policy renew_offer_type sales_channel  vehicle_class  \n",
       "9003     L1           Offer1        Branch         Luxury  \n",
       "5931     L3           Offer2        Branch  Four-Door Car  \n",
       "8506     L2           Offer1        Branch   Two-Door Car  \n",
       "7690     L3           Offer1         Agent  Four-Door Car  \n",
       "6491     L3           Offer2           Web  Four-Door Car  "
      ]
     },
     "metadata": {},
     "output_type": "display_data"
    },
    {
     "data": {
      "text/plain": [
       "(7291, 10)"
      ]
     },
     "metadata": {},
     "output_type": "display_data"
    },
    {
     "data": {
      "text/html": [
       "<div>\n",
       "<style scoped>\n",
       "    .dataframe tbody tr th:only-of-type {\n",
       "        vertical-align: middle;\n",
       "    }\n",
       "\n",
       "    .dataframe tbody tr th {\n",
       "        vertical-align: top;\n",
       "    }\n",
       "\n",
       "    .dataframe thead th {\n",
       "        text-align: right;\n",
       "    }\n",
       "</style>\n",
       "<table border=\"1\" class=\"dataframe\">\n",
       "  <thead>\n",
       "    <tr style=\"text-align: right;\">\n",
       "      <th></th>\n",
       "      <th>coverage</th>\n",
       "      <th>employment_status</th>\n",
       "      <th>location_code</th>\n",
       "      <th>vehicle_size</th>\n",
       "    </tr>\n",
       "  </thead>\n",
       "  <tbody>\n",
       "    <tr>\n",
       "      <th>9003</th>\n",
       "      <td>Basic</td>\n",
       "      <td>Employed</td>\n",
       "      <td>Urban</td>\n",
       "      <td>Small</td>\n",
       "    </tr>\n",
       "    <tr>\n",
       "      <th>5931</th>\n",
       "      <td>Basic</td>\n",
       "      <td>Other</td>\n",
       "      <td>Suburban</td>\n",
       "      <td>Small</td>\n",
       "    </tr>\n",
       "    <tr>\n",
       "      <th>8506</th>\n",
       "      <td>Extended</td>\n",
       "      <td>Unemployed</td>\n",
       "      <td>Suburban</td>\n",
       "      <td>Medsize</td>\n",
       "    </tr>\n",
       "    <tr>\n",
       "      <th>7690</th>\n",
       "      <td>Basic</td>\n",
       "      <td>Other</td>\n",
       "      <td>Urban</td>\n",
       "      <td>Medsize</td>\n",
       "    </tr>\n",
       "    <tr>\n",
       "      <th>6491</th>\n",
       "      <td>Basic</td>\n",
       "      <td>Employed</td>\n",
       "      <td>Suburban</td>\n",
       "      <td>Medsize</td>\n",
       "    </tr>\n",
       "  </tbody>\n",
       "</table>\n",
       "</div>"
      ],
      "text/plain": [
       "      coverage employment_status location_code vehicle_size\n",
       "9003     Basic          Employed         Urban        Small\n",
       "5931     Basic             Other      Suburban        Small\n",
       "8506  Extended        Unemployed      Suburban      Medsize\n",
       "7690     Basic             Other         Urban      Medsize\n",
       "6491     Basic          Employed      Suburban      Medsize"
      ]
     },
     "metadata": {},
     "output_type": "display_data"
    },
    {
     "data": {
      "text/plain": [
       "(7291, 4)"
      ]
     },
     "metadata": {},
     "output_type": "display_data"
    }
   ],
   "source": [
    "X_train_onehotencode = X_train_cat[['state', 'response', 'education', 'gender', 'marital_status', 'policy_type', 'policy', 'renew_offer_type', 'sales_channel', 'vehicle_class']]\n",
    "X_train_ordinal = X_train_cat[['coverage', 'employment_status', 'location_code', 'vehicle_size']]\n",
    "display(X_train_onehotencode.head())\n",
    "display(X_train_onehotencode.shape)\n",
    "display(X_train_ordinal.head())\n",
    "display(X_train_ordinal.shape)"
   ]
  },
  {
   "cell_type": "code",
   "execution_count": 70,
   "id": "d025f9fc",
   "metadata": {},
   "outputs": [
    {
     "data": {
      "text/html": [
       "<div>\n",
       "<style scoped>\n",
       "    .dataframe tbody tr th:only-of-type {\n",
       "        vertical-align: middle;\n",
       "    }\n",
       "\n",
       "    .dataframe tbody tr th {\n",
       "        vertical-align: top;\n",
       "    }\n",
       "\n",
       "    .dataframe thead th {\n",
       "        text-align: right;\n",
       "    }\n",
       "</style>\n",
       "<table border=\"1\" class=\"dataframe\">\n",
       "  <thead>\n",
       "    <tr style=\"text-align: right;\">\n",
       "      <th></th>\n",
       "      <th>state</th>\n",
       "      <th>response</th>\n",
       "      <th>education</th>\n",
       "      <th>gender</th>\n",
       "      <th>marital_status</th>\n",
       "      <th>policy_type</th>\n",
       "      <th>policy</th>\n",
       "      <th>renew_offer_type</th>\n",
       "      <th>sales_channel</th>\n",
       "      <th>vehicle_class</th>\n",
       "    </tr>\n",
       "  </thead>\n",
       "  <tbody>\n",
       "    <tr>\n",
       "      <th>5489</th>\n",
       "      <td>Nevada</td>\n",
       "      <td>No</td>\n",
       "      <td>Bachelor</td>\n",
       "      <td>F</td>\n",
       "      <td>Married</td>\n",
       "      <td>Personal Auto</td>\n",
       "      <td>L2</td>\n",
       "      <td>Offer4</td>\n",
       "      <td>Agent</td>\n",
       "      <td>Luxury</td>\n",
       "    </tr>\n",
       "    <tr>\n",
       "      <th>2043</th>\n",
       "      <td>Washington</td>\n",
       "      <td>No</td>\n",
       "      <td>High School or Below</td>\n",
       "      <td>M</td>\n",
       "      <td>Married</td>\n",
       "      <td>Corporate Auto</td>\n",
       "      <td>L3</td>\n",
       "      <td>Offer2</td>\n",
       "      <td>Branch</td>\n",
       "      <td>SUV</td>\n",
       "    </tr>\n",
       "    <tr>\n",
       "      <th>4254</th>\n",
       "      <td>Nevada</td>\n",
       "      <td>No</td>\n",
       "      <td>High School or Below</td>\n",
       "      <td>M</td>\n",
       "      <td>Single</td>\n",
       "      <td>Personal Auto</td>\n",
       "      <td>L2</td>\n",
       "      <td>Offer4</td>\n",
       "      <td>Agent</td>\n",
       "      <td>Four-Door Car</td>\n",
       "    </tr>\n",
       "    <tr>\n",
       "      <th>6088</th>\n",
       "      <td>California</td>\n",
       "      <td>No</td>\n",
       "      <td>College</td>\n",
       "      <td>M</td>\n",
       "      <td>Married</td>\n",
       "      <td>Personal Auto</td>\n",
       "      <td>L3</td>\n",
       "      <td>Offer1</td>\n",
       "      <td>Branch</td>\n",
       "      <td>SUV</td>\n",
       "    </tr>\n",
       "    <tr>\n",
       "      <th>5084</th>\n",
       "      <td>California</td>\n",
       "      <td>Yes</td>\n",
       "      <td>Bachelor</td>\n",
       "      <td>F</td>\n",
       "      <td>Single</td>\n",
       "      <td>Corporate Auto</td>\n",
       "      <td>L2</td>\n",
       "      <td>Offer1</td>\n",
       "      <td>Agent</td>\n",
       "      <td>Four-Door Car</td>\n",
       "    </tr>\n",
       "  </tbody>\n",
       "</table>\n",
       "</div>"
      ],
      "text/plain": [
       "           state response             education gender marital_status  \\\n",
       "5489      Nevada       No              Bachelor      F        Married   \n",
       "2043  Washington       No  High School or Below      M        Married   \n",
       "4254      Nevada       No  High School or Below      M         Single   \n",
       "6088  California       No               College      M        Married   \n",
       "5084  California      Yes              Bachelor      F         Single   \n",
       "\n",
       "         policy_type policy renew_offer_type sales_channel  vehicle_class  \n",
       "5489   Personal Auto     L2           Offer4         Agent         Luxury  \n",
       "2043  Corporate Auto     L3           Offer2        Branch            SUV  \n",
       "4254   Personal Auto     L2           Offer4         Agent  Four-Door Car  \n",
       "6088   Personal Auto     L3           Offer1        Branch            SUV  \n",
       "5084  Corporate Auto     L2           Offer1         Agent  Four-Door Car  "
      ]
     },
     "metadata": {},
     "output_type": "display_data"
    },
    {
     "data": {
      "text/plain": [
       "(1823, 10)"
      ]
     },
     "metadata": {},
     "output_type": "display_data"
    },
    {
     "data": {
      "text/html": [
       "<div>\n",
       "<style scoped>\n",
       "    .dataframe tbody tr th:only-of-type {\n",
       "        vertical-align: middle;\n",
       "    }\n",
       "\n",
       "    .dataframe tbody tr th {\n",
       "        vertical-align: top;\n",
       "    }\n",
       "\n",
       "    .dataframe thead th {\n",
       "        text-align: right;\n",
       "    }\n",
       "</style>\n",
       "<table border=\"1\" class=\"dataframe\">\n",
       "  <thead>\n",
       "    <tr style=\"text-align: right;\">\n",
       "      <th></th>\n",
       "      <th>coverage</th>\n",
       "      <th>employment_status</th>\n",
       "      <th>location_code</th>\n",
       "      <th>vehicle_size</th>\n",
       "    </tr>\n",
       "  </thead>\n",
       "  <tbody>\n",
       "    <tr>\n",
       "      <th>5489</th>\n",
       "      <td>Basic</td>\n",
       "      <td>Employed</td>\n",
       "      <td>Suburban</td>\n",
       "      <td>Large</td>\n",
       "    </tr>\n",
       "    <tr>\n",
       "      <th>2043</th>\n",
       "      <td>Extended</td>\n",
       "      <td>Employed</td>\n",
       "      <td>Suburban</td>\n",
       "      <td>Medsize</td>\n",
       "    </tr>\n",
       "    <tr>\n",
       "      <th>4254</th>\n",
       "      <td>Basic</td>\n",
       "      <td>Unemployed</td>\n",
       "      <td>Suburban</td>\n",
       "      <td>Medsize</td>\n",
       "    </tr>\n",
       "    <tr>\n",
       "      <th>6088</th>\n",
       "      <td>Basic</td>\n",
       "      <td>Employed</td>\n",
       "      <td>Suburban</td>\n",
       "      <td>Medsize</td>\n",
       "    </tr>\n",
       "    <tr>\n",
       "      <th>5084</th>\n",
       "      <td>Premium</td>\n",
       "      <td>Other</td>\n",
       "      <td>Suburban</td>\n",
       "      <td>Medsize</td>\n",
       "    </tr>\n",
       "  </tbody>\n",
       "</table>\n",
       "</div>"
      ],
      "text/plain": [
       "      coverage employment_status location_code vehicle_size\n",
       "5489     Basic          Employed      Suburban        Large\n",
       "2043  Extended          Employed      Suburban      Medsize\n",
       "4254     Basic        Unemployed      Suburban      Medsize\n",
       "6088     Basic          Employed      Suburban      Medsize\n",
       "5084   Premium             Other      Suburban      Medsize"
      ]
     },
     "metadata": {},
     "output_type": "display_data"
    },
    {
     "data": {
      "text/plain": [
       "(1823, 4)"
      ]
     },
     "metadata": {},
     "output_type": "display_data"
    }
   ],
   "source": [
    "X_test_onehotencode = X_test_cat[['state', 'response', 'education', 'gender', 'marital_status', 'policy_type', 'policy', 'renew_offer_type', 'sales_channel', 'vehicle_class']]\n",
    "X_test_ordinal = X_test_cat[['coverage', 'employment_status', 'location_code', 'vehicle_size']]\n",
    "display(X_test_onehotencode.head())\n",
    "display(X_test_onehotencode.shape)\n",
    "display(X_test_ordinal.head())\n",
    "display(X_test_ordinal.shape)"
   ]
  },
  {
   "cell_type": "code",
   "execution_count": 71,
   "id": "09bb635a",
   "metadata": {},
   "outputs": [],
   "source": [
    "from sklearn.preprocessing import OneHotEncoder\n",
    "\n",
    "encoder = OneHotEncoder(handle_unknown='error', drop='first').fit(X_train_onehotencode)\n",
    "X_train_encoded = encoder.transform(X_train_onehotencode).toarray()\n",
    "X_test_encoded = encoder.transform(X_test_onehotencode).toarray()"
   ]
  },
  {
   "cell_type": "code",
   "execution_count": 72,
   "id": "33436a92",
   "metadata": {},
   "outputs": [
    {
     "name": "stdout",
     "output_type": "stream",
     "text": [
      "Basic       4456\n",
      "Extended    2176\n",
      "Premium      659\n",
      "Name: coverage, dtype: int64\n",
      "Employed      4574\n",
      "Unemployed    1823\n",
      "Other          894\n",
      "Name: employment_status, dtype: int64\n",
      "Suburban    4629\n",
      "Rural       1416\n",
      "Urban       1246\n",
      "Name: location_code, dtype: int64\n",
      "Medsize    5124\n",
      "Small      1412\n",
      "Large       755\n",
      "Name: vehicle_size, dtype: int64\n"
     ]
    }
   ],
   "source": [
    "for col in X_train_ordinal:\n",
    "    print(X_train_ordinal[col].value_counts())"
   ]
  },
  {
   "cell_type": "code",
   "execution_count": 73,
   "id": "4b0414da",
   "metadata": {},
   "outputs": [
    {
     "name": "stderr",
     "output_type": "stream",
     "text": [
      "C:\\Users\\aslis\\AppData\\Local\\Temp\\ipykernel_6020\\4240782633.py:3: SettingWithCopyWarning: \n",
      "A value is trying to be set on a copy of a slice from a DataFrame.\n",
      "Try using .loc[row_indexer,col_indexer] = value instead\n",
      "\n",
      "See the caveats in the documentation: https://pandas.pydata.org/pandas-docs/stable/user_guide/indexing.html#returning-a-view-versus-a-copy\n",
      "  X_train_ordinal[\"coverage\"] = X_train_ordinal[\"coverage\"].replace(coverage_mapper)\n",
      "C:\\Users\\aslis\\AppData\\Local\\Temp\\ipykernel_6020\\4240782633.py:4: SettingWithCopyWarning: \n",
      "A value is trying to be set on a copy of a slice from a DataFrame.\n",
      "Try using .loc[row_indexer,col_indexer] = value instead\n",
      "\n",
      "See the caveats in the documentation: https://pandas.pydata.org/pandas-docs/stable/user_guide/indexing.html#returning-a-view-versus-a-copy\n",
      "  X_test_ordinal[\"coverage\"] = X_test_ordinal[\"coverage\"].replace(coverage_mapper)\n"
     ]
    }
   ],
   "source": [
    "# coverage mapper\n",
    "coverage_mapper = {\"Basic\":0, \"Extended\":1, \"Premium\":2}\n",
    "X_train_ordinal[\"coverage\"] = X_train_ordinal[\"coverage\"].replace(coverage_mapper)\n",
    "X_test_ordinal[\"coverage\"] = X_test_ordinal[\"coverage\"].replace(coverage_mapper)"
   ]
  },
  {
   "cell_type": "code",
   "execution_count": 74,
   "id": "fcad1bd7",
   "metadata": {},
   "outputs": [
    {
     "name": "stderr",
     "output_type": "stream",
     "text": [
      "C:\\Users\\aslis\\AppData\\Local\\Temp\\ipykernel_6020\\328501609.py:3: SettingWithCopyWarning: \n",
      "A value is trying to be set on a copy of a slice from a DataFrame.\n",
      "Try using .loc[row_indexer,col_indexer] = value instead\n",
      "\n",
      "See the caveats in the documentation: https://pandas.pydata.org/pandas-docs/stable/user_guide/indexing.html#returning-a-view-versus-a-copy\n",
      "  X_train_ordinal[\"employment_status\"] = X_train_ordinal[\"employment_status\"].replace(employment_status_mapper)\n",
      "C:\\Users\\aslis\\AppData\\Local\\Temp\\ipykernel_6020\\328501609.py:4: SettingWithCopyWarning: \n",
      "A value is trying to be set on a copy of a slice from a DataFrame.\n",
      "Try using .loc[row_indexer,col_indexer] = value instead\n",
      "\n",
      "See the caveats in the documentation: https://pandas.pydata.org/pandas-docs/stable/user_guide/indexing.html#returning-a-view-versus-a-copy\n",
      "  X_test_ordinal[\"employment_status\"] = X_test_ordinal[\"employment_status\"].replace(employment_status_mapper)\n"
     ]
    }
   ],
   "source": [
    "# employment_status mapper\n",
    "employment_status_mapper = {\"Other\":0, \"Unemployed\":1, \"Employed\":2}\n",
    "X_train_ordinal[\"employment_status\"] = X_train_ordinal[\"employment_status\"].replace(employment_status_mapper)\n",
    "X_test_ordinal[\"employment_status\"] = X_test_ordinal[\"employment_status\"].replace(employment_status_mapper)"
   ]
  },
  {
   "cell_type": "code",
   "execution_count": 75,
   "id": "397e7fcc",
   "metadata": {},
   "outputs": [
    {
     "name": "stderr",
     "output_type": "stream",
     "text": [
      "C:\\Users\\aslis\\AppData\\Local\\Temp\\ipykernel_6020\\1658995384.py:3: SettingWithCopyWarning: \n",
      "A value is trying to be set on a copy of a slice from a DataFrame.\n",
      "Try using .loc[row_indexer,col_indexer] = value instead\n",
      "\n",
      "See the caveats in the documentation: https://pandas.pydata.org/pandas-docs/stable/user_guide/indexing.html#returning-a-view-versus-a-copy\n",
      "  X_train_ordinal[\"location_code\"] = X_train_ordinal[\"location_code\"].replace(location_code_mapper)\n",
      "C:\\Users\\aslis\\AppData\\Local\\Temp\\ipykernel_6020\\1658995384.py:4: SettingWithCopyWarning: \n",
      "A value is trying to be set on a copy of a slice from a DataFrame.\n",
      "Try using .loc[row_indexer,col_indexer] = value instead\n",
      "\n",
      "See the caveats in the documentation: https://pandas.pydata.org/pandas-docs/stable/user_guide/indexing.html#returning-a-view-versus-a-copy\n",
      "  X_test_ordinal[\"location_code\"] = X_test_ordinal[\"location_code\"].replace(location_code_mapper)\n"
     ]
    }
   ],
   "source": [
    "# location_code mapper\n",
    "location_code_mapper = {\"Rural\":0, \"Suburban\":1, \"Urban\":2}\n",
    "X_train_ordinal[\"location_code\"] = X_train_ordinal[\"location_code\"].replace(location_code_mapper)\n",
    "X_test_ordinal[\"location_code\"] = X_test_ordinal[\"location_code\"].replace(location_code_mapper)"
   ]
  },
  {
   "cell_type": "code",
   "execution_count": 76,
   "id": "55de97f1",
   "metadata": {},
   "outputs": [
    {
     "name": "stderr",
     "output_type": "stream",
     "text": [
      "C:\\Users\\aslis\\AppData\\Local\\Temp\\ipykernel_6020\\1829654696.py:3: SettingWithCopyWarning: \n",
      "A value is trying to be set on a copy of a slice from a DataFrame.\n",
      "Try using .loc[row_indexer,col_indexer] = value instead\n",
      "\n",
      "See the caveats in the documentation: https://pandas.pydata.org/pandas-docs/stable/user_guide/indexing.html#returning-a-view-versus-a-copy\n",
      "  X_train_ordinal[\"vehicle_size\"] = X_train_ordinal[\"vehicle_size\"].replace(vehicle_size_mapper)\n",
      "C:\\Users\\aslis\\AppData\\Local\\Temp\\ipykernel_6020\\1829654696.py:4: SettingWithCopyWarning: \n",
      "A value is trying to be set on a copy of a slice from a DataFrame.\n",
      "Try using .loc[row_indexer,col_indexer] = value instead\n",
      "\n",
      "See the caveats in the documentation: https://pandas.pydata.org/pandas-docs/stable/user_guide/indexing.html#returning-a-view-versus-a-copy\n",
      "  X_test_ordinal[\"vehicle_size\"] = X_test_ordinal[\"vehicle_size\"].replace(vehicle_size_mapper)\n"
     ]
    }
   ],
   "source": [
    "# vehicle_size mapper\n",
    "vehicle_size_mapper = {\"Small\":0, \"Medsize\":1, \"Large\":2}\n",
    "X_train_ordinal[\"vehicle_size\"] = X_train_ordinal[\"vehicle_size\"].replace(vehicle_size_mapper)\n",
    "X_test_ordinal[\"vehicle_size\"] = X_test_ordinal[\"vehicle_size\"].replace(vehicle_size_mapper)"
   ]
  },
  {
   "cell_type": "markdown",
   "id": "ad88cdf5",
   "metadata": {},
   "source": [
    "#### 5. The time variable can be useful. Try to transform its data into a useful one. Hint: Day week and month as integers might be useful."
   ]
  },
  {
   "cell_type": "code",
   "execution_count": 77,
   "id": "9a75434a",
   "metadata": {},
   "outputs": [
    {
     "data": {
      "text/html": [
       "<div>\n",
       "<style scoped>\n",
       "    .dataframe tbody tr th:only-of-type {\n",
       "        vertical-align: middle;\n",
       "    }\n",
       "\n",
       "    .dataframe tbody tr th {\n",
       "        vertical-align: top;\n",
       "    }\n",
       "\n",
       "    .dataframe thead th {\n",
       "        text-align: right;\n",
       "    }\n",
       "</style>\n",
       "<table border=\"1\" class=\"dataframe\">\n",
       "  <thead>\n",
       "    <tr style=\"text-align: right;\">\n",
       "      <th></th>\n",
       "      <th>state</th>\n",
       "      <th>response</th>\n",
       "      <th>coverage</th>\n",
       "      <th>education</th>\n",
       "      <th>employment_status</th>\n",
       "      <th>gender</th>\n",
       "      <th>location_code</th>\n",
       "      <th>marital_status</th>\n",
       "      <th>policy_type</th>\n",
       "      <th>policy</th>\n",
       "      <th>...</th>\n",
       "      <th>vehicle_class</th>\n",
       "      <th>vehicle_size</th>\n",
       "      <th>monthly_premium_auto</th>\n",
       "      <th>months_since_last_claim</th>\n",
       "      <th>months_since_policy_inception</th>\n",
       "      <th>number_of_open_complaints</th>\n",
       "      <th>number_of_policies</th>\n",
       "      <th>customer_lifetime_value</th>\n",
       "      <th>income</th>\n",
       "      <th>effective_to_date</th>\n",
       "    </tr>\n",
       "  </thead>\n",
       "  <tbody>\n",
       "    <tr>\n",
       "      <th>9003</th>\n",
       "      <td>California</td>\n",
       "      <td>No</td>\n",
       "      <td>Basic</td>\n",
       "      <td>Academic</td>\n",
       "      <td>Employed</td>\n",
       "      <td>F</td>\n",
       "      <td>Urban</td>\n",
       "      <td>Married</td>\n",
       "      <td>Personal Auto</td>\n",
       "      <td>L1</td>\n",
       "      <td>...</td>\n",
       "      <td>Luxury</td>\n",
       "      <td>Small</td>\n",
       "      <td>102.0</td>\n",
       "      <td>7.0</td>\n",
       "      <td>55.0</td>\n",
       "      <td>0.0</td>\n",
       "      <td>2.0</td>\n",
       "      <td>24826.891270</td>\n",
       "      <td>67572.0</td>\n",
       "      <td>2011-02-25</td>\n",
       "    </tr>\n",
       "    <tr>\n",
       "      <th>5931</th>\n",
       "      <td>California</td>\n",
       "      <td>No</td>\n",
       "      <td>Basic</td>\n",
       "      <td>College</td>\n",
       "      <td>Other</td>\n",
       "      <td>F</td>\n",
       "      <td>Suburban</td>\n",
       "      <td>Married</td>\n",
       "      <td>Corporate Auto</td>\n",
       "      <td>L3</td>\n",
       "      <td>...</td>\n",
       "      <td>Four-Door Car</td>\n",
       "      <td>Small</td>\n",
       "      <td>66.0</td>\n",
       "      <td>31.0</td>\n",
       "      <td>0.0</td>\n",
       "      <td>0.0</td>\n",
       "      <td>1.0</td>\n",
       "      <td>2511.697993</td>\n",
       "      <td>14906.0</td>\n",
       "      <td>2011-02-03</td>\n",
       "    </tr>\n",
       "    <tr>\n",
       "      <th>8506</th>\n",
       "      <td>California</td>\n",
       "      <td>No</td>\n",
       "      <td>Extended</td>\n",
       "      <td>Bachelor</td>\n",
       "      <td>Unemployed</td>\n",
       "      <td>M</td>\n",
       "      <td>Suburban</td>\n",
       "      <td>Single</td>\n",
       "      <td>Personal Auto</td>\n",
       "      <td>L2</td>\n",
       "      <td>...</td>\n",
       "      <td>Two-Door Car</td>\n",
       "      <td>Medsize</td>\n",
       "      <td>95.0</td>\n",
       "      <td>11.0</td>\n",
       "      <td>23.0</td>\n",
       "      <td>0.0</td>\n",
       "      <td>5.0</td>\n",
       "      <td>6290.699249</td>\n",
       "      <td>0.0</td>\n",
       "      <td>2011-01-21</td>\n",
       "    </tr>\n",
       "    <tr>\n",
       "      <th>7690</th>\n",
       "      <td>Washington</td>\n",
       "      <td>No</td>\n",
       "      <td>Basic</td>\n",
       "      <td>College</td>\n",
       "      <td>Other</td>\n",
       "      <td>F</td>\n",
       "      <td>Urban</td>\n",
       "      <td>Single</td>\n",
       "      <td>Corporate Auto</td>\n",
       "      <td>L3</td>\n",
       "      <td>...</td>\n",
       "      <td>Four-Door Car</td>\n",
       "      <td>Medsize</td>\n",
       "      <td>66.0</td>\n",
       "      <td>11.0</td>\n",
       "      <td>74.0</td>\n",
       "      <td>0.0</td>\n",
       "      <td>2.0</td>\n",
       "      <td>9688.129179</td>\n",
       "      <td>24584.0</td>\n",
       "      <td>2011-02-01</td>\n",
       "    </tr>\n",
       "    <tr>\n",
       "      <th>6491</th>\n",
       "      <td>Oregon</td>\n",
       "      <td>No</td>\n",
       "      <td>Basic</td>\n",
       "      <td>College</td>\n",
       "      <td>Employed</td>\n",
       "      <td>M</td>\n",
       "      <td>Suburban</td>\n",
       "      <td>Married</td>\n",
       "      <td>Special Auto</td>\n",
       "      <td>L3</td>\n",
       "      <td>...</td>\n",
       "      <td>Four-Door Car</td>\n",
       "      <td>Medsize</td>\n",
       "      <td>74.0</td>\n",
       "      <td>2.0</td>\n",
       "      <td>78.0</td>\n",
       "      <td>0.0</td>\n",
       "      <td>2.0</td>\n",
       "      <td>17569.159790</td>\n",
       "      <td>41463.0</td>\n",
       "      <td>2011-02-18</td>\n",
       "    </tr>\n",
       "  </tbody>\n",
       "</table>\n",
       "<p>5 rows × 22 columns</p>\n",
       "</div>"
      ],
      "text/plain": [
       "           state response  coverage education employment_status gender  \\\n",
       "9003  California       No     Basic  Academic          Employed      F   \n",
       "5931  California       No     Basic   College             Other      F   \n",
       "8506  California       No  Extended  Bachelor        Unemployed      M   \n",
       "7690  Washington       No     Basic   College             Other      F   \n",
       "6491      Oregon       No     Basic   College          Employed      M   \n",
       "\n",
       "     location_code marital_status     policy_type policy  ...  vehicle_class  \\\n",
       "9003         Urban        Married   Personal Auto     L1  ...         Luxury   \n",
       "5931      Suburban        Married  Corporate Auto     L3  ...  Four-Door Car   \n",
       "8506      Suburban         Single   Personal Auto     L2  ...   Two-Door Car   \n",
       "7690         Urban         Single  Corporate Auto     L3  ...  Four-Door Car   \n",
       "6491      Suburban        Married    Special Auto     L3  ...  Four-Door Car   \n",
       "\n",
       "     vehicle_size monthly_premium_auto months_since_last_claim  \\\n",
       "9003        Small                102.0                     7.0   \n",
       "5931        Small                 66.0                    31.0   \n",
       "8506      Medsize                 95.0                    11.0   \n",
       "7690      Medsize                 66.0                    11.0   \n",
       "6491      Medsize                 74.0                     2.0   \n",
       "\n",
       "      months_since_policy_inception  number_of_open_complaints  \\\n",
       "9003                           55.0                        0.0   \n",
       "5931                            0.0                        0.0   \n",
       "8506                           23.0                        0.0   \n",
       "7690                           74.0                        0.0   \n",
       "6491                           78.0                        0.0   \n",
       "\n",
       "      number_of_policies  customer_lifetime_value   income  effective_to_date  \n",
       "9003                 2.0             24826.891270  67572.0         2011-02-25  \n",
       "5931                 1.0              2511.697993  14906.0         2011-02-03  \n",
       "8506                 5.0              6290.699249      0.0         2011-01-21  \n",
       "7690                 2.0              9688.129179  24584.0         2011-02-01  \n",
       "6491                 2.0             17569.159790  41463.0         2011-02-18  \n",
       "\n",
       "[5 rows x 22 columns]"
      ]
     },
     "execution_count": 77,
     "metadata": {},
     "output_type": "execute_result"
    }
   ],
   "source": [
    "X_train.head()"
   ]
  },
  {
   "cell_type": "code",
   "execution_count": 78,
   "id": "f2fd9b41",
   "metadata": {},
   "outputs": [],
   "source": [
    "import datetime\n",
    "X_train['day_of_week'] = pd.DatetimeIndex(X_train['effective_to_date']).day_of_week\n",
    "X_train['month'] = X_train['effective_to_date'].dt.month"
   ]
  },
  {
   "cell_type": "code",
   "execution_count": 79,
   "id": "fa53a291",
   "metadata": {},
   "outputs": [],
   "source": [
    "X_test['day_of_week'] = pd.DatetimeIndex(X_test['effective_to_date']).day_of_week\n",
    "X_test['month'] = X_test['effective_to_date'].dt.month"
   ]
  },
  {
   "cell_type": "code",
   "execution_count": 80,
   "id": "35e04122",
   "metadata": {},
   "outputs": [
    {
     "data": {
      "text/html": [
       "<div>\n",
       "<style scoped>\n",
       "    .dataframe tbody tr th:only-of-type {\n",
       "        vertical-align: middle;\n",
       "    }\n",
       "\n",
       "    .dataframe tbody tr th {\n",
       "        vertical-align: top;\n",
       "    }\n",
       "\n",
       "    .dataframe thead th {\n",
       "        text-align: right;\n",
       "    }\n",
       "</style>\n",
       "<table border=\"1\" class=\"dataframe\">\n",
       "  <thead>\n",
       "    <tr style=\"text-align: right;\">\n",
       "      <th></th>\n",
       "      <th>day_of_week</th>\n",
       "      <th>month</th>\n",
       "    </tr>\n",
       "  </thead>\n",
       "  <tbody>\n",
       "    <tr>\n",
       "      <th>9003</th>\n",
       "      <td>4</td>\n",
       "      <td>2</td>\n",
       "    </tr>\n",
       "    <tr>\n",
       "      <th>5931</th>\n",
       "      <td>3</td>\n",
       "      <td>2</td>\n",
       "    </tr>\n",
       "    <tr>\n",
       "      <th>8506</th>\n",
       "      <td>4</td>\n",
       "      <td>1</td>\n",
       "    </tr>\n",
       "    <tr>\n",
       "      <th>7690</th>\n",
       "      <td>1</td>\n",
       "      <td>2</td>\n",
       "    </tr>\n",
       "    <tr>\n",
       "      <th>6491</th>\n",
       "      <td>4</td>\n",
       "      <td>2</td>\n",
       "    </tr>\n",
       "  </tbody>\n",
       "</table>\n",
       "</div>"
      ],
      "text/plain": [
       "      day_of_week  month\n",
       "9003            4      2\n",
       "5931            3      2\n",
       "8506            4      1\n",
       "7690            1      2\n",
       "6491            4      2"
      ]
     },
     "execution_count": 80,
     "metadata": {},
     "output_type": "execute_result"
    }
   ],
   "source": [
    "X_train_date = X_train[['day_of_week', 'month']]\n",
    "X_train_date.head()"
   ]
  },
  {
   "cell_type": "code",
   "execution_count": 81,
   "id": "84ef2245",
   "metadata": {},
   "outputs": [
    {
     "data": {
      "text/html": [
       "<div>\n",
       "<style scoped>\n",
       "    .dataframe tbody tr th:only-of-type {\n",
       "        vertical-align: middle;\n",
       "    }\n",
       "\n",
       "    .dataframe tbody tr th {\n",
       "        vertical-align: top;\n",
       "    }\n",
       "\n",
       "    .dataframe thead th {\n",
       "        text-align: right;\n",
       "    }\n",
       "</style>\n",
       "<table border=\"1\" class=\"dataframe\">\n",
       "  <thead>\n",
       "    <tr style=\"text-align: right;\">\n",
       "      <th></th>\n",
       "      <th>day_of_week</th>\n",
       "      <th>month</th>\n",
       "    </tr>\n",
       "  </thead>\n",
       "  <tbody>\n",
       "    <tr>\n",
       "      <th>5489</th>\n",
       "      <td>0</td>\n",
       "      <td>2</td>\n",
       "    </tr>\n",
       "    <tr>\n",
       "      <th>2043</th>\n",
       "      <td>2</td>\n",
       "      <td>1</td>\n",
       "    </tr>\n",
       "    <tr>\n",
       "      <th>4254</th>\n",
       "      <td>1</td>\n",
       "      <td>1</td>\n",
       "    </tr>\n",
       "    <tr>\n",
       "      <th>6088</th>\n",
       "      <td>6</td>\n",
       "      <td>2</td>\n",
       "    </tr>\n",
       "    <tr>\n",
       "      <th>5084</th>\n",
       "      <td>2</td>\n",
       "      <td>2</td>\n",
       "    </tr>\n",
       "  </tbody>\n",
       "</table>\n",
       "</div>"
      ],
      "text/plain": [
       "      day_of_week  month\n",
       "5489            0      2\n",
       "2043            2      1\n",
       "4254            1      1\n",
       "6088            6      2\n",
       "5084            2      2"
      ]
     },
     "execution_count": 81,
     "metadata": {},
     "output_type": "execute_result"
    }
   ],
   "source": [
    "X_test_date = X_test[['day_of_week', 'month']]\n",
    "X_test_date.head()"
   ]
  },
  {
   "cell_type": "markdown",
   "id": "0a0e77c5",
   "metadata": {},
   "source": [
    "#### 6. Since the model will only accept numerical data, check and make sure that every column is numerical, if some are not, change it using encoding."
   ]
  },
  {
   "cell_type": "markdown",
   "id": "b2993166",
   "metadata": {},
   "source": [
    "I will concatenate the scaled,encoded data"
   ]
  },
  {
   "cell_type": "code",
   "execution_count": 82,
   "id": "4bb4379a",
   "metadata": {},
   "outputs": [],
   "source": [
    "X_train_transformed = np.concatenate((X_train_standardized, X_train_encoded, X_train_ordinal, X_train_date), axis = 1)\n",
    "X_test_transformed = np.concatenate((X_test_standardized, X_test_encoded, X_test_ordinal, X_test_date), axis = 1)"
   ]
  },
  {
   "cell_type": "code",
   "execution_count": 83,
   "id": "79d2b724",
   "metadata": {},
   "outputs": [],
   "source": [
    "X_train_transformed = pd.DataFrame(X_train_transformed)\n",
    "X_test_transformed = pd.DataFrame(X_test_transformed)"
   ]
  },
  {
   "cell_type": "code",
   "execution_count": 84,
   "id": "d27221b3",
   "metadata": {},
   "outputs": [
    {
     "data": {
      "text/html": [
       "<div>\n",
       "<style scoped>\n",
       "    .dataframe tbody tr th:only-of-type {\n",
       "        vertical-align: middle;\n",
       "    }\n",
       "\n",
       "    .dataframe tbody tr th {\n",
       "        vertical-align: top;\n",
       "    }\n",
       "\n",
       "    .dataframe thead th {\n",
       "        text-align: right;\n",
       "    }\n",
       "</style>\n",
       "<table border=\"1\" class=\"dataframe\">\n",
       "  <thead>\n",
       "    <tr style=\"text-align: right;\">\n",
       "      <th></th>\n",
       "      <th>0</th>\n",
       "      <th>1</th>\n",
       "      <th>2</th>\n",
       "      <th>3</th>\n",
       "      <th>4</th>\n",
       "      <th>5</th>\n",
       "      <th>6</th>\n",
       "      <th>7</th>\n",
       "      <th>8</th>\n",
       "      <th>9</th>\n",
       "      <th>...</th>\n",
       "      <th>26</th>\n",
       "      <th>27</th>\n",
       "      <th>28</th>\n",
       "      <th>29</th>\n",
       "      <th>30</th>\n",
       "      <th>31</th>\n",
       "      <th>32</th>\n",
       "      <th>33</th>\n",
       "      <th>34</th>\n",
       "      <th>35</th>\n",
       "    </tr>\n",
       "  </thead>\n",
       "  <tbody>\n",
       "    <tr>\n",
       "      <th>0</th>\n",
       "      <td>0.262886</td>\n",
       "      <td>-0.806514</td>\n",
       "      <td>0.250869</td>\n",
       "      <td>-0.421863</td>\n",
       "      <td>-0.407330</td>\n",
       "      <td>2.650131</td>\n",
       "      <td>0.983342</td>\n",
       "      <td>1.0</td>\n",
       "      <td>0.0</td>\n",
       "      <td>0.0</td>\n",
       "      <td>...</td>\n",
       "      <td>0.0</td>\n",
       "      <td>1.0</td>\n",
       "      <td>0.0</td>\n",
       "      <td>0.0</td>\n",
       "      <td>0.0</td>\n",
       "      <td>2.0</td>\n",
       "      <td>2.0</td>\n",
       "      <td>0.0</td>\n",
       "      <td>4.0</td>\n",
       "      <td>2.0</td>\n",
       "    </tr>\n",
       "    <tr>\n",
       "      <th>1</th>\n",
       "      <td>-0.792211</td>\n",
       "      <td>1.579929</td>\n",
       "      <td>-1.714657</td>\n",
       "      <td>-0.421863</td>\n",
       "      <td>-0.824559</td>\n",
       "      <td>-0.841317</td>\n",
       "      <td>-0.756088</td>\n",
       "      <td>1.0</td>\n",
       "      <td>0.0</td>\n",
       "      <td>0.0</td>\n",
       "      <td>...</td>\n",
       "      <td>0.0</td>\n",
       "      <td>0.0</td>\n",
       "      <td>0.0</td>\n",
       "      <td>0.0</td>\n",
       "      <td>0.0</td>\n",
       "      <td>0.0</td>\n",
       "      <td>1.0</td>\n",
       "      <td>0.0</td>\n",
       "      <td>3.0</td>\n",
       "      <td>2.0</td>\n",
       "    </tr>\n",
       "    <tr>\n",
       "      <th>2</th>\n",
       "      <td>0.057728</td>\n",
       "      <td>-0.408774</td>\n",
       "      <td>-0.892710</td>\n",
       "      <td>-0.421863</td>\n",
       "      <td>0.844359</td>\n",
       "      <td>-0.250052</td>\n",
       "      <td>-1.248397</td>\n",
       "      <td>1.0</td>\n",
       "      <td>0.0</td>\n",
       "      <td>0.0</td>\n",
       "      <td>...</td>\n",
       "      <td>0.0</td>\n",
       "      <td>0.0</td>\n",
       "      <td>0.0</td>\n",
       "      <td>1.0</td>\n",
       "      <td>1.0</td>\n",
       "      <td>1.0</td>\n",
       "      <td>1.0</td>\n",
       "      <td>1.0</td>\n",
       "      <td>4.0</td>\n",
       "      <td>1.0</td>\n",
       "    </tr>\n",
       "    <tr>\n",
       "      <th>3</th>\n",
       "      <td>-0.792211</td>\n",
       "      <td>-0.408774</td>\n",
       "      <td>0.929868</td>\n",
       "      <td>-0.421863</td>\n",
       "      <td>-0.407330</td>\n",
       "      <td>0.281512</td>\n",
       "      <td>-0.436447</td>\n",
       "      <td>0.0</td>\n",
       "      <td>0.0</td>\n",
       "      <td>0.0</td>\n",
       "      <td>...</td>\n",
       "      <td>0.0</td>\n",
       "      <td>0.0</td>\n",
       "      <td>0.0</td>\n",
       "      <td>0.0</td>\n",
       "      <td>0.0</td>\n",
       "      <td>0.0</td>\n",
       "      <td>2.0</td>\n",
       "      <td>1.0</td>\n",
       "      <td>1.0</td>\n",
       "      <td>2.0</td>\n",
       "    </tr>\n",
       "    <tr>\n",
       "      <th>4</th>\n",
       "      <td>-0.557745</td>\n",
       "      <td>-1.303690</td>\n",
       "      <td>1.072816</td>\n",
       "      <td>-0.421863</td>\n",
       "      <td>-0.407330</td>\n",
       "      <td>1.514583</td>\n",
       "      <td>0.121025</td>\n",
       "      <td>0.0</td>\n",
       "      <td>0.0</td>\n",
       "      <td>1.0</td>\n",
       "      <td>...</td>\n",
       "      <td>1.0</td>\n",
       "      <td>0.0</td>\n",
       "      <td>0.0</td>\n",
       "      <td>0.0</td>\n",
       "      <td>0.0</td>\n",
       "      <td>2.0</td>\n",
       "      <td>1.0</td>\n",
       "      <td>1.0</td>\n",
       "      <td>4.0</td>\n",
       "      <td>2.0</td>\n",
       "    </tr>\n",
       "  </tbody>\n",
       "</table>\n",
       "<p>5 rows × 36 columns</p>\n",
       "</div>"
      ],
      "text/plain": [
       "         0         1         2         3         4         5         6    7   \\\n",
       "0  0.262886 -0.806514  0.250869 -0.421863 -0.407330  2.650131  0.983342  1.0   \n",
       "1 -0.792211  1.579929 -1.714657 -0.421863 -0.824559 -0.841317 -0.756088  1.0   \n",
       "2  0.057728 -0.408774 -0.892710 -0.421863  0.844359 -0.250052 -1.248397  1.0   \n",
       "3 -0.792211 -0.408774  0.929868 -0.421863 -0.407330  0.281512 -0.436447  0.0   \n",
       "4 -0.557745 -1.303690  1.072816 -0.421863 -0.407330  1.514583  0.121025  0.0   \n",
       "\n",
       "    8    9   ...   26   27   28   29   30   31   32   33   34   35  \n",
       "0  0.0  0.0  ...  0.0  1.0  0.0  0.0  0.0  2.0  2.0  0.0  4.0  2.0  \n",
       "1  0.0  0.0  ...  0.0  0.0  0.0  0.0  0.0  0.0  1.0  0.0  3.0  2.0  \n",
       "2  0.0  0.0  ...  0.0  0.0  0.0  1.0  1.0  1.0  1.0  1.0  4.0  1.0  \n",
       "3  0.0  0.0  ...  0.0  0.0  0.0  0.0  0.0  0.0  2.0  1.0  1.0  2.0  \n",
       "4  0.0  1.0  ...  1.0  0.0  0.0  0.0  0.0  2.0  1.0  1.0  4.0  2.0  \n",
       "\n",
       "[5 rows x 36 columns]"
      ]
     },
     "execution_count": 84,
     "metadata": {},
     "output_type": "execute_result"
    }
   ],
   "source": [
    "X_train_transformed.head()"
   ]
  },
  {
   "cell_type": "markdown",
   "id": "660a49a3",
   "metadata": {},
   "source": [
    "#### 8. Try a simple linear regression with all the data to see whether we are getting good results."
   ]
  },
  {
   "cell_type": "code",
   "execution_count": 85,
   "id": "1f4ef4bb",
   "metadata": {},
   "outputs": [],
   "source": [
    "from sklearn import linear_model\n",
    "from sklearn.metrics import r2_score"
   ]
  },
  {
   "cell_type": "code",
   "execution_count": 86,
   "id": "bf0cbb01",
   "metadata": {},
   "outputs": [
    {
     "data": {
      "text/html": [
       "<style>#sk-container-id-1 {color: black;background-color: white;}#sk-container-id-1 pre{padding: 0;}#sk-container-id-1 div.sk-toggleable {background-color: white;}#sk-container-id-1 label.sk-toggleable__label {cursor: pointer;display: block;width: 100%;margin-bottom: 0;padding: 0.3em;box-sizing: border-box;text-align: center;}#sk-container-id-1 label.sk-toggleable__label-arrow:before {content: \"▸\";float: left;margin-right: 0.25em;color: #696969;}#sk-container-id-1 label.sk-toggleable__label-arrow:hover:before {color: black;}#sk-container-id-1 div.sk-estimator:hover label.sk-toggleable__label-arrow:before {color: black;}#sk-container-id-1 div.sk-toggleable__content {max-height: 0;max-width: 0;overflow: hidden;text-align: left;background-color: #f0f8ff;}#sk-container-id-1 div.sk-toggleable__content pre {margin: 0.2em;color: black;border-radius: 0.25em;background-color: #f0f8ff;}#sk-container-id-1 input.sk-toggleable__control:checked~div.sk-toggleable__content {max-height: 200px;max-width: 100%;overflow: auto;}#sk-container-id-1 input.sk-toggleable__control:checked~label.sk-toggleable__label-arrow:before {content: \"▾\";}#sk-container-id-1 div.sk-estimator input.sk-toggleable__control:checked~label.sk-toggleable__label {background-color: #d4ebff;}#sk-container-id-1 div.sk-label input.sk-toggleable__control:checked~label.sk-toggleable__label {background-color: #d4ebff;}#sk-container-id-1 input.sk-hidden--visually {border: 0;clip: rect(1px 1px 1px 1px);clip: rect(1px, 1px, 1px, 1px);height: 1px;margin: -1px;overflow: hidden;padding: 0;position: absolute;width: 1px;}#sk-container-id-1 div.sk-estimator {font-family: monospace;background-color: #f0f8ff;border: 1px dotted black;border-radius: 0.25em;box-sizing: border-box;margin-bottom: 0.5em;}#sk-container-id-1 div.sk-estimator:hover {background-color: #d4ebff;}#sk-container-id-1 div.sk-parallel-item::after {content: \"\";width: 100%;border-bottom: 1px solid gray;flex-grow: 1;}#sk-container-id-1 div.sk-label:hover label.sk-toggleable__label {background-color: #d4ebff;}#sk-container-id-1 div.sk-serial::before {content: \"\";position: absolute;border-left: 1px solid gray;box-sizing: border-box;top: 0;bottom: 0;left: 50%;z-index: 0;}#sk-container-id-1 div.sk-serial {display: flex;flex-direction: column;align-items: center;background-color: white;padding-right: 0.2em;padding-left: 0.2em;position: relative;}#sk-container-id-1 div.sk-item {position: relative;z-index: 1;}#sk-container-id-1 div.sk-parallel {display: flex;align-items: stretch;justify-content: center;background-color: white;position: relative;}#sk-container-id-1 div.sk-item::before, #sk-container-id-1 div.sk-parallel-item::before {content: \"\";position: absolute;border-left: 1px solid gray;box-sizing: border-box;top: 0;bottom: 0;left: 50%;z-index: -1;}#sk-container-id-1 div.sk-parallel-item {display: flex;flex-direction: column;z-index: 1;position: relative;background-color: white;}#sk-container-id-1 div.sk-parallel-item:first-child::after {align-self: flex-end;width: 50%;}#sk-container-id-1 div.sk-parallel-item:last-child::after {align-self: flex-start;width: 50%;}#sk-container-id-1 div.sk-parallel-item:only-child::after {width: 0;}#sk-container-id-1 div.sk-dashed-wrapped {border: 1px dashed gray;margin: 0 0.4em 0.5em 0.4em;box-sizing: border-box;padding-bottom: 0.4em;background-color: white;}#sk-container-id-1 div.sk-label label {font-family: monospace;font-weight: bold;display: inline-block;line-height: 1.2em;}#sk-container-id-1 div.sk-label-container {text-align: center;}#sk-container-id-1 div.sk-container {/* jupyter's `normalize.less` sets `[hidden] { display: none; }` but bootstrap.min.css set `[hidden] { display: none !important; }` so we also need the `!important` here to be able to override the default hidden behavior on the sphinx rendered scikit-learn.org. See: https://github.com/scikit-learn/scikit-learn/issues/21755 */display: inline-block !important;position: relative;}#sk-container-id-1 div.sk-text-repr-fallback {display: none;}</style><div id=\"sk-container-id-1\" class=\"sk-top-container\"><div class=\"sk-text-repr-fallback\"><pre>LinearRegression()</pre><b>In a Jupyter environment, please rerun this cell to show the HTML representation or trust the notebook. <br />On GitHub, the HTML representation is unable to render, please try loading this page with nbviewer.org.</b></div><div class=\"sk-container\" hidden><div class=\"sk-item\"><div class=\"sk-estimator sk-toggleable\"><input class=\"sk-toggleable__control sk-hidden--visually\" id=\"sk-estimator-id-1\" type=\"checkbox\" checked><label for=\"sk-estimator-id-1\" class=\"sk-toggleable__label sk-toggleable__label-arrow\">LinearRegression</label><div class=\"sk-toggleable__content\"><pre>LinearRegression()</pre></div></div></div></div></div>"
      ],
      "text/plain": [
       "LinearRegression()"
      ]
     },
     "execution_count": 86,
     "metadata": {},
     "output_type": "execute_result"
    }
   ],
   "source": [
    "lm = linear_model.LinearRegression()\n",
    "lm.fit(X_train_transformed,y_train)"
   ]
  },
  {
   "cell_type": "code",
   "execution_count": 87,
   "id": "0fac2ca6",
   "metadata": {},
   "outputs": [
    {
     "data": {
      "text/plain": [
       "0.6121842725657056"
      ]
     },
     "execution_count": 87,
     "metadata": {},
     "output_type": "execute_result"
    }
   ],
   "source": [
    "predictions = lm.predict(X_train_transformed)\n",
    "r2_score(y_train, predictions)"
   ]
  },
  {
   "cell_type": "code",
   "execution_count": 88,
   "id": "a7071141",
   "metadata": {},
   "outputs": [
    {
     "data": {
      "text/plain": [
       "0.6170408300105161"
      ]
     },
     "execution_count": 88,
     "metadata": {},
     "output_type": "execute_result"
    }
   ],
   "source": [
    "predictions_test = lm.predict(X_test_transformed)\n",
    "r2_score(y_test, predictions_test)"
   ]
  },
  {
   "cell_type": "markdown",
   "id": "ab189bd9",
   "metadata": {},
   "source": [
    "#### 9. Great! Now define a function that takes a list of models and train (and tests) them so we can try a lot of them without repeating code."
   ]
  },
  {
   "cell_type": "code",
   "execution_count": 89,
   "id": "f0a0f5e2",
   "metadata": {},
   "outputs": [],
   "source": [
    "def reg_models(X_train_transformed, X_test_transformed, y_train, y_test):\n",
    "\n",
    "\n",
    "    # linear regression model\n",
    "    from sklearn.metrics import r2_score  \n",
    "    lm = linear_model.LinearRegression()\n",
    "    lm.fit(X_train_transformed,y_train)\n",
    "    \n",
    "    predictions = lm.predict(X_train_transformed)\n",
    "    predictions_test = lm.predict(X_test_transformed)\n",
    "    r2_lm = r2_score(y_test, predictions_test)\n",
    "\n",
    "\n",
    "    # KNN Regressor\n",
    "    from sklearn.neighbors import KNeighborsRegressor\n",
    "    KNN = KNeighborsRegressor(n_neighbors=3)\n",
    "    KNN.fit(X_train_transformed, y_train)\n",
    "    r2_KNN = KNN.score(X_test_transformed, y_test)\n",
    "\n",
    "    # MLP Regressor\n",
    "    from sklearn.neural_network import MLPRegressor\n",
    "    regr = MLPRegressor(random_state=1, max_iter=200).fit(X_train_transformed, y_train)\n",
    "    regr.predict(X_test_transformed[:2])\n",
    "    r2_MLP = regr.score(X_test_transformed, y_test)\n",
    "    \n",
    "    return print('r2 score', '\\n', 'for Linear Model is: ', r2_lm, '\\n', 'for KNN regressor is: ', r2_KNN, '\\n', 'for MLP regressor is: ', r2_MLP)"
   ]
  },
  {
   "cell_type": "markdown",
   "id": "ea6aba42",
   "metadata": {},
   "source": [
    "#### 10. Use the function to check LinearRegressor and KNeighborsRegressor.\n",
    "#### 11. You can check also the MLPRegressor for this task!"
   ]
  },
  {
   "cell_type": "code",
   "execution_count": 90,
   "id": "97261943",
   "metadata": {},
   "outputs": [
    {
     "name": "stdout",
     "output_type": "stream",
     "text": [
      "r2 score \n",
      " for Linear Model is:  0.6170408300105161 \n",
      " for KNN regressor is:  0.564305209932337 \n",
      " for MLP regressor is:  0.7895711604157174\n"
     ]
    },
    {
     "name": "stderr",
     "output_type": "stream",
     "text": [
      "C:\\Users\\aslis\\anaconda3\\lib\\site-packages\\sklearn\\neural_network\\_multilayer_perceptron.py:679: ConvergenceWarning: Stochastic Optimizer: Maximum iterations (200) reached and the optimization hasn't converged yet.\n",
      "  warnings.warn(\n"
     ]
    }
   ],
   "source": [
    "reg_models(X_train_transformed, X_test_transformed, y_train, y_test)"
   ]
  },
  {
   "cell_type": "markdown",
   "id": "dae759d5",
   "metadata": {},
   "source": [
    "#### 12. Check and discuss the results."
   ]
  },
  {
   "cell_type": "markdown",
   "id": "a987d83d",
   "metadata": {},
   "source": [
    "r2 score is the highest with MLP regressor. We could say this model is the best fit for this data."
   ]
  },
  {
   "cell_type": "markdown",
   "id": "6e079b70",
   "metadata": {},
   "source": [
    "# Lab 4.06 Random Variable Distributions"
   ]
  },
  {
   "cell_type": "markdown",
   "id": "e2d16d44",
   "metadata": {},
   "source": [
    "#### 1. Get the numerical variables from our dataset.\n",
    "#### 2. Check using a distribution plot if the variables fit the theoretical normal or exponential distribution.\n",
    "#### 3. Check if any of the transformations (log-transform, etc.) we have seen up to this point changes the result."
   ]
  },
  {
   "cell_type": "markdown",
   "id": "0cc71a83",
   "metadata": {},
   "source": [
    "I don't see any normal distribution. But for the customer_lifetime_value, I will apply log transform. It looks like exponential distribution."
   ]
  },
  {
   "cell_type": "markdown",
   "id": "0c355a8d",
   "metadata": {},
   "source": [
    "I added cells above for log transform and re-runned it."
   ]
  },
  {
   "cell_type": "markdown",
   "id": "f9c72d6e",
   "metadata": {},
   "source": [
    "r2 score \n",
    " for Linear Model is:  0.6176559426773516 \n",
    " for KNN regressor is:  0.5798003961844445 \n",
    " for MLP regressor is:  0.7926598191103865"
   ]
  },
  {
   "cell_type": "markdown",
   "id": "c76acda6",
   "metadata": {},
   "source": [
    "Score was almost same"
   ]
  },
  {
   "cell_type": "code",
   "execution_count": null,
   "id": "543bc99b",
   "metadata": {},
   "outputs": [],
   "source": []
  }
 ],
 "metadata": {
  "kernelspec": {
   "display_name": "Python 3 (ipykernel)",
   "language": "python",
   "name": "python3"
  },
  "language_info": {
   "codemirror_mode": {
    "name": "ipython",
    "version": 3
   },
   "file_extension": ".py",
   "mimetype": "text/x-python",
   "name": "python",
   "nbconvert_exporter": "python",
   "pygments_lexer": "ipython3",
   "version": "3.9.12"
  }
 },
 "nbformat": 4,
 "nbformat_minor": 5
}
